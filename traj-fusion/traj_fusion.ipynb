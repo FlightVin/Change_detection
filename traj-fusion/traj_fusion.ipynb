{
 "cells": [
  {
   "cell_type": "code",
   "execution_count": 1,
   "metadata": {},
   "outputs": [
    {
     "name": "stdout",
     "output_type": "stream",
     "text": [
      "Jupyter environment detected. Enabling Open3D WebVisualizer.\n",
      "[Open3D INFO] WebRTC GUI backend enabled.\n",
      "[Open3D INFO] WebRTCWindowSystem: HTTP handshake server disabled.\n"
     ]
    }
   ],
   "source": [
    "import open3d as o3d\n",
    "import sys\n",
    "import numpy as np\n",
    "from copy import deepcopy"
   ]
  },
  {
   "cell_type": "code",
   "execution_count": 2,
   "metadata": {},
   "outputs": [],
   "source": [
    "source_pcd = o3d.io.read_point_cloud(\"./vin-experiments/source_mem_2_1100_80_0.pcd\")\n",
    "target_pcd = o3d.io.read_point_cloud(\"./vin-experiments/target_mem_822_1700_80_0.pcd\")"
   ]
  },
  {
   "cell_type": "code",
   "execution_count": 3,
   "metadata": {},
   "outputs": [],
   "source": [
    "o3d.visualization.draw_geometries([source_pcd])"
   ]
  },
  {
   "cell_type": "code",
   "execution_count": 4,
   "metadata": {},
   "outputs": [],
   "source": [
    "bbsize = 5"
   ]
  },
  {
   "cell_type": "code",
   "execution_count": 5,
   "metadata": {},
   "outputs": [],
   "source": [
    "box = o3d.geometry.TriangleMesh.create_box(width=bbsize, depth=bbsize, height=0.00001)\n",
    "box.paint_uniform_color([0.0, 0.5, 0.5])\n",
    "\n",
    "box = box.translate([10, -1, -0.4])\n",
    "\n",
    "o3d.visualization.draw_geometries([source_pcd, box])"
   ]
  },
  {
   "cell_type": "code",
   "execution_count": 6,
   "metadata": {},
   "outputs": [],
   "source": [
    "source_sliding_window = []\n",
    "\n",
    "source_box_centers = [\n",
    "    [3, -1, 2],\n",
    "    [5, -1, 2],\n",
    "    [7, -1, 2],\n",
    "    [9, -1, 2],\n",
    "    [11, -1, 2],\n",
    "    [13, -1, 2],\n",
    "]\n",
    "\n",
    "for i in source_box_centers:\n",
    "    x_min = i[0] - bbsize/2\n",
    "    x_max = i[0] + bbsize/2\n",
    "    z_min = i[2] - bbsize/2\n",
    "    z_max = i[2] + bbsize/2\n",
    "\n",
    "    # Filter points based on criteria\n",
    "    filtered_points = []\n",
    "    for point in source_pcd.points:\n",
    "        if x_min < point[0] < x_max and z_min < point[2] < z_max:\n",
    "            filtered_points.append(point)\n",
    "\n",
    "    # Convert filtered points to a new point cloud\n",
    "    filtered_point_cloud = o3d.geometry.PointCloud()\n",
    "    filtered_point_cloud.points = o3d.utility.Vector3dVector(np.array(filtered_points))\n",
    "\n",
    "    box = o3d.geometry.TriangleMesh.create_box(width=bbsize, depth=bbsize, height=0.00001)\n",
    "    box.paint_uniform_color([0.0, 0.5, 0.5])\n",
    "\n",
    "    box = box.translate(i)\n",
    "\n",
    "    # o3d.visualization.draw_geometries([filtered_point_cloud])\n",
    "\n",
    "    source_sliding_window.append([filtered_point_cloud, np.array(i)])\n"
   ]
  },
  {
   "cell_type": "code",
   "execution_count": 7,
   "metadata": {},
   "outputs": [],
   "source": [
    "target_sliding_window = []\n",
    "\n",
    "target_box_centers = [\n",
    "    [9, -1, 2],\n",
    "    [11, -1, 2],\n",
    "    [13, -1, 2],\n",
    "    [13, -1, 4],\n",
    "    [13, -1, 6]\n",
    "]\n",
    "\n",
    "for i in target_box_centers:\n",
    "    x_min = i[0] - bbsize/2\n",
    "    x_max = i[0] + bbsize/2\n",
    "    z_min = i[2] - bbsize/2\n",
    "    z_max = i[2] + bbsize/2\n",
    "\n",
    "    # Filter points based on criteria\n",
    "    filtered_points = []\n",
    "    for point in target_pcd.points:\n",
    "        if x_min < point[0] < x_max and z_min < point[2] < z_max:\n",
    "            filtered_points.append(point)\n",
    "\n",
    "    # Convert filtered points to a new point cloud\n",
    "    filtered_point_cloud = o3d.geometry.PointCloud()\n",
    "    filtered_point_cloud.points = o3d.utility.Vector3dVector(np.array(filtered_points))\n",
    "\n",
    "    # o3d.visualization.draw_geometries([filtered_point_cloud])\n",
    "\n",
    "    target_sliding_window.append([filtered_point_cloud, np.array(i)])"
   ]
  },
  {
   "cell_type": "code",
   "execution_count": 8,
   "metadata": {},
   "outputs": [],
   "source": [
    "def downsample_and_compute_fpfh(pcd, voxel_size):\n",
    "    # Downsample the point cloud using Voxel Grid\n",
    "    pcd_down = deepcopy(pcd)\n",
    "\n",
    "    radius_normal = voxel_size * 2\n",
    "    pcd_down.estimate_normals(\n",
    "        o3d.geometry.KDTreeSearchParamHybrid(radius=radius_normal, max_nn=30))\n",
    "\n",
    "    radius_feature = voxel_size * 5\n",
    "    pcd_fpfh = o3d.pipelines.registration.compute_fpfh_feature(\n",
    "        pcd_down,\n",
    "        o3d.geometry.KDTreeSearchParamHybrid(radius=radius_feature, max_nn=100))\n",
    "    return pcd_down, pcd_fpfh\n",
    "\n",
    "def register_point_clouds(source, target, voxel_size = 0.05, global_dist_factor = 1.5, local_dist_factor = 0.4):\n",
    "    source_down, source_fpfh = downsample_and_compute_fpfh(source, voxel_size)\n",
    "    target_down, target_fpfh = downsample_and_compute_fpfh(target, voxel_size)\n",
    "\n",
    "    distance_threshold = voxel_size * global_dist_factor\n",
    "    # print(\":: RANSAC registration on downsampled point clouds.\")\n",
    "    # print(\"   Since the downsampling voxel size is %.3f,\" % voxel_size)\n",
    "    # print(\"   we use a liberal distance threshold %.3f.\" % distance_threshold)\n",
    "    result_ransac = o3d.pipelines.registration.registration_ransac_based_on_feature_matching(\n",
    "        source_down, target_down, source_fpfh, target_fpfh, True,\n",
    "        distance_threshold,\n",
    "        o3d.pipelines.registration.TransformationEstimationPointToPoint(False),\n",
    "        3, [\n",
    "            o3d.pipelines.registration.CorrespondenceCheckerBasedOnEdgeLength(\n",
    "                0.9),\n",
    "            o3d.pipelines.registration.CorrespondenceCheckerBasedOnDistance(\n",
    "                distance_threshold)\n",
    "        ], o3d.pipelines.registration.RANSACConvergenceCriteria(4000000, 500))\n",
    "\n",
    "    # Refine the registration using ICP\n",
    "    result_icp = o3d.pipelines.registration.registration_icp(\n",
    "        source_down, target_down, voxel_size*local_dist_factor, result_ransac.transformation,\n",
    "        o3d.pipelines.registration.TransformationEstimationPointToPoint()\n",
    "    )\n",
    "\n",
    "    return result_icp"
   ]
  },
  {
   "cell_type": "code",
   "execution_count": 9,
   "metadata": {},
   "outputs": [
    {
     "name": "stdout",
     "output_type": "stream",
     "text": [
      "0 0:\t Inlier RMSE - 0.00956992530017373\t Fitness: 0.19115248326677542\n",
      "0 1:\t Inlier RMSE - 0.010042851986663812\t Fitness: 0.2972889363856235\n",
      "0 2:\t Inlier RMSE - 0.009603991569782753\t Fitness: 0.23865234265144272\n",
      "0 3:\t Inlier RMSE - 0.010855564940830226\t Fitness: 0.20040497215816414\n",
      "0 4:\t Inlier RMSE - 0.011890449848003625\t Fitness: 0.11707632600258733\n",
      "1 0:\t Inlier RMSE - 0.005571396400631606\t Fitness: 0.2745846261635472\n",
      "1 1:\t Inlier RMSE - 0.009379070366875228\t Fitness: 0.30339805825242716\n",
      "1 2:\t Inlier RMSE - 0.010804576152020602\t Fitness: 0.2514888399559604\n",
      "1 3:\t Inlier RMSE - 0.01144006130007466\t Fitness: 0.1771969772795516\n",
      "1 4:\t Inlier RMSE - 0.006187853787376651\t Fitness: 0.2878215393854469\n",
      "2 0:\t Inlier RMSE - 0.005506929119386676\t Fitness: 0.18635036276605352\n",
      "2 1:\t Inlier RMSE - 0.006156314839654624\t Fitness: 0.22525363518680194\n",
      "2 2:\t Inlier RMSE - 0.01186400020931146\t Fitness: 0.12376192913267303\n",
      "2 3:\t Inlier RMSE - 0.006499498654324729\t Fitness: 0.27185627841165666\n",
      "2 4:\t Inlier RMSE - 0.011339429594836957\t Fitness: 0.13995845500797785\n",
      "3 0:\t Inlier RMSE - 0.0054621610236848285\t Fitness: 0.17711396321131243\n",
      "3 1:\t Inlier RMSE - 0.011747734329230233\t Fitness: 0.09813721698904804\n",
      "3 2:\t Inlier RMSE - 0.011858536054039094\t Fitness: 0.097174085937557\n",
      "3 3:\t Inlier RMSE - 0.008411394992523228\t Fitness: 0.2294148978862192\n",
      "3 4:\t Inlier RMSE - 0.011621088097385796\t Fitness: 0.11518171802149534\n",
      "4 0:\t Inlier RMSE - 0.00648086750170239\t Fitness: 0.17600588073792633\n",
      "4 1:\t Inlier RMSE - 0.006453740149364797\t Fitness: 0.36989310164642947\n",
      "4 2:\t Inlier RMSE - 0.006737948193478028\t Fitness: 0.36164766940333537\n",
      "4 3:\t Inlier RMSE - 0.007488785320488477\t Fitness: 0.17705980816749475\n",
      "4 4:\t Inlier RMSE - 0.006460726168674128\t Fitness: 0.26050606229685325\n",
      "5 0:\t Inlier RMSE - 0.006913602460157027\t Fitness: 0.24740526556079745\n",
      "5 1:\t Inlier RMSE - 0.0064555123334999985\t Fitness: 0.6356262364936843\n",
      "5 2:\t Inlier RMSE - 0.007405165612659876\t Fitness: 0.6623649368437072\n",
      "5 3:\t Inlier RMSE - 0.008802138026544792\t Fitness: 0.26775224471161163\n",
      "5 4:\t Inlier RMSE - 0.006222276672687266\t Fitness: 0.3633541317912038\n"
     ]
    }
   ],
   "source": [
    "results = []\n",
    "\n",
    "for i, (source_slide_pcd, source_slide_pose) in enumerate(source_sliding_window):\n",
    "    for j, (target_slide_pcd, target_slide_pose) in enumerate(target_sliding_window):\n",
    "\n",
    "        cur_source_slide_pcd = deepcopy(source_slide_pcd)\n",
    "        cur_target_slide_pcd = deepcopy(target_slide_pcd)\n",
    "\n",
    "        # o3d.visualization.draw_geometries([cur_source_slide_pcd, cur_target_slide_pcd])\n",
    "\n",
    "        # mean centering\n",
    "        cur_source_slide_pcd = cur_source_slide_pcd.translate(-source_slide_pose)\n",
    "        cur_target_slide_pcd = cur_target_slide_pcd.translate(-target_slide_pose)\n",
    "\n",
    "        # registration\n",
    "\n",
    "        # o3d.visualization.draw_geometries([cur_source_slide_pcd, cur_target_slide_pcd])\n",
    "\n",
    "        result = register_point_clouds(cur_source_slide_pcd, cur_target_slide_pcd)\n",
    "\n",
    "        print(f\"{i} {j}:\\t Inlier RMSE - {result.inlier_rmse}\\t Fitness: {result.fitness}\")\n",
    "\n",
    "        cur_target_slide_pcd = cur_target_slide_pcd.transform(result.transformation)\n",
    "\n",
    "        # o3d.visualization.draw_geometries([cur_source_slide_pcd, cur_target_slide_pcd])\n",
    "\n",
    "        results.append([i, j, result.inlier_rmse, result.fitness, result.transformation])"
   ]
  },
  {
   "cell_type": "code",
   "execution_count": 24,
   "metadata": {},
   "outputs": [],
   "source": [
    "cur_source_slide_pcd = deepcopy(source_sliding_window[5][0])\n",
    "cur_target_slide_pcd = deepcopy(target_sliding_window[1][0])\n",
    "\n",
    "cur_target_slide_pcd = cur_target_slide_pcd.transform(results[26][4])\n",
    "\n",
    "o3d.visualization.draw_geometries([cur_source_slide_pcd, cur_target_slide_pcd])\n",
    "\n",
    "cur_source_slide_pcd = deepcopy(source_sliding_window[5][0])\n",
    "cur_target_slide_pcd = deepcopy(target_sliding_window[2][0])\n",
    "\n",
    "cur_target_slide_pcd = cur_target_slide_pcd.transform(results[27][4])\n",
    "\n",
    "o3d.visualization.draw_geometries([cur_source_slide_pcd, cur_target_slide_pcd])\n"
   ]
  },
  {
   "cell_type": "code",
   "execution_count": 10,
   "metadata": {},
   "outputs": [
    {
     "name": "stdout",
     "output_type": "stream",
     "text": [
      "0 0:\t Inlier RMSE - 0.008019880139090177\t Fitness: 0.00227796838967321\n",
      "0 1:\t Inlier RMSE - 0.012194382262289128\t Fitness: 0.05866471680071995\n",
      "0 2:\t Inlier RMSE - 0.010956446333373605\t Fitness: 0.036981832499015696\n",
      "0 3:\t Inlier RMSE - 0.011391774170697028\t Fitness: 0.014399010068057822\n",
      "0 4:\t Inlier RMSE - 0.0\t Fitness: 0.0\n",
      "1 0:\t Inlier RMSE - 0.011246237459574756\t Fitness: 0.007143929536582925\n",
      "1 1:\t Inlier RMSE - 0.011182181441408418\t Fitness: 0.002790011009908918\n",
      "1 2:\t Inlier RMSE - 0.012375891321438145\t Fitness: 0.02592333099789811\n",
      "1 3:\t Inlier RMSE - 0.011512315631132567\t Fitness: 0.02121909718746872\n",
      "1 4:\t Inlier RMSE - 0.011021785546642685\t Fitness: 0.010809728755880292\n",
      "2 0:\t Inlier RMSE - 0.01180457025511419\t Fitness: 0.002754613601469127\n",
      "2 1:\t Inlier RMSE - 0.011374038478191123\t Fitness: 0.012719390673450341\n",
      "2 2:\t Inlier RMSE - 0.012544928654171299\t Fitness: 0.007737002137459734\n",
      "2 3:\t Inlier RMSE - 0.01142240005319002\t Fitness: 0.011417346539422585\n",
      "2 4:\t Inlier RMSE - 0.011187812509748742\t Fitness: 0.0021449860011439927\n",
      "3 0:\t Inlier RMSE - 0.0066606581763163095\t Fitness: 0.09966947093460195\n",
      "3 1:\t Inlier RMSE - 0.010952646228718287\t Fitness: 0.004655133415539974\n",
      "3 2:\t Inlier RMSE - 0.011178182965901246\t Fitness: 0.012491517879944255\n",
      "3 3:\t Inlier RMSE - 0.01194528475436451\t Fitness: 0.008463878937345407\n",
      "3 4:\t Inlier RMSE - 0.009247578545185388\t Fitness: 0.012520703669383378\n",
      "4 0:\t Inlier RMSE - 0.0\t Fitness: 0.0\n",
      "4 1:\t Inlier RMSE - 0.006453753738178001\t Fitness: 0.3700348061747748\n",
      "4 2:\t Inlier RMSE - 0.0118099351804746\t Fitness: 0.010096447644605043\n",
      "4 3:\t Inlier RMSE - 0.011744601117220265\t Fitness: 0.007891170922230784\n",
      "4 4:\t Inlier RMSE - 0.011774703853762449\t Fitness: 0.00633242111043211\n",
      "5 0:\t Inlier RMSE - 0.0\t Fitness: 0.0\n",
      "5 1:\t Inlier RMSE - 0.011596652582412511\t Fitness: 0.022371024197230253\n",
      "5 2:\t Inlier RMSE - 0.006828763502929877\t Fitness: 0.7512555166641303\n",
      "5 3:\t Inlier RMSE - 0.011541619531008095\t Fitness: 0.024410287627453963\n",
      "5 4:\t Inlier RMSE - 0.011426148204802913\t Fitness: 0.01022675391873383\n"
     ]
    }
   ],
   "source": [
    "results2 = []\n",
    "\n",
    "\n",
    "def register_point_clouds_new(source, target, voxel_size = 0.05, global_dist_factor = 1.5, local_dist_factor = 0.4):\n",
    "    source_down, source_fpfh = downsample_and_compute_fpfh(source, voxel_size)\n",
    "    target_down, target_fpfh = downsample_and_compute_fpfh(target, voxel_size)\n",
    "\n",
    "    distance_threshold = voxel_size * global_dist_factor\n",
    "    # print(\":: RANSAC registration on downsampled point clouds.\")\n",
    "    # print(\"   Since the downsampling voxel size is %.3f,\" % voxel_size)\n",
    "    # print(\"   we use a liberal distance threshold %.3f.\" % distance_threshold)\n",
    "    result_ransac = o3d.pipelines.registration.registration_ransac_based_on_feature_matching(\n",
    "        source_down, target_down, source_fpfh, target_fpfh, True,\n",
    "        distance_threshold,\n",
    "        o3d.pipelines.registration.TransformationEstimationPointToPoint(False),\n",
    "        3, [\n",
    "            o3d.pipelines.registration.CorrespondenceCheckerBasedOnEdgeLength(\n",
    "                0.9),\n",
    "            o3d.pipelines.registration.CorrespondenceCheckerBasedOnDistance(\n",
    "                distance_threshold)\n",
    "        ], o3d.pipelines.registration.RANSACConvergenceCriteria(400, 120))\n",
    "\n",
    "    # Refine the registration using ICP\n",
    "    result_icp = o3d.pipelines.registration.registration_icp(\n",
    "        source_down, target_down, voxel_size*local_dist_factor, result_ransac.transformation,\n",
    "        o3d.pipelines.registration.TransformationEstimationPointToPoint()\n",
    "    )\n",
    "\n",
    "    return result_icp\n",
    "\n",
    "for i, (source_slide_pcd, source_slide_pose) in enumerate(source_sliding_window):\n",
    "    for j, (target_slide_pcd, target_slide_pose) in enumerate(target_sliding_window):\n",
    "\n",
    "        cur_source_slide_pcd = deepcopy(source_slide_pcd)\n",
    "        cur_target_slide_pcd = deepcopy(target_slide_pcd)\n",
    "\n",
    "        # o3d.visualization.draw_geometries([cur_source_slide_pcd, cur_target_slide_pcd])\n",
    "\n",
    "        # mean centering\n",
    "        cur_source_slide_pcd = cur_source_slide_pcd.translate(-source_slide_pose)\n",
    "        cur_target_slide_pcd = cur_target_slide_pcd.translate(-target_slide_pose)\n",
    "\n",
    "        # registration\n",
    "\n",
    "        # o3d.visualization.draw_geometries([cur_source_slide_pcd, cur_target_slide_pcd])\n",
    "\n",
    "        result = register_point_clouds_new(cur_source_slide_pcd, cur_target_slide_pcd)\n",
    "\n",
    "        print(f\"{i} {j}:\\t Inlier RMSE - {result.inlier_rmse}\\t Fitness: {result.fitness}\")\n",
    "\n",
    "        cur_target_slide_pcd = cur_target_slide_pcd.transform(result.transformation)\n",
    "\n",
    "        # o3d.visualization.draw_geometries([cur_source_slide_pcd, cur_target_slide_pcd])\n",
    "\n",
    "        results2.append([i, j, result.inlier_rmse, result.fitness, result.transformation])"
   ]
  },
  {
   "cell_type": "code",
   "execution_count": 25,
   "metadata": {},
   "outputs": [],
   "source": [
    "cur_source_slide_pcd = deepcopy(source_sliding_window[5][0])\n",
    "cur_target_slide_pcd = deepcopy(target_sliding_window[1][0])\n",
    "\n",
    "cur_target_slide_pcd = cur_target_slide_pcd.transform(results2[26][4])\n",
    "\n",
    "o3d.visualization.draw_geometries([cur_source_slide_pcd, cur_target_slide_pcd])\n",
    "\n",
    "cur_source_slide_pcd = deepcopy(source_sliding_window[5][0])\n",
    "cur_target_slide_pcd = deepcopy(target_sliding_window[2][0])\n",
    "\n",
    "cur_target_slide_pcd = cur_target_slide_pcd.transform(results2[27][4])\n",
    "\n",
    "o3d.visualization.draw_geometries([cur_source_slide_pcd, cur_target_slide_pcd])\n"
   ]
  },
  {
   "cell_type": "code",
   "execution_count": 28,
   "metadata": {},
   "outputs": [],
   "source": [
    "results_copy = deepcopy(results)\n",
    "results2_copy = deepcopy(results2)"
   ]
  },
  {
   "cell_type": "code",
   "execution_count": 29,
   "metadata": {},
   "outputs": [],
   "source": [
    "import pickle as pk"
   ]
  },
  {
   "cell_type": "code",
   "execution_count": 30,
   "metadata": {},
   "outputs": [],
   "source": [
    "# with open(\"results.pkl\", \"wb\") as f:\n",
    "#     pk.dump(results, f)"
   ]
  },
  {
   "cell_type": "code",
   "execution_count": 31,
   "metadata": {},
   "outputs": [],
   "source": [
    "# with open(\"results2.pkl\", \"wb\") as f:\n",
    "#     pk.dump(results2, f)"
   ]
  },
  {
   "cell_type": "code",
   "execution_count": 59,
   "metadata": {},
   "outputs": [],
   "source": [
    "def do_it(results):\n",
    "    max_fitness, max_fitness_ind = -1, -1\n",
    "\n",
    "    for idx, (i, j, inlier_rmse, fitness, transformation) in enumerate(results):\n",
    "        if fitness > max_fitness:\n",
    "            max_fitness = fitness\n",
    "            max_fitness_ind = idx\n",
    "            \n",
    "\n",
    "    i, j, inlier_rmse, fitness, transformation = results[max_fitness_ind]\n",
    "\n",
    "    print(f\"Using source sliding window {i} and target sliding window {j} with fitness {fitness}\")\n",
    "\n",
    "    cur_source_slide_pcd = deepcopy(source_sliding_window[i][0])\n",
    "    cur_target_slide_pcd = deepcopy(target_sliding_window[j][0])\n",
    "\n",
    "    cur_target_slide_pcd = cur_target_slide_pcd.transform(transformation)\n",
    "\n",
    "    o3d.visualization.draw_geometries([cur_source_slide_pcd, cur_target_slide_pcd])\n",
    "\n",
    "    source_pcd_copy = deepcopy(source_pcd)\n",
    "    target_pcd_copy = deepcopy(target_pcd)\n",
    "\n",
    "    source_pcd_copy.translate(-source_sliding_window[i][1])    \n",
    "    target_pcd_copy.translate(-target_sliding_window[j][1])\n",
    "\n",
    "    target_pcd_copy = target_pcd_copy.transform(transformation)\n",
    "\n",
    "    o3d.visualization.draw_geometries([source_pcd_copy, target_pcd_copy])"
   ]
  },
  {
   "cell_type": "code",
   "execution_count": 61,
   "metadata": {},
   "outputs": [
    {
     "name": "stdout",
     "output_type": "stream",
     "text": [
      "Using source sliding window 5 and target sliding window 2 with fitness 0.6623649368437072\n"
     ]
    }
   ],
   "source": [
    "do_it(results)"
   ]
  },
  {
   "cell_type": "code",
   "execution_count": 56,
   "metadata": {},
   "outputs": [],
   "source": [
    "source_pcd_copy = deepcopy(source_pcd)\n",
    "target_pcd_copy = deepcopy(target_pcd)\n",
    "\n",
    "target_pcd_copy.translate([10, 10, 10])\n",
    "\n",
    "o3d.visualization.draw_geometries([target_pcd_copy])"
   ]
  },
  {
   "cell_type": "code",
   "execution_count": null,
   "metadata": {},
   "outputs": [],
   "source": []
  }
 ],
 "metadata": {
  "kernelspec": {
   "display_name": "mobile-robotics",
   "language": "python",
   "name": "python3"
  },
  "language_info": {
   "codemirror_mode": {
    "name": "ipython",
    "version": 3
   },
   "file_extension": ".py",
   "mimetype": "text/x-python",
   "name": "python",
   "nbconvert_exporter": "python",
   "pygments_lexer": "ipython3",
   "version": "3.8.18"
  }
 },
 "nbformat": 4,
 "nbformat_minor": 2
}
