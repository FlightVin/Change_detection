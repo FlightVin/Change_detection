{
  "cells": [
    {
      "cell_type": "code",
      "execution_count": null,
      "metadata": {
        "colab": {
          "base_uri": "https://localhost:8080/"
        },
        "id": "_H35Wyhp4VZp",
        "outputId": "65e89ea0-86a8-42f4-f65e-bb7d2766c8b3"
      },
      "outputs": [
        {
          "output_type": "stream",
          "name": "stdout",
          "text": [
            "Drive already mounted at /content/drive; to attempt to forcibly remount, call drive.mount(\"/content/drive\", force_remount=True).\n"
          ]
        }
      ],
      "source": [
        "from google.colab import drive\n",
        "drive.mount('/content/drive')"
      ]
    },
    {
      "cell_type": "markdown",
      "metadata": {
        "id": "kAi4IkEfKi5K"
      },
      "source": [
        "## Install"
      ]
    },
    {
      "cell_type": "code",
      "execution_count": null,
      "metadata": {
        "colab": {
          "base_uri": "https://localhost:8080/"
        },
        "id": "uSJqZHr3JTSB",
        "outputId": "2ec9377a-b4f7-4484-87d0-84aeea4acff0"
      },
      "outputs": [
        {
          "output_type": "stream",
          "name": "stdout",
          "text": [
            "/content\n",
            "fatal: destination path 'Grounded-Segment-Anything' already exists and is not an empty directory.\n",
            "/content/Grounded-Segment-Anything\n",
            "/content/Grounded-Segment-Anything/GroundingDINO\n",
            "  Installing build dependencies ... \u001b[?25l\u001b[?25hcanceled\n",
            "\u001b[31mERROR: Operation cancelled by user\u001b[0m\u001b[31m\n",
            "\u001b[0mTraceback (most recent call last):\n",
            "  File \"/usr/local/lib/python3.10/dist-packages/pip/_internal/cli/base_command.py\", line 169, in exc_logging_wrapper\n",
            "    status = run_func(*args)\n",
            "  File \"/usr/local/lib/python3.10/dist-packages/pip/_internal/cli/req_command.py\", line 242, in wrapper\n",
            "    return func(self, options, args)\n",
            "  File \"/usr/local/lib/python3.10/dist-packages/pip/_internal/commands/install.py\", line 377, in run\n",
            "    requirement_set = resolver.resolve(\n",
            "  File \"/usr/local/lib/python3.10/dist-packages/pip/_internal/resolution/resolvelib/resolver.py\", line 73, in resolve\n",
            "    collected = self.factory.collect_root_requirements(root_reqs)\n",
            "  File \"/usr/local/lib/python3.10/dist-packages/pip/_internal/resolution/resolvelib/factory.py\", line 491, in collect_root_requirements\n",
            "    req = self._make_requirement_from_install_req(\n",
            "  File \"/usr/local/lib/python3.10/dist-packages/pip/_internal/resolution/resolvelib/factory.py\", line 453, in _make_requirement_from_install_req\n",
            "    cand = self._make_candidate_from_link(\n",
            "  File \"/usr/local/lib/python3.10/dist-packages/pip/_internal/resolution/resolvelib/factory.py\", line 206, in _make_candidate_from_link\n",
            "    self._link_candidate_cache[link] = LinkCandidate(\n",
            "  File \"/usr/local/lib/python3.10/dist-packages/pip/_internal/resolution/resolvelib/candidates.py\", line 293, in __init__\n",
            "    super().__init__(\n",
            "  File \"/usr/local/lib/python3.10/dist-packages/pip/_internal/resolution/resolvelib/candidates.py\", line 156, in __init__\n",
            "    self.dist = self._prepare()\n",
            "  File \"/usr/local/lib/python3.10/dist-packages/pip/_internal/resolution/resolvelib/candidates.py\", line 225, in _prepare\n",
            "    dist = self._prepare_distribution()\n",
            "  File \"/usr/local/lib/python3.10/dist-packages/pip/_internal/resolution/resolvelib/candidates.py\", line 304, in _prepare_distribution\n",
            "    return preparer.prepare_linked_requirement(self._ireq, parallel_builds=True)\n",
            "  File \"/usr/local/lib/python3.10/dist-packages/pip/_internal/operations/prepare.py\", line 516, in prepare_linked_requirement\n",
            "    return self._prepare_linked_requirement(req, parallel_builds)\n",
            "  File \"/usr/local/lib/python3.10/dist-packages/pip/_internal/operations/prepare.py\", line 631, in _prepare_linked_requirement\n",
            "    dist = _get_prepared_distribution(\n",
            "  File \"/usr/local/lib/python3.10/dist-packages/pip/_internal/operations/prepare.py\", line 69, in _get_prepared_distribution\n",
            "    abstract_dist.prepare_distribution_metadata(\n",
            "  File \"/usr/local/lib/python3.10/dist-packages/pip/_internal/distributions/sdist.py\", line 38, in prepare_distribution_metadata\n",
            "    self._prepare_build_backend(finder)\n",
            "  File \"/usr/local/lib/python3.10/dist-packages/pip/_internal/distributions/sdist.py\", line 70, in _prepare_build_backend\n",
            "    self.req.build_env.install_requirements(\n",
            "  File \"/usr/local/lib/python3.10/dist-packages/pip/_internal/build_env.py\", line 217, in install_requirements\n",
            "    self._install_requirements(\n",
            "  File \"/usr/local/lib/python3.10/dist-packages/pip/_internal/build_env.py\", line 275, in _install_requirements\n",
            "    call_subprocess(\n",
            "  File \"/usr/local/lib/python3.10/dist-packages/pip/_internal/utils/subprocess.py\", line 166, in call_subprocess\n",
            "    line: str = proc.stdout.readline()\n",
            "KeyboardInterrupt\n",
            "\n",
            "During handling of the above exception, another exception occurred:\n",
            "\n",
            "Traceback (most recent call last):\n",
            "  File \"/usr/local/bin/pip3\", line 8, in <module>\n",
            "    sys.exit(main())\n",
            "  File \"/usr/local/lib/python3.10/dist-packages/pip/_internal/cli/main.py\", line 79, in main\n",
            "    return command.main(cmd_args)\n",
            "  File \"/usr/local/lib/python3.10/dist-packages/pip/_internal/cli/base_command.py\", line 101, in main\n",
            "    return self._main(args)\n",
            "  File \"/usr/local/lib/python3.10/dist-packages/pip/_internal/cli/base_command.py\", line 223, in _main\n",
            "    return run(options, args)\n",
            "  File \"/usr/local/lib/python3.10/dist-packages/pip/_internal/cli/base_command.py\", line 207, in exc_logging_wrapper\n",
            "    logger.debug(\"Exception information:\", exc_info=True)\n",
            "  File \"/usr/lib/python3.10/logging/__init__.py\", line 1465, in debug\n",
            "    self._log(DEBUG, msg, args, **kwargs)\n",
            "  File \"/usr/lib/python3.10/logging/__init__.py\", line 1624, in _log\n",
            "    self.handle(record)\n",
            "  File \"/usr/lib/python3.10/logging/__init__.py\", line 1634, in handle\n",
            "    self.callHandlers(record)\n",
            "  File \"/usr/lib/python3.10/logging/__init__.py\", line 1696, in callHandlers\n",
            "    hdlr.handle(record)\n",
            "  File \"/usr/lib/python3.10/logging/__init__.py\", line 968, in handle\n",
            "    self.emit(record)\n",
            "  File \"/usr/lib/python3.10/logging/handlers.py\", line 75, in emit\n",
            "    logging.FileHandler.emit(self, record)\n",
            "  File \"/usr/lib/python3.10/logging/__init__.py\", line 1218, in emit\n",
            "    StreamHandler.emit(self, record)\n",
            "  File \"/usr/lib/python3.10/logging/__init__.py\", line 1100, in emit\n",
            "    msg = self.format(record)\n",
            "  File \"/usr/lib/python3.10/logging/__init__.py\", line 943, in format\n",
            "    return fmt.format(record)\n",
            "  File \"/usr/local/lib/python3.10/dist-packages/pip/_internal/utils/logging.py\", line 112, in format\n",
            "    formatted = super().format(record)\n",
            "  File \"/usr/lib/python3.10/logging/__init__.py\", line 686, in format\n",
            "    record.exc_text = self.formatException(record.exc_info)\n",
            "  File \"/usr/lib/python3.10/logging/__init__.py\", line 636, in formatException\n",
            "    traceback.print_exception(ei[0], ei[1], tb, None, sio)\n",
            "  File \"/usr/lib/python3.10/traceback.py\", line 119, in print_exception\n",
            "    te = TracebackException(type(value), value, tb, limit=limit, compact=True)\n",
            "  File \"/usr/lib/python3.10/traceback.py\", line 502, in __init__\n",
            "    self.stack = StackSummary.extract(\n",
            "  File \"/usr/lib/python3.10/traceback.py\", line 383, in extract\n",
            "    f.line\n",
            "  File \"/usr/lib/python3.10/traceback.py\", line 306, in line\n",
            "    self._line = linecache.getline(self.filename, self.lineno)\n",
            "  File \"/usr/lib/python3.10/linecache.py\", line 30, in getline\n",
            "    lines = getlines(filename, module_globals)\n",
            "  File \"/usr/lib/python3.10/linecache.py\", line 46, in getlines\n",
            "    return updatecache(filename, module_globals)\n",
            "  File \"/usr/lib/python3.10/linecache.py\", line 137, in updatecache\n",
            "    lines = fp.readlines()\n",
            "  File \"/usr/lib/python3.10/codecs.py\", line 319, in decode\n",
            "    def decode(self, input, final=False):\n",
            "KeyboardInterrupt\n",
            "^C\n",
            "/content/Grounded-Segment-Anything/segment_anything\n",
            "  Preparing metadata (setup.py) ... \u001b[?25l\u001b[?25hdone\n",
            "  Building wheel for segment-anything (setup.py) ... \u001b[?25l\u001b[?25hdone\n",
            "/content/Grounded-Segment-Anything\n",
            "/content\n",
            "fatal: destination path 'recognize-anything' already exists and is not an empty directory.\n",
            "/content/recognize-anything\n",
            "Collecting clip@ git+https://github.com/openai/CLIP.git (from -r requirements.txt (line 9))\n",
            "  Cloning https://github.com/openai/CLIP.git to /tmp/pip-install-ryy81ezm/clip_28010a942f9d4535b7f7284668c7b038\n",
            "  Running command git clone --filter=blob:none --quiet https://github.com/openai/CLIP.git /tmp/pip-install-ryy81ezm/clip_28010a942f9d4535b7f7284668c7b038\n",
            "  Resolved https://github.com/openai/CLIP.git to commit a1d071733d7111c9c014f024669f959182114e33\n",
            "  Preparing metadata (setup.py) ... \u001b[?25l\u001b[?25hdone\n",
            "Requirement already satisfied: timm==0.4.12 in /usr/local/lib/python3.10/dist-packages (from -r requirements.txt (line 1)) (0.4.12)\n",
            "Requirement already satisfied: transformers==4.25.1 in /usr/local/lib/python3.10/dist-packages (from -r requirements.txt (line 2)) (4.25.1)\n",
            "Requirement already satisfied: fairscale==0.4.4 in /usr/local/lib/python3.10/dist-packages (from -r requirements.txt (line 3)) (0.4.4)\n",
            "Requirement already satisfied: pycocoevalcap in /usr/local/lib/python3.10/dist-packages (from -r requirements.txt (line 4)) (1.2)\n",
            "Requirement already satisfied: torch in /usr/local/lib/python3.10/dist-packages (from -r requirements.txt (line 5)) (2.1.0+cu121)\n",
            "Requirement already satisfied: torchvision in /usr/local/lib/python3.10/dist-packages (from -r requirements.txt (line 6)) (0.16.0+cu121)\n",
            "Requirement already satisfied: Pillow in /usr/local/lib/python3.10/dist-packages (from -r requirements.txt (line 7)) (9.4.0)\n",
            "Requirement already satisfied: scipy in /usr/local/lib/python3.10/dist-packages (from -r requirements.txt (line 8)) (1.11.4)\n",
            "Requirement already satisfied: filelock in /usr/local/lib/python3.10/dist-packages (from transformers==4.25.1->-r requirements.txt (line 2)) (3.13.1)\n",
            "Requirement already satisfied: huggingface-hub<1.0,>=0.10.0 in /usr/local/lib/python3.10/dist-packages (from transformers==4.25.1->-r requirements.txt (line 2)) (0.20.2)\n",
            "Requirement already satisfied: numpy>=1.17 in /usr/local/lib/python3.10/dist-packages (from transformers==4.25.1->-r requirements.txt (line 2)) (1.23.5)\n",
            "Requirement already satisfied: packaging>=20.0 in /usr/local/lib/python3.10/dist-packages (from transformers==4.25.1->-r requirements.txt (line 2)) (23.2)\n",
            "Requirement already satisfied: pyyaml>=5.1 in /usr/local/lib/python3.10/dist-packages (from transformers==4.25.1->-r requirements.txt (line 2)) (6.0.1)\n",
            "Requirement already satisfied: regex!=2019.12.17 in /usr/local/lib/python3.10/dist-packages (from transformers==4.25.1->-r requirements.txt (line 2)) (2023.6.3)\n",
            "Requirement already satisfied: requests in /usr/local/lib/python3.10/dist-packages (from transformers==4.25.1->-r requirements.txt (line 2)) (2.31.0)\n",
            "Requirement already satisfied: tokenizers!=0.11.3,<0.14,>=0.11.1 in /usr/local/lib/python3.10/dist-packages (from transformers==4.25.1->-r requirements.txt (line 2)) (0.13.3)\n",
            "Requirement already satisfied: tqdm>=4.27 in /usr/local/lib/python3.10/dist-packages (from transformers==4.25.1->-r requirements.txt (line 2)) (4.66.1)\n",
            "Requirement already satisfied: pycocotools>=2.0.2 in /usr/local/lib/python3.10/dist-packages (from pycocoevalcap->-r requirements.txt (line 4)) (2.0.7)\n",
            "Requirement already satisfied: typing-extensions in /usr/local/lib/python3.10/dist-packages (from torch->-r requirements.txt (line 5)) (4.9.0)\n",
            "Requirement already satisfied: sympy in /usr/local/lib/python3.10/dist-packages (from torch->-r requirements.txt (line 5)) (1.12)\n",
            "Requirement already satisfied: networkx in /usr/local/lib/python3.10/dist-packages (from torch->-r requirements.txt (line 5)) (3.2.1)\n",
            "Requirement already satisfied: jinja2 in /usr/local/lib/python3.10/dist-packages (from torch->-r requirements.txt (line 5)) (3.1.3)\n",
            "Requirement already satisfied: fsspec in /usr/local/lib/python3.10/dist-packages (from torch->-r requirements.txt (line 5)) (2023.6.0)\n",
            "Requirement already satisfied: triton==2.1.0 in /usr/local/lib/python3.10/dist-packages (from torch->-r requirements.txt (line 5)) (2.1.0)\n",
            "Requirement already satisfied: ftfy in /usr/local/lib/python3.10/dist-packages (from clip@ git+https://github.com/openai/CLIP.git->-r requirements.txt (line 9)) (6.1.3)\n",
            "Requirement already satisfied: matplotlib>=2.1.0 in /usr/local/lib/python3.10/dist-packages (from pycocotools>=2.0.2->pycocoevalcap->-r requirements.txt (line 4)) (3.7.1)\n",
            "Requirement already satisfied: wcwidth<0.3.0,>=0.2.12 in /usr/local/lib/python3.10/dist-packages (from ftfy->clip@ git+https://github.com/openai/CLIP.git->-r requirements.txt (line 9)) (0.2.13)\n",
            "Requirement already satisfied: MarkupSafe>=2.0 in /usr/local/lib/python3.10/dist-packages (from jinja2->torch->-r requirements.txt (line 5)) (2.1.3)\n",
            "Requirement already satisfied: charset-normalizer<4,>=2 in /usr/local/lib/python3.10/dist-packages (from requests->transformers==4.25.1->-r requirements.txt (line 2)) (3.3.2)\n",
            "Requirement already satisfied: idna<4,>=2.5 in /usr/local/lib/python3.10/dist-packages (from requests->transformers==4.25.1->-r requirements.txt (line 2)) (3.6)\n",
            "Requirement already satisfied: urllib3<3,>=1.21.1 in /usr/local/lib/python3.10/dist-packages (from requests->transformers==4.25.1->-r requirements.txt (line 2)) (2.0.7)\n",
            "Requirement already satisfied: certifi>=2017.4.17 in /usr/local/lib/python3.10/dist-packages (from requests->transformers==4.25.1->-r requirements.txt (line 2)) (2023.11.17)\n",
            "Requirement already satisfied: mpmath>=0.19 in /usr/local/lib/python3.10/dist-packages (from sympy->torch->-r requirements.txt (line 5)) (1.3.0)\n",
            "Requirement already satisfied: contourpy>=1.0.1 in /usr/local/lib/python3.10/dist-packages (from matplotlib>=2.1.0->pycocotools>=2.0.2->pycocoevalcap->-r requirements.txt (line 4)) (1.2.0)\n",
            "Requirement already satisfied: cycler>=0.10 in /usr/local/lib/python3.10/dist-packages (from matplotlib>=2.1.0->pycocotools>=2.0.2->pycocoevalcap->-r requirements.txt (line 4)) (0.12.1)\n",
            "Requirement already satisfied: fonttools>=4.22.0 in /usr/local/lib/python3.10/dist-packages (from matplotlib>=2.1.0->pycocotools>=2.0.2->pycocoevalcap->-r requirements.txt (line 4)) (4.47.2)\n",
            "Requirement already satisfied: kiwisolver>=1.0.1 in /usr/local/lib/python3.10/dist-packages (from matplotlib>=2.1.0->pycocotools>=2.0.2->pycocoevalcap->-r requirements.txt (line 4)) (1.4.5)\n",
            "Requirement already satisfied: pyparsing>=2.3.1 in /usr/local/lib/python3.10/dist-packages (from matplotlib>=2.1.0->pycocotools>=2.0.2->pycocoevalcap->-r requirements.txt (line 4)) (3.1.1)\n",
            "Requirement already satisfied: python-dateutil>=2.7 in /usr/local/lib/python3.10/dist-packages (from matplotlib>=2.1.0->pycocotools>=2.0.2->pycocoevalcap->-r requirements.txt (line 4)) (2.8.2)\n",
            "Requirement already satisfied: six>=1.5 in /usr/local/lib/python3.10/dist-packages (from python-dateutil>=2.7->matplotlib>=2.1.0->pycocotools>=2.0.2->pycocoevalcap->-r requirements.txt (line 4)) (1.16.0)\n",
            "Obtaining file:///content/recognize-anything\n",
            "  Preparing metadata (setup.py) ... \u001b[?25l\u001b[?25hdone\n",
            "Collecting clip@ git+https://github.com/openai/CLIP.git (from ram==0.0.1)\n",
            "  Cloning https://github.com/openai/CLIP.git to /tmp/pip-install-4hss4ij2/clip_2926614bceea45c8a629ad6a753baf69\n",
            "  Running command git clone --filter=blob:none --quiet https://github.com/openai/CLIP.git /tmp/pip-install-4hss4ij2/clip_2926614bceea45c8a629ad6a753baf69\n",
            "  Resolved https://github.com/openai/CLIP.git to commit a1d071733d7111c9c014f024669f959182114e33\n",
            "  Preparing metadata (setup.py) ... \u001b[?25l\u001b[?25hdone\n",
            "Requirement already satisfied: timm==0.4.12 in /usr/local/lib/python3.10/dist-packages (from ram==0.0.1) (0.4.12)\n",
            "Requirement already satisfied: transformers==4.25.1 in /usr/local/lib/python3.10/dist-packages (from ram==0.0.1) (4.25.1)\n",
            "Requirement already satisfied: fairscale==0.4.4 in /usr/local/lib/python3.10/dist-packages (from ram==0.0.1) (0.4.4)\n",
            "Requirement already satisfied: pycocoevalcap in /usr/local/lib/python3.10/dist-packages (from ram==0.0.1) (1.2)\n",
            "Requirement already satisfied: torch in /usr/local/lib/python3.10/dist-packages (from ram==0.0.1) (2.1.0+cu121)\n",
            "Requirement already satisfied: torchvision in /usr/local/lib/python3.10/dist-packages (from ram==0.0.1) (0.16.0+cu121)\n",
            "Requirement already satisfied: Pillow in /usr/local/lib/python3.10/dist-packages (from ram==0.0.1) (9.4.0)\n",
            "Requirement already satisfied: scipy in /usr/local/lib/python3.10/dist-packages (from ram==0.0.1) (1.11.4)\n",
            "Requirement already satisfied: filelock in /usr/local/lib/python3.10/dist-packages (from transformers==4.25.1->ram==0.0.1) (3.13.1)\n",
            "Requirement already satisfied: huggingface-hub<1.0,>=0.10.0 in /usr/local/lib/python3.10/dist-packages (from transformers==4.25.1->ram==0.0.1) (0.20.2)\n",
            "Requirement already satisfied: numpy>=1.17 in /usr/local/lib/python3.10/dist-packages (from transformers==4.25.1->ram==0.0.1) (1.23.5)\n",
            "Requirement already satisfied: packaging>=20.0 in /usr/local/lib/python3.10/dist-packages (from transformers==4.25.1->ram==0.0.1) (23.2)\n",
            "Requirement already satisfied: pyyaml>=5.1 in /usr/local/lib/python3.10/dist-packages (from transformers==4.25.1->ram==0.0.1) (6.0.1)\n",
            "Requirement already satisfied: regex!=2019.12.17 in /usr/local/lib/python3.10/dist-packages (from transformers==4.25.1->ram==0.0.1) (2023.6.3)\n",
            "Requirement already satisfied: requests in /usr/local/lib/python3.10/dist-packages (from transformers==4.25.1->ram==0.0.1) (2.31.0)\n",
            "Requirement already satisfied: tokenizers!=0.11.3,<0.14,>=0.11.1 in /usr/local/lib/python3.10/dist-packages (from transformers==4.25.1->ram==0.0.1) (0.13.3)\n",
            "Requirement already satisfied: tqdm>=4.27 in /usr/local/lib/python3.10/dist-packages (from transformers==4.25.1->ram==0.0.1) (4.66.1)\n",
            "Requirement already satisfied: typing-extensions in /usr/local/lib/python3.10/dist-packages (from torch->ram==0.0.1) (4.9.0)\n",
            "Requirement already satisfied: sympy in /usr/local/lib/python3.10/dist-packages (from torch->ram==0.0.1) (1.12)\n",
            "Requirement already satisfied: networkx in /usr/local/lib/python3.10/dist-packages (from torch->ram==0.0.1) (3.2.1)\n",
            "Requirement already satisfied: jinja2 in /usr/local/lib/python3.10/dist-packages (from torch->ram==0.0.1) (3.1.3)\n",
            "Requirement already satisfied: fsspec in /usr/local/lib/python3.10/dist-packages (from torch->ram==0.0.1) (2023.6.0)\n",
            "Requirement already satisfied: triton==2.1.0 in /usr/local/lib/python3.10/dist-packages (from torch->ram==0.0.1) (2.1.0)\n",
            "Requirement already satisfied: ftfy in /usr/local/lib/python3.10/dist-packages (from clip@ git+https://github.com/openai/CLIP.git->ram==0.0.1) (6.1.3)\n",
            "Requirement already satisfied: pycocotools>=2.0.2 in /usr/local/lib/python3.10/dist-packages (from pycocoevalcap->ram==0.0.1) (2.0.7)\n",
            "Requirement already satisfied: matplotlib>=2.1.0 in /usr/local/lib/python3.10/dist-packages (from pycocotools>=2.0.2->pycocoevalcap->ram==0.0.1) (3.7.1)\n",
            "Requirement already satisfied: wcwidth<0.3.0,>=0.2.12 in /usr/local/lib/python3.10/dist-packages (from ftfy->clip@ git+https://github.com/openai/CLIP.git->ram==0.0.1) (0.2.13)\n",
            "Requirement already satisfied: MarkupSafe>=2.0 in /usr/local/lib/python3.10/dist-packages (from jinja2->torch->ram==0.0.1) (2.1.3)\n",
            "Requirement already satisfied: charset-normalizer<4,>=2 in /usr/local/lib/python3.10/dist-packages (from requests->transformers==4.25.1->ram==0.0.1) (3.3.2)\n",
            "Requirement already satisfied: idna<4,>=2.5 in /usr/local/lib/python3.10/dist-packages (from requests->transformers==4.25.1->ram==0.0.1) (3.6)\n",
            "Requirement already satisfied: urllib3<3,>=1.21.1 in /usr/local/lib/python3.10/dist-packages (from requests->transformers==4.25.1->ram==0.0.1) (2.0.7)\n",
            "Requirement already satisfied: certifi>=2017.4.17 in /usr/local/lib/python3.10/dist-packages (from requests->transformers==4.25.1->ram==0.0.1) (2023.11.17)\n",
            "Requirement already satisfied: mpmath>=0.19 in /usr/local/lib/python3.10/dist-packages (from sympy->torch->ram==0.0.1) (1.3.0)\n",
            "Requirement already satisfied: contourpy>=1.0.1 in /usr/local/lib/python3.10/dist-packages (from matplotlib>=2.1.0->pycocotools>=2.0.2->pycocoevalcap->ram==0.0.1) (1.2.0)\n",
            "Requirement already satisfied: cycler>=0.10 in /usr/local/lib/python3.10/dist-packages (from matplotlib>=2.1.0->pycocotools>=2.0.2->pycocoevalcap->ram==0.0.1) (0.12.1)\n",
            "Requirement already satisfied: fonttools>=4.22.0 in /usr/local/lib/python3.10/dist-packages (from matplotlib>=2.1.0->pycocotools>=2.0.2->pycocoevalcap->ram==0.0.1) (4.47.2)\n",
            "Requirement already satisfied: kiwisolver>=1.0.1 in /usr/local/lib/python3.10/dist-packages (from matplotlib>=2.1.0->pycocotools>=2.0.2->pycocoevalcap->ram==0.0.1) (1.4.5)\n",
            "Requirement already satisfied: pyparsing>=2.3.1 in /usr/local/lib/python3.10/dist-packages (from matplotlib>=2.1.0->pycocotools>=2.0.2->pycocoevalcap->ram==0.0.1) (3.1.1)\n",
            "Requirement already satisfied: python-dateutil>=2.7 in /usr/local/lib/python3.10/dist-packages (from matplotlib>=2.1.0->pycocotools>=2.0.2->pycocoevalcap->ram==0.0.1) (2.8.2)\n",
            "Requirement already satisfied: six>=1.5 in /usr/local/lib/python3.10/dist-packages (from python-dateutil>=2.7->matplotlib>=2.1.0->pycocotools>=2.0.2->pycocoevalcap->ram==0.0.1) (1.16.0)\n",
            "Installing collected packages: ram\n",
            "  Attempting uninstall: ram\n",
            "    Found existing installation: ram 0.0.1\n",
            "    Uninstalling ram-0.0.1:\n",
            "      Successfully uninstalled ram-0.0.1\n",
            "  Running setup.py develop for ram\n",
            "Successfully installed ram-0.0.1\n",
            "Requirement already satisfied: cython in /usr/local/lib/python3.10/dist-packages (3.0.8)\n",
            "/content\n"
          ]
        }
      ],
      "source": [
        "import locale\n",
        "locale.getpreferredencoding = lambda: \"UTF-8\"\n",
        "\n",
        "%cd /content\n",
        "\n",
        "!git clone https://github.com/IDEA-Research/Grounded-Segment-Anything\n",
        "\n",
        "%cd /content/Grounded-Segment-Anything\n",
        "!pip install -q -r requirements.txt\n",
        "%cd /content/Grounded-Segment-Anything/GroundingDINO\n",
        "!pip install -q .\n",
        "%cd /content/Grounded-Segment-Anything/segment_anything\n",
        "!pip install -q .\n",
        "%cd /content/Grounded-Segment-Anything\n",
        "\n",
        "%cd /content\n",
        "!git clone https://github.com/xinyu1205/recognize-anything.git\n",
        "%cd /content/recognize-anything\n",
        "!pip install -r requirements.txt\n",
        "!pip install -e .\n",
        "\n",
        "!pip install cython\n",
        "\n",
        "%cd /content"
      ]
    },
    {
      "cell_type": "markdown",
      "metadata": {
        "id": "MRkQUrtjKpbh"
      },
      "source": [
        "## Imports"
      ]
    },
    {
      "cell_type": "code",
      "execution_count": null,
      "metadata": {
        "colab": {
          "base_uri": "https://localhost:8080/"
        },
        "id": "_i1lxL6ba06m",
        "outputId": "9f4a21cf-7c8e-40ce-d3a8-a1243b02c25c"
      },
      "outputs": [
        {
          "output_type": "stream",
          "name": "stdout",
          "text": [
            "\u001b[31mERROR: Could not find a version that satisfies the requirement PIL (from versions: none)\u001b[0m\u001b[31m\n",
            "\u001b[0m\u001b[31mERROR: No matching distribution found for PIL\u001b[0m\u001b[31m\n",
            "\u001b[0m"
          ]
        }
      ],
      "source": [
        "!pip install PIL"
      ]
    },
    {
      "cell_type": "code",
      "execution_count": null,
      "metadata": {
        "colab": {
          "base_uri": "https://localhost:8080/"
        },
        "id": "6Osu6KERJeTN",
        "outputId": "e6ef5aa8-bfde-4eeb-c7a1-1d447d0d67e0"
      },
      "outputs": [
        {
          "output_type": "stream",
          "name": "stdout",
          "text": [
            "/content /content/Grounded-Segment-Anything/GroundingDINO\n",
            "['/content', '/env/python', '/usr/lib/python310.zip', '/usr/lib/python3.10', '/usr/lib/python3.10/lib-dynload', '', '/usr/local/lib/python3.10/dist-packages', '/content/recognize-anything', '/usr/lib/python3/dist-packages', '/usr/local/lib/python3.10/dist-packages/IPython/extensions', '/root/.ipython', '/content/Grounded-Segment-Anything', '/content/Grounded-Segment-Anything/GroundingDINO', '/content/GroundingDINO', '/content/recognize-anything']\n",
            "/\n"
          ]
        }
      ],
      "source": [
        "import os, sys\n",
        "\n",
        "sys.path.append(os.path.join(os.getcwd(), \"Grounded-Segment-Anything\"))\n",
        "sys.path.append(os.path.join(os.getcwd(), \"Grounded-Segment-Anything\", \"GroundingDINO\"))\n",
        "sys.path.append(os.path.join(os.getcwd(), \"GroundingDINO\"))\n",
        "sys.path.append(os.path.join(os.getcwd(), \"recognize-anything\"))\n",
        "\n",
        "print(os.getcwd(), os.path.join(os.getcwd(), \"Grounded-Segment-Anything\", \"GroundingDINO\"))\n",
        "print(sys.path)\n",
        "\n",
        "import argparse\n",
        "import copy\n",
        "\n",
        "from IPython.display import display\n",
        "from PIL import Image, ImageDraw, ImageFont\n",
        "from torchvision.ops import box_convert\n",
        "\n",
        "# recognise anything\n",
        "from ram.models import ram\n",
        "from ram import inference_ram as inference\n",
        "from ram import get_transform\n",
        "\n",
        "# Grounding DINO\n",
        "import GroundingDINO.groundingdino.datasets.transforms as T\n",
        "from GroundingDINO.groundingdino.models import build_model\n",
        "from GroundingDINO.groundingdino.util import box_ops\n",
        "from GroundingDINO.groundingdino.util.slconfig import SLConfig\n",
        "from GroundingDINO.groundingdino.util.utils import clean_state_dict, get_phrases_from_posmap\n",
        "from GroundingDINO.groundingdino.util.inference import annotate, load_image, predict\n",
        "\n",
        "import supervision as sv\n",
        "\n",
        "# segment anything\n",
        "from segment_anything import build_sam, SamPredictor\n",
        "import cv2\n",
        "import numpy as np\n",
        "import matplotlib.pyplot as plt\n",
        "\n",
        "\n",
        "# diffusers\n",
        "import PIL\n",
        "import requests\n",
        "!cd ..\n",
        "import torch\n",
        "!cd -\n",
        "from io import BytesIO\n",
        "from diffusers import StableDiffusionInpaintPipeline\n",
        "\n",
        "\n",
        "from huggingface_hub import hf_hub_download"
      ]
    },
    {
      "cell_type": "markdown",
      "metadata": {
        "id": "IFnZ_nwcKuUk"
      },
      "source": [
        "## Load models"
      ]
    },
    {
      "cell_type": "code",
      "execution_count": null,
      "metadata": {
        "id": "004CGse3NRS2"
      },
      "outputs": [],
      "source": [
        "device = torch.device('cuda' if torch.cuda.is_available() else 'cpu')"
      ]
    },
    {
      "cell_type": "markdown",
      "metadata": {
        "id": "qzhOnA6ALQlo"
      },
      "source": [
        "### Grounding DINO model"
      ]
    },
    {
      "cell_type": "code",
      "execution_count": null,
      "metadata": {
        "id": "dPTgK04-J1U4"
      },
      "outputs": [],
      "source": [
        "def load_model_hf(repo_id, filename, ckpt_config_filename, device='cpu'):\n",
        "    cache_config_file = hf_hub_download(repo_id=repo_id, filename=ckpt_config_filename)\n",
        "\n",
        "    args = SLConfig.fromfile(cache_config_file)\n",
        "    args.device = device\n",
        "    model = build_model(args)\n",
        "\n",
        "    cache_file = hf_hub_download(repo_id=repo_id, filename=filename)\n",
        "    checkpoint = torch.load(cache_file, map_location=device)\n",
        "    log = model.load_state_dict(clean_state_dict(checkpoint['model']), strict=False)\n",
        "    print(\"Model loaded from {} \\n => {}\".format(cache_file, log))\n",
        "    _ = model.eval()\n",
        "    return model"
      ]
    },
    {
      "cell_type": "code",
      "execution_count": null,
      "metadata": {
        "id": "73fWWbE0KBZZ",
        "colab": {
          "base_uri": "https://localhost:8080/"
        },
        "outputId": "1bc2b4d8-51a9-47dc-f600-aa72ec614b66"
      },
      "outputs": [
        {
          "output_type": "stream",
          "name": "stdout",
          "text": [
            "final text_encoder_type: bert-base-uncased\n"
          ]
        },
        {
          "output_type": "stream",
          "name": "stderr",
          "text": [
            "Some weights of the model checkpoint at bert-base-uncased were not used when initializing BertModel: ['cls.predictions.transform.LayerNorm.weight', 'cls.predictions.bias', 'cls.seq_relationship.weight', 'cls.predictions.transform.dense.weight', 'cls.seq_relationship.bias', 'cls.predictions.transform.dense.bias', 'cls.predictions.transform.LayerNorm.bias']\n",
            "- This IS expected if you are initializing BertModel from the checkpoint of a model trained on another task or with another architecture (e.g. initializing a BertForSequenceClassification model from a BertForPreTraining model).\n",
            "- This IS NOT expected if you are initializing BertModel from the checkpoint of a model that you expect to be exactly identical (initializing a BertForSequenceClassification model from a BertForSequenceClassification model).\n"
          ]
        },
        {
          "output_type": "stream",
          "name": "stdout",
          "text": [
            "Model loaded from /root/.cache/huggingface/hub/models--ShilongLiu--GroundingDINO/snapshots/a94c9b567a2a374598f05c584e96798a170c56fb/groundingdino_swinb_cogcoor.pth \n",
            " => _IncompatibleKeys(missing_keys=[], unexpected_keys=['label_enc.weight'])\n"
          ]
        }
      ],
      "source": [
        "ckpt_repo_id = \"ShilongLiu/GroundingDINO\"\n",
        "ckpt_filenmae = \"groundingdino_swinb_cogcoor.pth\"\n",
        "ckpt_config_filename = \"GroundingDINO_SwinB.cfg.py\"\n",
        "\n",
        "\n",
        "groundingdino_model = load_model_hf(ckpt_repo_id, ckpt_filenmae, ckpt_config_filename, device)"
      ]
    },
    {
      "cell_type": "markdown",
      "metadata": {
        "id": "VYC9eKOymj8O"
      },
      "source": [
        "# RAM"
      ]
    },
    {
      "cell_type": "code",
      "execution_count": null,
      "metadata": {
        "id": "NDtCzurLmlxK",
        "colab": {
          "base_uri": "https://localhost:8080/"
        },
        "outputId": "ce46773f-4b23-4cc1-8e0a-fe272ea4a2ce"
      },
      "outputs": [
        {
          "output_type": "stream",
          "name": "stdout",
          "text": [
            "--2024-01-17 09:28:29--  https://huggingface.co/spaces/xinyu1205/recognize-anything/resolve/main/ram_swin_large_14m.pth\n",
            "Resolving huggingface.co (huggingface.co)... 18.172.134.4, 18.172.134.124, 18.172.134.24, ...\n",
            "Connecting to huggingface.co (huggingface.co)|18.172.134.4|:443... connected.\n",
            "HTTP request sent, awaiting response... 302 Found\n",
            "Location: https://cdn-lfs.huggingface.co/repos/e6/78/e678f8565485a3f321b1180e4c7e1e18a89a9295028358eedffb98981b37e11a/15c729c793af28b9d107c69f85836a1356d76ea830d4714699fb62e55fcc08ed?response-content-disposition=attachment%3B+filename*%3DUTF-8%27%27ram_swin_large_14m.pth%3B+filename%3D%22ram_swin_large_14m.pth%22%3B&Expires=1705742909&Policy=eyJTdGF0ZW1lbnQiOlt7IkNvbmRpdGlvbiI6eyJEYXRlTGVzc1RoYW4iOnsiQVdTOkVwb2NoVGltZSI6MTcwNTc0MjkwOX19LCJSZXNvdXJjZSI6Imh0dHBzOi8vY2RuLWxmcy5odWdnaW5nZmFjZS5jby9yZXBvcy9lNi83OC9lNjc4Zjg1NjU0ODVhM2YzMjFiMTE4MGU0YzdlMWUxOGE4OWE5Mjk1MDI4MzU4ZWVkZmZiOTg5ODFiMzdlMTFhLzE1YzcyOWM3OTNhZjI4YjlkMTA3YzY5Zjg1ODM2YTEzNTZkNzZlYTgzMGQ0NzE0Njk5ZmI2MmU1NWZjYzA4ZWQ%7EcmVzcG9uc2UtY29udGVudC1kaXNwb3NpdGlvbj0qIn1dfQ__&Signature=vJSAyl7AROFXmpPHdh6iS56fwyH1XhhCLCNOsMHa1niYrc5oGiq-h9K%7EOEiE9i0NFo3CVkh32hUW4PDJ54oLq9II7Tye%7Euopml6oF8GDoh176RnJkwuGiWwPT7Xda8ubk6T9FS%7E6Fs90nWuPcPWwki73g803euTRXxnz-2ebQT0FlX2lUWMFubI2mbpO-CPmDUUMuGcuQKX-opBYd0c-9eSXoBUbo2DpW7TbQcAVw2Qu7lcO0G9POjvubG2q-KCNJRpPCMkS038dV871stIvn8Qt1o%7EyHJaSPN8VRMJaCZIv9CVuHshjvyLFFgyZ8e8StfWnKxaZ7tFBVmM34nNXUA__&Key-Pair-Id=KVTP0A1DKRTAX [following]\n",
            "--2024-01-17 09:28:29--  https://cdn-lfs.huggingface.co/repos/e6/78/e678f8565485a3f321b1180e4c7e1e18a89a9295028358eedffb98981b37e11a/15c729c793af28b9d107c69f85836a1356d76ea830d4714699fb62e55fcc08ed?response-content-disposition=attachment%3B+filename*%3DUTF-8%27%27ram_swin_large_14m.pth%3B+filename%3D%22ram_swin_large_14m.pth%22%3B&Expires=1705742909&Policy=eyJTdGF0ZW1lbnQiOlt7IkNvbmRpdGlvbiI6eyJEYXRlTGVzc1RoYW4iOnsiQVdTOkVwb2NoVGltZSI6MTcwNTc0MjkwOX19LCJSZXNvdXJjZSI6Imh0dHBzOi8vY2RuLWxmcy5odWdnaW5nZmFjZS5jby9yZXBvcy9lNi83OC9lNjc4Zjg1NjU0ODVhM2YzMjFiMTE4MGU0YzdlMWUxOGE4OWE5Mjk1MDI4MzU4ZWVkZmZiOTg5ODFiMzdlMTFhLzE1YzcyOWM3OTNhZjI4YjlkMTA3YzY5Zjg1ODM2YTEzNTZkNzZlYTgzMGQ0NzE0Njk5ZmI2MmU1NWZjYzA4ZWQ%7EcmVzcG9uc2UtY29udGVudC1kaXNwb3NpdGlvbj0qIn1dfQ__&Signature=vJSAyl7AROFXmpPHdh6iS56fwyH1XhhCLCNOsMHa1niYrc5oGiq-h9K%7EOEiE9i0NFo3CVkh32hUW4PDJ54oLq9II7Tye%7Euopml6oF8GDoh176RnJkwuGiWwPT7Xda8ubk6T9FS%7E6Fs90nWuPcPWwki73g803euTRXxnz-2ebQT0FlX2lUWMFubI2mbpO-CPmDUUMuGcuQKX-opBYd0c-9eSXoBUbo2DpW7TbQcAVw2Qu7lcO0G9POjvubG2q-KCNJRpPCMkS038dV871stIvn8Qt1o%7EyHJaSPN8VRMJaCZIv9CVuHshjvyLFFgyZ8e8StfWnKxaZ7tFBVmM34nNXUA__&Key-Pair-Id=KVTP0A1DKRTAX\n",
            "Resolving cdn-lfs.huggingface.co (cdn-lfs.huggingface.co)... 108.156.107.4, 108.156.107.69, 108.156.107.62, ...\n",
            "Connecting to cdn-lfs.huggingface.co (cdn-lfs.huggingface.co)|108.156.107.4|:443... connected.\n",
            "HTTP request sent, awaiting response... 200 OK\n",
            "Length: 5625634877 (5.2G) [binary/octet-stream]\n",
            "Saving to: ‘ram_swin_large_14m.pth.2’\n",
            "\n",
            "ram_swin_large_14m. 100%[===================>]   5.24G  81.8MB/s    in 50s     \n",
            "\n",
            "2024-01-17 09:29:20 (107 MB/s) - ‘ram_swin_large_14m.pth.2’ saved [5625634877/5625634877]\n",
            "\n",
            "/encoder/layer/0/crossattention/self/query is tied\n",
            "/encoder/layer/0/crossattention/self/key is tied\n",
            "/encoder/layer/0/crossattention/self/value is tied\n",
            "/encoder/layer/0/crossattention/output/dense is tied\n",
            "/encoder/layer/0/crossattention/output/LayerNorm is tied\n",
            "/encoder/layer/0/intermediate/dense is tied\n",
            "/encoder/layer/0/output/dense is tied\n",
            "/encoder/layer/0/output/LayerNorm is tied\n",
            "/encoder/layer/1/crossattention/self/query is tied\n",
            "/encoder/layer/1/crossattention/self/key is tied\n",
            "/encoder/layer/1/crossattention/self/value is tied\n",
            "/encoder/layer/1/crossattention/output/dense is tied\n",
            "/encoder/layer/1/crossattention/output/LayerNorm is tied\n",
            "/encoder/layer/1/intermediate/dense is tied\n",
            "/encoder/layer/1/output/dense is tied\n",
            "/encoder/layer/1/output/LayerNorm is tied\n",
            "--------------\n",
            "ram_swin_large_14m.pth\n",
            "--------------\n",
            "load checkpoint from ram_swin_large_14m.pth\n",
            "vit: swin_l\n"
          ]
        },
        {
          "output_type": "execute_result",
          "data": {
            "text/plain": [
              "1"
            ]
          },
          "metadata": {},
          "execution_count": 15
        }
      ],
      "source": [
        " ! wget https://huggingface.co/spaces/xinyu1205/recognize-anything/resolve/main/ram_swin_large_14m.pth\n",
        "\n",
        "ram_model = ram(pretrained='ram_swin_large_14m.pth', image_size=384, vit='swin_l')\n",
        "ram_model.eval()\n",
        "ram_model.to(device)\n",
        "1\n"
      ]
    },
    {
      "cell_type": "code",
      "execution_count": null,
      "metadata": {
        "id": "cQgb7kwFr3KM"
      },
      "outputs": [],
      "source": [
        "test_img_path = '/content/drive/MyDrive/da_assets/rgb1.png'\n",
        "transform = get_transform(image_size=384)\n",
        "image = transform(Image.open(test_img_path)).unsqueeze(0).to(device)\n",
        "\n",
        "res = inference(image, ram_model)\n",
        "\n",
        "Image.open(test_img_path).show()"
      ]
    },
    {
      "cell_type": "code",
      "execution_count": null,
      "metadata": {
        "id": "aeRf8uCntCxH",
        "colab": {
          "base_uri": "https://localhost:8080/"
        },
        "outputId": "d26c8aed-7210-468c-b5cb-0b037d90a842"
      },
      "outputs": [
        {
          "output_type": "stream",
          "name": "stdout",
          "text": [
            "Image Tags:  armchair | carpet | ceiling | chair | couch | curtain | den | table | floor | furniture | glass table | living room | room | slide | window\n"
          ]
        }
      ],
      "source": [
        "res = inference(image, ram_model)\n",
        "print(\"Image Tags: \", res[0])"
      ]
    },
    {
      "cell_type": "markdown",
      "metadata": {
        "id": "uRsDao4wLV4t"
      },
      "source": [
        "### SAM"
      ]
    },
    {
      "cell_type": "code",
      "execution_count": null,
      "metadata": {
        "id": "QNyrl-WMLVQs",
        "colab": {
          "base_uri": "https://localhost:8080/"
        },
        "outputId": "e96a0e56-619f-4cb5-f4ae-5a52df2c07a0"
      },
      "outputs": [
        {
          "output_type": "stream",
          "name": "stdout",
          "text": [
            "--2024-01-17 09:30:01--  https://dl.fbaipublicfiles.com/segment_anything/sam_vit_h_4b8939.pth\n",
            "Resolving dl.fbaipublicfiles.com (dl.fbaipublicfiles.com)... 3.162.163.51, 3.162.163.19, 3.162.163.34, ...\n",
            "Connecting to dl.fbaipublicfiles.com (dl.fbaipublicfiles.com)|3.162.163.51|:443... connected.\n",
            "HTTP request sent, awaiting response... 200 OK\n",
            "Length: 2564550879 (2.4G) [binary/octet-stream]\n",
            "Saving to: ‘sam_vit_h_4b8939.pth.1’\n",
            "\n",
            "sam_vit_h_4b8939.pt 100%[===================>]   2.39G   175MB/s    in 23s     \n",
            "\n",
            "2024-01-17 09:30:24 (109 MB/s) - ‘sam_vit_h_4b8939.pth.1’ saved [2564550879/2564550879]\n",
            "\n"
          ]
        }
      ],
      "source": [
        "! wget https://dl.fbaipublicfiles.com/segment_anything/sam_vit_h_4b8939.pth\n",
        "\n",
        "sam_checkpoint = 'sam_vit_h_4b8939.pth'\n",
        "\n",
        "sam_predictor = SamPredictor(build_sam(checkpoint=sam_checkpoint).to(device))"
      ]
    },
    {
      "cell_type": "markdown",
      "metadata": {
        "id": "y86GkczAOAVx"
      },
      "source": [
        "## Inference"
      ]
    },
    {
      "cell_type": "code",
      "execution_count": null,
      "metadata": {
        "id": "dad-C9F_OWn7",
        "colab": {
          "base_uri": "https://localhost:8080/",
          "height": 617
        },
        "outputId": "33a235e8-ba8a-4ccb-e69a-9358bbb28162"
      },
      "outputs": [
        {
          "output_type": "execute_result",
          "data": {
            "text/plain": [
              "<PIL.Image.Image image mode=RGB size=600x600>"
            ],
            "image/png": "[encoded data removed]"
          },
          "metadata": {},
          "execution_count": 19
        }
      ],
      "source": [
        "# Load image\n",
        "def download_image(url, image_file_path):\n",
        "    r = requests.get(url, timeout=4.0)\n",
        "    if r.status_code != requests.codes.ok:\n",
        "        assert False, 'Status code error: {}.'.format(r.status_code)\n",
        "\n",
        "    with Image.open(BytesIO(r.content)) as im:\n",
        "        im.save(image_file_path)\n",
        "    print('Image downloaded from url: {} and saved to: {}.'.format(url, image_file_path))\n",
        "\n",
        "\n",
        "local_image_path = \"/content/drive/MyDrive/da_assets/rgb1-2.png\"\n",
        "# image_url = \"https://raw.githubusercontent.com/CompVis/latent-diffusion/main/data/inpainting_examples/overture-creations-5sI6fQgYIuo.png\"\n",
        "\n",
        "# download_image(image_url, local_image_path)\n",
        "image_source, image = load_image(local_image_path)\n",
        "Image.fromarray(image_source)"
      ]
    },
    {
      "cell_type": "markdown",
      "metadata": {
        "id": "NaEIyVwjOCam"
      },
      "source": [
        "## Grounding DINO for detection"
      ]
    },
    {
      "cell_type": "code",
      "execution_count": null,
      "metadata": {
        "id": "lm8fGM5XOkqN"
      },
      "outputs": [],
      "source": [
        "# detect object using grounding DINO\n",
        "def detect(image, text_prompt, model, image_source=None, box_threshold = 0.3, text_threshold = 0.25, remove_combined=False):\n",
        "  boxes, logits, phrases = predict(\n",
        "      model=model,\n",
        "      image=image,\n",
        "      caption=text_prompt,\n",
        "      box_threshold=box_threshold,\n",
        "      text_threshold=text_threshold\n",
        "  )\n",
        "\n",
        "  if type(image_source) == None:\n",
        "    annotated_frame = None\n",
        "  else:\n",
        "    annotated_frame = annotate(image_source=image_source, boxes=boxes, logits=logits, phrases=phrases)\n",
        "    annotated_frame = annotated_frame[...,::-1] # BGR to RGB\n",
        "\n",
        "  return annotated_frame, boxes"
      ]
    },
    {
      "cell_type": "code",
      "source": [
        "!pip install sympy\n",
        "!pip install cython"
      ],
      "metadata": {
        "colab": {
          "base_uri": "https://localhost:8080/"
        },
        "id": "B5UEk3Qludg4",
        "outputId": "35197e2a-223f-477b-fc6c-132eef57d2f3"
      },
      "execution_count": null,
      "outputs": [
        {
          "output_type": "stream",
          "name": "stdout",
          "text": [
            "Requirement already satisfied: sympy in /usr/local/lib/python3.10/dist-packages (1.12)\n",
            "Requirement already satisfied: mpmath>=0.19 in /usr/local/lib/python3.10/dist-packages (from sympy) (1.3.0)\n",
            "Requirement already satisfied: cython in /usr/local/lib/python3.10/dist-packages (3.0.8)\n"
          ]
        }
      ]
    },
    {
      "cell_type": "code",
      "execution_count": null,
      "metadata": {
        "id": "YVjdmTWOPxTy",
        "colab": {
          "base_uri": "https://localhost:8080/",
          "height": 1000
        },
        "outputId": "27f6ea52-25d8-477b-c6ac-d50cfb72c5f6"
      },
      "outputs": [
        {
          "output_type": "error",
          "ename": "NameError",
          "evalue": "name '_C' is not defined",
          "traceback": [
            "\u001b[0;31m---------------------------------------------------------------------------\u001b[0m",
            "\u001b[0;31mNameError\u001b[0m                                 Traceback (most recent call last)",
            "\u001b[0;32m<ipython-input-22-be7fb1003cc0>\u001b[0m in \u001b[0;36m<cell line: 1>\u001b[0;34m()\u001b[0m\n\u001b[0;32m----> 1\u001b[0;31m annotated_frame, detected_boxes = detect(image, text_prompt=\"armchair | carpet | ceiling | chair | couch | curtain | den | table | floor | furniture | glass table | living room | room | slide | window\",\n\u001b[0m\u001b[1;32m      2\u001b[0m                                          \u001b[0mmodel\u001b[0m\u001b[0;34m=\u001b[0m\u001b[0mgroundingdino_model\u001b[0m\u001b[0;34m,\u001b[0m\u001b[0;34m\u001b[0m\u001b[0;34m\u001b[0m\u001b[0m\n\u001b[1;32m      3\u001b[0m                                          image_source=image_source)\n\u001b[1;32m      4\u001b[0m \u001b[0mImage\u001b[0m\u001b[0;34m.\u001b[0m\u001b[0mfromarray\u001b[0m\u001b[0;34m(\u001b[0m\u001b[0mannotated_frame\u001b[0m\u001b[0;34m)\u001b[0m\u001b[0;34m\u001b[0m\u001b[0;34m\u001b[0m\u001b[0m\n",
            "\u001b[0;32m<ipython-input-20-f91fcb303a35>\u001b[0m in \u001b[0;36mdetect\u001b[0;34m(image, text_prompt, model, image_source, box_threshold, text_threshold, remove_combined)\u001b[0m\n\u001b[1;32m      1\u001b[0m \u001b[0;31m# detect object using grounding DINO\u001b[0m\u001b[0;34m\u001b[0m\u001b[0;34m\u001b[0m\u001b[0m\n\u001b[1;32m      2\u001b[0m \u001b[0;32mdef\u001b[0m \u001b[0mdetect\u001b[0m\u001b[0;34m(\u001b[0m\u001b[0mimage\u001b[0m\u001b[0;34m,\u001b[0m \u001b[0mtext_prompt\u001b[0m\u001b[0;34m,\u001b[0m \u001b[0mmodel\u001b[0m\u001b[0;34m,\u001b[0m \u001b[0mimage_source\u001b[0m\u001b[0;34m=\u001b[0m\u001b[0;32mNone\u001b[0m\u001b[0;34m,\u001b[0m \u001b[0mbox_threshold\u001b[0m \u001b[0;34m=\u001b[0m \u001b[0;36m0.3\u001b[0m\u001b[0;34m,\u001b[0m \u001b[0mtext_threshold\u001b[0m \u001b[0;34m=\u001b[0m \u001b[0;36m0.25\u001b[0m\u001b[0;34m,\u001b[0m \u001b[0mremove_combined\u001b[0m\u001b[0;34m=\u001b[0m\u001b[0;32mFalse\u001b[0m\u001b[0;34m)\u001b[0m\u001b[0;34m:\u001b[0m\u001b[0;34m\u001b[0m\u001b[0;34m\u001b[0m\u001b[0m\n\u001b[0;32m----> 3\u001b[0;31m   boxes, logits, phrases = predict(\n\u001b[0m\u001b[1;32m      4\u001b[0m       \u001b[0mmodel\u001b[0m\u001b[0;34m=\u001b[0m\u001b[0mmodel\u001b[0m\u001b[0;34m,\u001b[0m\u001b[0;34m\u001b[0m\u001b[0;34m\u001b[0m\u001b[0m\n\u001b[1;32m      5\u001b[0m       \u001b[0mimage\u001b[0m\u001b[0;34m=\u001b[0m\u001b[0mimage\u001b[0m\u001b[0;34m,\u001b[0m\u001b[0;34m\u001b[0m\u001b[0;34m\u001b[0m\u001b[0m\n",
            "\u001b[0;32m/content/Grounded-Segment-Anything/GroundingDINO/groundingdino/util/inference.py\u001b[0m in \u001b[0;36mpredict\u001b[0;34m(model, image, caption, box_threshold, text_threshold, device)\u001b[0m\n\u001b[1;32m     65\u001b[0m \u001b[0;34m\u001b[0m\u001b[0m\n\u001b[1;32m     66\u001b[0m     \u001b[0;32mwith\u001b[0m \u001b[0mtorch\u001b[0m\u001b[0;34m.\u001b[0m\u001b[0mno_grad\u001b[0m\u001b[0;34m(\u001b[0m\u001b[0;34m)\u001b[0m\u001b[0;34m:\u001b[0m\u001b[0;34m\u001b[0m\u001b[0;34m\u001b[0m\u001b[0m\n\u001b[0;32m---> 67\u001b[0;31m         \u001b[0moutputs\u001b[0m \u001b[0;34m=\u001b[0m \u001b[0mmodel\u001b[0m\u001b[0;34m(\u001b[0m\u001b[0mimage\u001b[0m\u001b[0;34m[\u001b[0m\u001b[0;32mNone\u001b[0m\u001b[0;34m]\u001b[0m\u001b[0;34m,\u001b[0m \u001b[0mcaptions\u001b[0m\u001b[0;34m=\u001b[0m\u001b[0;34m[\u001b[0m\u001b[0mcaption\u001b[0m\u001b[0;34m]\u001b[0m\u001b[0;34m)\u001b[0m\u001b[0;34m\u001b[0m\u001b[0;34m\u001b[0m\u001b[0m\n\u001b[0m\u001b[1;32m     68\u001b[0m \u001b[0;34m\u001b[0m\u001b[0m\n\u001b[1;32m     69\u001b[0m     \u001b[0mprediction_logits\u001b[0m \u001b[0;34m=\u001b[0m \u001b[0moutputs\u001b[0m\u001b[0;34m[\u001b[0m\u001b[0;34m\"pred_logits\"\u001b[0m\u001b[0;34m]\u001b[0m\u001b[0;34m.\u001b[0m\u001b[0mcpu\u001b[0m\u001b[0;34m(\u001b[0m\u001b[0;34m)\u001b[0m\u001b[0;34m.\u001b[0m\u001b[0msigmoid\u001b[0m\u001b[0;34m(\u001b[0m\u001b[0;34m)\u001b[0m\u001b[0;34m[\u001b[0m\u001b[0;36m0\u001b[0m\u001b[0;34m]\u001b[0m  \u001b[0;31m# prediction_logits.shape = (nq, 256)\u001b[0m\u001b[0;34m\u001b[0m\u001b[0;34m\u001b[0m\u001b[0m\n",
            "\u001b[0;32m/usr/local/lib/python3.10/dist-packages/torch/nn/modules/module.py\u001b[0m in \u001b[0;36m_wrapped_call_impl\u001b[0;34m(self, *args, **kwargs)\u001b[0m\n\u001b[1;32m   1516\u001b[0m             \u001b[0;32mreturn\u001b[0m \u001b[0mself\u001b[0m\u001b[0;34m.\u001b[0m\u001b[0m_compiled_call_impl\u001b[0m\u001b[0;34m(\u001b[0m\u001b[0;34m*\u001b[0m\u001b[0margs\u001b[0m\u001b[0;34m,\u001b[0m \u001b[0;34m**\u001b[0m\u001b[0mkwargs\u001b[0m\u001b[0;34m)\u001b[0m  \u001b[0;31m# type: ignore[misc]\u001b[0m\u001b[0;34m\u001b[0m\u001b[0;34m\u001b[0m\u001b[0m\n\u001b[1;32m   1517\u001b[0m         \u001b[0;32melse\u001b[0m\u001b[0;34m:\u001b[0m\u001b[0;34m\u001b[0m\u001b[0;34m\u001b[0m\u001b[0m\n\u001b[0;32m-> 1518\u001b[0;31m             \u001b[0;32mreturn\u001b[0m \u001b[0mself\u001b[0m\u001b[0;34m.\u001b[0m\u001b[0m_call_impl\u001b[0m\u001b[0;34m(\u001b[0m\u001b[0;34m*\u001b[0m\u001b[0margs\u001b[0m\u001b[0;34m,\u001b[0m \u001b[0;34m**\u001b[0m\u001b[0mkwargs\u001b[0m\u001b[0;34m)\u001b[0m\u001b[0;34m\u001b[0m\u001b[0;34m\u001b[0m\u001b[0m\n\u001b[0m\u001b[1;32m   1519\u001b[0m \u001b[0;34m\u001b[0m\u001b[0m\n\u001b[1;32m   1520\u001b[0m     \u001b[0;32mdef\u001b[0m \u001b[0m_call_impl\u001b[0m\u001b[0;34m(\u001b[0m\u001b[0mself\u001b[0m\u001b[0;34m,\u001b[0m \u001b[0;34m*\u001b[0m\u001b[0margs\u001b[0m\u001b[0;34m,\u001b[0m \u001b[0;34m**\u001b[0m\u001b[0mkwargs\u001b[0m\u001b[0;34m)\u001b[0m\u001b[0;34m:\u001b[0m\u001b[0;34m\u001b[0m\u001b[0;34m\u001b[0m\u001b[0m\n",
            "\u001b[0;32m/usr/local/lib/python3.10/dist-packages/torch/nn/modules/module.py\u001b[0m in \u001b[0;36m_call_impl\u001b[0;34m(self, *args, **kwargs)\u001b[0m\n\u001b[1;32m   1525\u001b[0m                 \u001b[0;32mor\u001b[0m \u001b[0m_global_backward_pre_hooks\u001b[0m \u001b[0;32mor\u001b[0m \u001b[0m_global_backward_hooks\u001b[0m\u001b[0;34m\u001b[0m\u001b[0;34m\u001b[0m\u001b[0m\n\u001b[1;32m   1526\u001b[0m                 or _global_forward_hooks or _global_forward_pre_hooks):\n\u001b[0;32m-> 1527\u001b[0;31m             \u001b[0;32mreturn\u001b[0m \u001b[0mforward_call\u001b[0m\u001b[0;34m(\u001b[0m\u001b[0;34m*\u001b[0m\u001b[0margs\u001b[0m\u001b[0;34m,\u001b[0m \u001b[0;34m**\u001b[0m\u001b[0mkwargs\u001b[0m\u001b[0;34m)\u001b[0m\u001b[0;34m\u001b[0m\u001b[0;34m\u001b[0m\u001b[0m\n\u001b[0m\u001b[1;32m   1528\u001b[0m \u001b[0;34m\u001b[0m\u001b[0m\n\u001b[1;32m   1529\u001b[0m         \u001b[0;32mtry\u001b[0m\u001b[0;34m:\u001b[0m\u001b[0;34m\u001b[0m\u001b[0;34m\u001b[0m\u001b[0m\n",
            "\u001b[0;32m/content/Grounded-Segment-Anything/GroundingDINO/groundingdino/models/GroundingDINO/groundingdino.py\u001b[0m in \u001b[0;36mforward\u001b[0;34m(self, samples, targets, **kw)\u001b[0m\n\u001b[1;32m    311\u001b[0m \u001b[0;34m\u001b[0m\u001b[0m\n\u001b[1;32m    312\u001b[0m         \u001b[0minput_query_bbox\u001b[0m \u001b[0;34m=\u001b[0m \u001b[0minput_query_label\u001b[0m \u001b[0;34m=\u001b[0m \u001b[0mattn_mask\u001b[0m \u001b[0;34m=\u001b[0m \u001b[0mdn_meta\u001b[0m \u001b[0;34m=\u001b[0m \u001b[0;32mNone\u001b[0m\u001b[0;34m\u001b[0m\u001b[0;34m\u001b[0m\u001b[0m\n\u001b[0;32m--> 313\u001b[0;31m         hs, reference, hs_enc, ref_enc, init_box_proposal = self.transformer(\n\u001b[0m\u001b[1;32m    314\u001b[0m             \u001b[0msrcs\u001b[0m\u001b[0;34m,\u001b[0m \u001b[0mmasks\u001b[0m\u001b[0;34m,\u001b[0m \u001b[0minput_query_bbox\u001b[0m\u001b[0;34m,\u001b[0m \u001b[0mposs\u001b[0m\u001b[0;34m,\u001b[0m \u001b[0minput_query_label\u001b[0m\u001b[0;34m,\u001b[0m \u001b[0mattn_mask\u001b[0m\u001b[0;34m,\u001b[0m \u001b[0mtext_dict\u001b[0m\u001b[0;34m\u001b[0m\u001b[0;34m\u001b[0m\u001b[0m\n\u001b[1;32m    315\u001b[0m         )\n",
            "\u001b[0;32m/usr/local/lib/python3.10/dist-packages/torch/nn/modules/module.py\u001b[0m in \u001b[0;36m_wrapped_call_impl\u001b[0;34m(self, *args, **kwargs)\u001b[0m\n\u001b[1;32m   1516\u001b[0m             \u001b[0;32mreturn\u001b[0m \u001b[0mself\u001b[0m\u001b[0;34m.\u001b[0m\u001b[0m_compiled_call_impl\u001b[0m\u001b[0;34m(\u001b[0m\u001b[0;34m*\u001b[0m\u001b[0margs\u001b[0m\u001b[0;34m,\u001b[0m \u001b[0;34m**\u001b[0m\u001b[0mkwargs\u001b[0m\u001b[0;34m)\u001b[0m  \u001b[0;31m# type: ignore[misc]\u001b[0m\u001b[0;34m\u001b[0m\u001b[0;34m\u001b[0m\u001b[0m\n\u001b[1;32m   1517\u001b[0m         \u001b[0;32melse\u001b[0m\u001b[0;34m:\u001b[0m\u001b[0;34m\u001b[0m\u001b[0;34m\u001b[0m\u001b[0m\n\u001b[0;32m-> 1518\u001b[0;31m             \u001b[0;32mreturn\u001b[0m \u001b[0mself\u001b[0m\u001b[0;34m.\u001b[0m\u001b[0m_call_impl\u001b[0m\u001b[0;34m(\u001b[0m\u001b[0;34m*\u001b[0m\u001b[0margs\u001b[0m\u001b[0;34m,\u001b[0m \u001b[0;34m**\u001b[0m\u001b[0mkwargs\u001b[0m\u001b[0;34m)\u001b[0m\u001b[0;34m\u001b[0m\u001b[0;34m\u001b[0m\u001b[0m\n\u001b[0m\u001b[1;32m   1519\u001b[0m \u001b[0;34m\u001b[0m\u001b[0m\n\u001b[1;32m   1520\u001b[0m     \u001b[0;32mdef\u001b[0m \u001b[0m_call_impl\u001b[0m\u001b[0;34m(\u001b[0m\u001b[0mself\u001b[0m\u001b[0;34m,\u001b[0m \u001b[0;34m*\u001b[0m\u001b[0margs\u001b[0m\u001b[0;34m,\u001b[0m \u001b[0;34m**\u001b[0m\u001b[0mkwargs\u001b[0m\u001b[0;34m)\u001b[0m\u001b[0;34m:\u001b[0m\u001b[0;34m\u001b[0m\u001b[0;34m\u001b[0m\u001b[0m\n",
            "\u001b[0;32m/usr/local/lib/python3.10/dist-packages/torch/nn/modules/module.py\u001b[0m in \u001b[0;36m_call_impl\u001b[0;34m(self, *args, **kwargs)\u001b[0m\n\u001b[1;32m   1525\u001b[0m                 \u001b[0;32mor\u001b[0m \u001b[0m_global_backward_pre_hooks\u001b[0m \u001b[0;32mor\u001b[0m \u001b[0m_global_backward_hooks\u001b[0m\u001b[0;34m\u001b[0m\u001b[0;34m\u001b[0m\u001b[0m\n\u001b[1;32m   1526\u001b[0m                 or _global_forward_hooks or _global_forward_pre_hooks):\n\u001b[0;32m-> 1527\u001b[0;31m             \u001b[0;32mreturn\u001b[0m \u001b[0mforward_call\u001b[0m\u001b[0;34m(\u001b[0m\u001b[0;34m*\u001b[0m\u001b[0margs\u001b[0m\u001b[0;34m,\u001b[0m \u001b[0;34m**\u001b[0m\u001b[0mkwargs\u001b[0m\u001b[0;34m)\u001b[0m\u001b[0;34m\u001b[0m\u001b[0;34m\u001b[0m\u001b[0m\n\u001b[0m\u001b[1;32m   1528\u001b[0m \u001b[0;34m\u001b[0m\u001b[0m\n\u001b[1;32m   1529\u001b[0m         \u001b[0;32mtry\u001b[0m\u001b[0;34m:\u001b[0m\u001b[0;34m\u001b[0m\u001b[0;34m\u001b[0m\u001b[0m\n",
            "\u001b[0;32m/content/Grounded-Segment-Anything/GroundingDINO/groundingdino/models/GroundingDINO/transformer.py\u001b[0m in \u001b[0;36mforward\u001b[0;34m(self, srcs, masks, refpoint_embed, pos_embeds, tgt, attn_mask, text_dict)\u001b[0m\n\u001b[1;32m    256\u001b[0m         \u001b[0;31m# Begin Encoder\u001b[0m\u001b[0;34m\u001b[0m\u001b[0;34m\u001b[0m\u001b[0m\n\u001b[1;32m    257\u001b[0m         \u001b[0;31m#########################################################\u001b[0m\u001b[0;34m\u001b[0m\u001b[0;34m\u001b[0m\u001b[0m\n\u001b[0;32m--> 258\u001b[0;31m         memory, memory_text = self.encoder(\n\u001b[0m\u001b[1;32m    259\u001b[0m             \u001b[0msrc_flatten\u001b[0m\u001b[0;34m,\u001b[0m\u001b[0;34m\u001b[0m\u001b[0;34m\u001b[0m\u001b[0m\n\u001b[1;32m    260\u001b[0m             \u001b[0mpos\u001b[0m\u001b[0;34m=\u001b[0m\u001b[0mlvl_pos_embed_flatten\u001b[0m\u001b[0;34m,\u001b[0m\u001b[0;34m\u001b[0m\u001b[0;34m\u001b[0m\u001b[0m\n",
            "\u001b[0;32m/usr/local/lib/python3.10/dist-packages/torch/nn/modules/module.py\u001b[0m in \u001b[0;36m_wrapped_call_impl\u001b[0;34m(self, *args, **kwargs)\u001b[0m\n\u001b[1;32m   1516\u001b[0m             \u001b[0;32mreturn\u001b[0m \u001b[0mself\u001b[0m\u001b[0;34m.\u001b[0m\u001b[0m_compiled_call_impl\u001b[0m\u001b[0;34m(\u001b[0m\u001b[0;34m*\u001b[0m\u001b[0margs\u001b[0m\u001b[0;34m,\u001b[0m \u001b[0;34m**\u001b[0m\u001b[0mkwargs\u001b[0m\u001b[0;34m)\u001b[0m  \u001b[0;31m# type: ignore[misc]\u001b[0m\u001b[0;34m\u001b[0m\u001b[0;34m\u001b[0m\u001b[0m\n\u001b[1;32m   1517\u001b[0m         \u001b[0;32melse\u001b[0m\u001b[0;34m:\u001b[0m\u001b[0;34m\u001b[0m\u001b[0;34m\u001b[0m\u001b[0m\n\u001b[0;32m-> 1518\u001b[0;31m             \u001b[0;32mreturn\u001b[0m \u001b[0mself\u001b[0m\u001b[0;34m.\u001b[0m\u001b[0m_call_impl\u001b[0m\u001b[0;34m(\u001b[0m\u001b[0;34m*\u001b[0m\u001b[0margs\u001b[0m\u001b[0;34m,\u001b[0m \u001b[0;34m**\u001b[0m\u001b[0mkwargs\u001b[0m\u001b[0;34m)\u001b[0m\u001b[0;34m\u001b[0m\u001b[0;34m\u001b[0m\u001b[0m\n\u001b[0m\u001b[1;32m   1519\u001b[0m \u001b[0;34m\u001b[0m\u001b[0m\n\u001b[1;32m   1520\u001b[0m     \u001b[0;32mdef\u001b[0m \u001b[0m_call_impl\u001b[0m\u001b[0;34m(\u001b[0m\u001b[0mself\u001b[0m\u001b[0;34m,\u001b[0m \u001b[0;34m*\u001b[0m\u001b[0margs\u001b[0m\u001b[0;34m,\u001b[0m \u001b[0;34m**\u001b[0m\u001b[0mkwargs\u001b[0m\u001b[0;34m)\u001b[0m\u001b[0;34m:\u001b[0m\u001b[0;34m\u001b[0m\u001b[0;34m\u001b[0m\u001b[0m\n",
            "\u001b[0;32m/usr/local/lib/python3.10/dist-packages/torch/nn/modules/module.py\u001b[0m in \u001b[0;36m_call_impl\u001b[0;34m(self, *args, **kwargs)\u001b[0m\n\u001b[1;32m   1525\u001b[0m                 \u001b[0;32mor\u001b[0m \u001b[0m_global_backward_pre_hooks\u001b[0m \u001b[0;32mor\u001b[0m \u001b[0m_global_backward_hooks\u001b[0m\u001b[0;34m\u001b[0m\u001b[0;34m\u001b[0m\u001b[0m\n\u001b[1;32m   1526\u001b[0m                 or _global_forward_hooks or _global_forward_pre_hooks):\n\u001b[0;32m-> 1527\u001b[0;31m             \u001b[0;32mreturn\u001b[0m \u001b[0mforward_call\u001b[0m\u001b[0;34m(\u001b[0m\u001b[0;34m*\u001b[0m\u001b[0margs\u001b[0m\u001b[0;34m,\u001b[0m \u001b[0;34m**\u001b[0m\u001b[0mkwargs\u001b[0m\u001b[0;34m)\u001b[0m\u001b[0;34m\u001b[0m\u001b[0;34m\u001b[0m\u001b[0m\n\u001b[0m\u001b[1;32m   1528\u001b[0m \u001b[0;34m\u001b[0m\u001b[0m\n\u001b[1;32m   1529\u001b[0m         \u001b[0;32mtry\u001b[0m\u001b[0;34m:\u001b[0m\u001b[0;34m\u001b[0m\u001b[0;34m\u001b[0m\u001b[0m\n",
            "\u001b[0;32m/content/Grounded-Segment-Anything/GroundingDINO/groundingdino/models/GroundingDINO/transformer.py\u001b[0m in \u001b[0;36mforward\u001b[0;34m(self, src, pos, spatial_shapes, level_start_index, valid_ratios, key_padding_mask, memory_text, text_attention_mask, pos_text, text_self_attention_masks, position_ids)\u001b[0m\n\u001b[1;32m    574\u001b[0m             \u001b[0;31m# main process\u001b[0m\u001b[0;34m\u001b[0m\u001b[0;34m\u001b[0m\u001b[0m\n\u001b[1;32m    575\u001b[0m             \u001b[0;32mif\u001b[0m \u001b[0mself\u001b[0m\u001b[0;34m.\u001b[0m\u001b[0muse_transformer_ckpt\u001b[0m\u001b[0;34m:\u001b[0m\u001b[0;34m\u001b[0m\u001b[0;34m\u001b[0m\u001b[0m\n\u001b[0;32m--> 576\u001b[0;31m                 output = checkpoint.checkpoint(\n\u001b[0m\u001b[1;32m    577\u001b[0m                     \u001b[0mlayer\u001b[0m\u001b[0;34m,\u001b[0m\u001b[0;34m\u001b[0m\u001b[0;34m\u001b[0m\u001b[0m\n\u001b[1;32m    578\u001b[0m                     \u001b[0moutput\u001b[0m\u001b[0;34m,\u001b[0m\u001b[0;34m\u001b[0m\u001b[0;34m\u001b[0m\u001b[0m\n",
            "\u001b[0;32m/usr/local/lib/python3.10/dist-packages/torch/_compile.py\u001b[0m in \u001b[0;36minner\u001b[0;34m(*args, **kwargs)\u001b[0m\n\u001b[1;32m     22\u001b[0m             \u001b[0;32mimport\u001b[0m \u001b[0mtorch\u001b[0m\u001b[0;34m.\u001b[0m\u001b[0m_dynamo\u001b[0m\u001b[0;34m\u001b[0m\u001b[0;34m\u001b[0m\u001b[0m\n\u001b[1;32m     23\u001b[0m \u001b[0;34m\u001b[0m\u001b[0m\n\u001b[0;32m---> 24\u001b[0;31m             \u001b[0;32mreturn\u001b[0m \u001b[0mtorch\u001b[0m\u001b[0;34m.\u001b[0m\u001b[0m_dynamo\u001b[0m\u001b[0;34m.\u001b[0m\u001b[0mdisable\u001b[0m\u001b[0;34m(\u001b[0m\u001b[0mfn\u001b[0m\u001b[0;34m,\u001b[0m \u001b[0mrecursive\u001b[0m\u001b[0;34m)\u001b[0m\u001b[0;34m(\u001b[0m\u001b[0;34m*\u001b[0m\u001b[0margs\u001b[0m\u001b[0;34m,\u001b[0m \u001b[0;34m**\u001b[0m\u001b[0mkwargs\u001b[0m\u001b[0;34m)\u001b[0m\u001b[0;34m\u001b[0m\u001b[0;34m\u001b[0m\u001b[0m\n\u001b[0m\u001b[1;32m     25\u001b[0m \u001b[0;34m\u001b[0m\u001b[0m\n\u001b[1;32m     26\u001b[0m         \u001b[0;32mreturn\u001b[0m \u001b[0minner\u001b[0m\u001b[0;34m\u001b[0m\u001b[0;34m\u001b[0m\u001b[0m\n",
            "\u001b[0;32m/usr/local/lib/python3.10/dist-packages/torch/_dynamo/eval_frame.py\u001b[0m in \u001b[0;36m_fn\u001b[0;34m(*args, **kwargs)\u001b[0m\n\u001b[1;32m    326\u001b[0m             \u001b[0mdynamic_ctx\u001b[0m\u001b[0;34m.\u001b[0m\u001b[0m__enter__\u001b[0m\u001b[0;34m(\u001b[0m\u001b[0;34m)\u001b[0m\u001b[0;34m\u001b[0m\u001b[0;34m\u001b[0m\u001b[0m\n\u001b[1;32m    327\u001b[0m             \u001b[0;32mtry\u001b[0m\u001b[0;34m:\u001b[0m\u001b[0;34m\u001b[0m\u001b[0;34m\u001b[0m\u001b[0m\n\u001b[0;32m--> 328\u001b[0;31m                 \u001b[0;32mreturn\u001b[0m \u001b[0mfn\u001b[0m\u001b[0;34m(\u001b[0m\u001b[0;34m*\u001b[0m\u001b[0margs\u001b[0m\u001b[0;34m,\u001b[0m \u001b[0;34m**\u001b[0m\u001b[0mkwargs\u001b[0m\u001b[0;34m)\u001b[0m\u001b[0;34m\u001b[0m\u001b[0;34m\u001b[0m\u001b[0m\n\u001b[0m\u001b[1;32m    329\u001b[0m             \u001b[0;32mfinally\u001b[0m\u001b[0;34m:\u001b[0m\u001b[0;34m\u001b[0m\u001b[0;34m\u001b[0m\u001b[0m\n\u001b[1;32m    330\u001b[0m                 \u001b[0mset_eval_frame\u001b[0m\u001b[0;34m(\u001b[0m\u001b[0mprior\u001b[0m\u001b[0;34m)\u001b[0m\u001b[0;34m\u001b[0m\u001b[0;34m\u001b[0m\u001b[0m\n",
            "\u001b[0;32m/usr/local/lib/python3.10/dist-packages/torch/_dynamo/external_utils.py\u001b[0m in \u001b[0;36minner\u001b[0;34m(*args, **kwargs)\u001b[0m\n\u001b[1;32m     15\u001b[0m     \u001b[0;34m@\u001b[0m\u001b[0mfunctools\u001b[0m\u001b[0;34m.\u001b[0m\u001b[0mwraps\u001b[0m\u001b[0;34m(\u001b[0m\u001b[0mfn\u001b[0m\u001b[0;34m)\u001b[0m\u001b[0;34m\u001b[0m\u001b[0;34m\u001b[0m\u001b[0m\n\u001b[1;32m     16\u001b[0m     \u001b[0;32mdef\u001b[0m \u001b[0minner\u001b[0m\u001b[0;34m(\u001b[0m\u001b[0;34m*\u001b[0m\u001b[0margs\u001b[0m\u001b[0;34m,\u001b[0m \u001b[0;34m**\u001b[0m\u001b[0mkwargs\u001b[0m\u001b[0;34m)\u001b[0m\u001b[0;34m:\u001b[0m\u001b[0;34m\u001b[0m\u001b[0;34m\u001b[0m\u001b[0m\n\u001b[0;32m---> 17\u001b[0;31m         \u001b[0;32mreturn\u001b[0m \u001b[0mfn\u001b[0m\u001b[0;34m(\u001b[0m\u001b[0;34m*\u001b[0m\u001b[0margs\u001b[0m\u001b[0;34m,\u001b[0m \u001b[0;34m**\u001b[0m\u001b[0mkwargs\u001b[0m\u001b[0;34m)\u001b[0m\u001b[0;34m\u001b[0m\u001b[0;34m\u001b[0m\u001b[0m\n\u001b[0m\u001b[1;32m     18\u001b[0m \u001b[0;34m\u001b[0m\u001b[0m\n\u001b[1;32m     19\u001b[0m     \u001b[0;32mreturn\u001b[0m \u001b[0minner\u001b[0m\u001b[0;34m\u001b[0m\u001b[0;34m\u001b[0m\u001b[0m\n",
            "\u001b[0;32m/usr/local/lib/python3.10/dist-packages/torch/utils/checkpoint.py\u001b[0m in \u001b[0;36mcheckpoint\u001b[0;34m(function, use_reentrant, context_fn, determinism_check, debug, *args, **kwargs)\u001b[0m\n\u001b[1;32m    449\u001b[0m                 \u001b[0;34m\"use_reentrant=False.\"\u001b[0m\u001b[0;34m\u001b[0m\u001b[0;34m\u001b[0m\u001b[0m\n\u001b[1;32m    450\u001b[0m             )\n\u001b[0;32m--> 451\u001b[0;31m         \u001b[0;32mreturn\u001b[0m \u001b[0mCheckpointFunction\u001b[0m\u001b[0;34m.\u001b[0m\u001b[0mapply\u001b[0m\u001b[0;34m(\u001b[0m\u001b[0mfunction\u001b[0m\u001b[0;34m,\u001b[0m \u001b[0mpreserve\u001b[0m\u001b[0;34m,\u001b[0m \u001b[0;34m*\u001b[0m\u001b[0margs\u001b[0m\u001b[0;34m)\u001b[0m\u001b[0;34m\u001b[0m\u001b[0;34m\u001b[0m\u001b[0m\n\u001b[0m\u001b[1;32m    452\u001b[0m     \u001b[0;32melse\u001b[0m\u001b[0;34m:\u001b[0m\u001b[0;34m\u001b[0m\u001b[0;34m\u001b[0m\u001b[0m\n\u001b[1;32m    453\u001b[0m         gen = _checkpoint_without_reentrant_generator(\n",
            "\u001b[0;32m/usr/local/lib/python3.10/dist-packages/torch/autograd/function.py\u001b[0m in \u001b[0;36mapply\u001b[0;34m(cls, *args, **kwargs)\u001b[0m\n\u001b[1;32m    537\u001b[0m             \u001b[0;31m# See NOTE: [functorch vjp and autograd interaction]\u001b[0m\u001b[0;34m\u001b[0m\u001b[0;34m\u001b[0m\u001b[0m\n\u001b[1;32m    538\u001b[0m             \u001b[0margs\u001b[0m \u001b[0;34m=\u001b[0m \u001b[0m_functorch\u001b[0m\u001b[0;34m.\u001b[0m\u001b[0mutils\u001b[0m\u001b[0;34m.\u001b[0m\u001b[0munwrap_dead_wrappers\u001b[0m\u001b[0;34m(\u001b[0m\u001b[0margs\u001b[0m\u001b[0;34m)\u001b[0m\u001b[0;34m\u001b[0m\u001b[0;34m\u001b[0m\u001b[0m\n\u001b[0;32m--> 539\u001b[0;31m             \u001b[0;32mreturn\u001b[0m \u001b[0msuper\u001b[0m\u001b[0;34m(\u001b[0m\u001b[0;34m)\u001b[0m\u001b[0;34m.\u001b[0m\u001b[0mapply\u001b[0m\u001b[0;34m(\u001b[0m\u001b[0;34m*\u001b[0m\u001b[0margs\u001b[0m\u001b[0;34m,\u001b[0m \u001b[0;34m**\u001b[0m\u001b[0mkwargs\u001b[0m\u001b[0;34m)\u001b[0m  \u001b[0;31m# type: ignore[misc]\u001b[0m\u001b[0;34m\u001b[0m\u001b[0;34m\u001b[0m\u001b[0m\n\u001b[0m\u001b[1;32m    540\u001b[0m \u001b[0;34m\u001b[0m\u001b[0m\n\u001b[1;32m    541\u001b[0m         \u001b[0;32mif\u001b[0m \u001b[0mcls\u001b[0m\u001b[0;34m.\u001b[0m\u001b[0msetup_context\u001b[0m \u001b[0;34m==\u001b[0m \u001b[0m_SingleLevelFunction\u001b[0m\u001b[0;34m.\u001b[0m\u001b[0msetup_context\u001b[0m\u001b[0;34m:\u001b[0m\u001b[0;34m\u001b[0m\u001b[0;34m\u001b[0m\u001b[0m\n",
            "\u001b[0;32m/usr/local/lib/python3.10/dist-packages/torch/utils/checkpoint.py\u001b[0m in \u001b[0;36mforward\u001b[0;34m(ctx, run_function, preserve_rng_state, *args)\u001b[0m\n\u001b[1;32m    228\u001b[0m \u001b[0;34m\u001b[0m\u001b[0m\n\u001b[1;32m    229\u001b[0m         \u001b[0;32mwith\u001b[0m \u001b[0mtorch\u001b[0m\u001b[0;34m.\u001b[0m\u001b[0mno_grad\u001b[0m\u001b[0;34m(\u001b[0m\u001b[0;34m)\u001b[0m\u001b[0;34m:\u001b[0m\u001b[0;34m\u001b[0m\u001b[0;34m\u001b[0m\u001b[0m\n\u001b[0;32m--> 230\u001b[0;31m             \u001b[0moutputs\u001b[0m \u001b[0;34m=\u001b[0m \u001b[0mrun_function\u001b[0m\u001b[0;34m(\u001b[0m\u001b[0;34m*\u001b[0m\u001b[0margs\u001b[0m\u001b[0;34m)\u001b[0m\u001b[0;34m\u001b[0m\u001b[0;34m\u001b[0m\u001b[0m\n\u001b[0m\u001b[1;32m    231\u001b[0m         \u001b[0;32mreturn\u001b[0m \u001b[0moutputs\u001b[0m\u001b[0;34m\u001b[0m\u001b[0;34m\u001b[0m\u001b[0m\n\u001b[1;32m    232\u001b[0m \u001b[0;34m\u001b[0m\u001b[0m\n",
            "\u001b[0;32m/usr/local/lib/python3.10/dist-packages/torch/nn/modules/module.py\u001b[0m in \u001b[0;36m_wrapped_call_impl\u001b[0;34m(self, *args, **kwargs)\u001b[0m\n\u001b[1;32m   1516\u001b[0m             \u001b[0;32mreturn\u001b[0m \u001b[0mself\u001b[0m\u001b[0;34m.\u001b[0m\u001b[0m_compiled_call_impl\u001b[0m\u001b[0;34m(\u001b[0m\u001b[0;34m*\u001b[0m\u001b[0margs\u001b[0m\u001b[0;34m,\u001b[0m \u001b[0;34m**\u001b[0m\u001b[0mkwargs\u001b[0m\u001b[0;34m)\u001b[0m  \u001b[0;31m# type: ignore[misc]\u001b[0m\u001b[0;34m\u001b[0m\u001b[0;34m\u001b[0m\u001b[0m\n\u001b[1;32m   1517\u001b[0m         \u001b[0;32melse\u001b[0m\u001b[0;34m:\u001b[0m\u001b[0;34m\u001b[0m\u001b[0;34m\u001b[0m\u001b[0m\n\u001b[0;32m-> 1518\u001b[0;31m             \u001b[0;32mreturn\u001b[0m \u001b[0mself\u001b[0m\u001b[0;34m.\u001b[0m\u001b[0m_call_impl\u001b[0m\u001b[0;34m(\u001b[0m\u001b[0;34m*\u001b[0m\u001b[0margs\u001b[0m\u001b[0;34m,\u001b[0m \u001b[0;34m**\u001b[0m\u001b[0mkwargs\u001b[0m\u001b[0;34m)\u001b[0m\u001b[0;34m\u001b[0m\u001b[0;34m\u001b[0m\u001b[0m\n\u001b[0m\u001b[1;32m   1519\u001b[0m \u001b[0;34m\u001b[0m\u001b[0m\n\u001b[1;32m   1520\u001b[0m     \u001b[0;32mdef\u001b[0m \u001b[0m_call_impl\u001b[0m\u001b[0;34m(\u001b[0m\u001b[0mself\u001b[0m\u001b[0;34m,\u001b[0m \u001b[0;34m*\u001b[0m\u001b[0margs\u001b[0m\u001b[0;34m,\u001b[0m \u001b[0;34m**\u001b[0m\u001b[0mkwargs\u001b[0m\u001b[0;34m)\u001b[0m\u001b[0;34m:\u001b[0m\u001b[0;34m\u001b[0m\u001b[0;34m\u001b[0m\u001b[0m\n",
            "\u001b[0;32m/usr/local/lib/python3.10/dist-packages/torch/nn/modules/module.py\u001b[0m in \u001b[0;36m_call_impl\u001b[0;34m(self, *args, **kwargs)\u001b[0m\n\u001b[1;32m   1525\u001b[0m                 \u001b[0;32mor\u001b[0m \u001b[0m_global_backward_pre_hooks\u001b[0m \u001b[0;32mor\u001b[0m \u001b[0m_global_backward_hooks\u001b[0m\u001b[0;34m\u001b[0m\u001b[0;34m\u001b[0m\u001b[0m\n\u001b[1;32m   1526\u001b[0m                 or _global_forward_hooks or _global_forward_pre_hooks):\n\u001b[0;32m-> 1527\u001b[0;31m             \u001b[0;32mreturn\u001b[0m \u001b[0mforward_call\u001b[0m\u001b[0;34m(\u001b[0m\u001b[0;34m*\u001b[0m\u001b[0margs\u001b[0m\u001b[0;34m,\u001b[0m \u001b[0;34m**\u001b[0m\u001b[0mkwargs\u001b[0m\u001b[0;34m)\u001b[0m\u001b[0;34m\u001b[0m\u001b[0;34m\u001b[0m\u001b[0m\n\u001b[0m\u001b[1;32m   1528\u001b[0m \u001b[0;34m\u001b[0m\u001b[0m\n\u001b[1;32m   1529\u001b[0m         \u001b[0;32mtry\u001b[0m\u001b[0;34m:\u001b[0m\u001b[0;34m\u001b[0m\u001b[0;34m\u001b[0m\u001b[0m\n",
            "\u001b[0;32m/content/Grounded-Segment-Anything/GroundingDINO/groundingdino/models/GroundingDINO/transformer.py\u001b[0m in \u001b[0;36mforward\u001b[0;34m(self, src, pos, reference_points, spatial_shapes, level_start_index, key_padding_mask)\u001b[0m\n\u001b[1;32m    783\u001b[0m         \u001b[0;31m# self attention\u001b[0m\u001b[0;34m\u001b[0m\u001b[0;34m\u001b[0m\u001b[0m\n\u001b[1;32m    784\u001b[0m         \u001b[0;31m# import ipdb; ipdb.set_trace()\u001b[0m\u001b[0;34m\u001b[0m\u001b[0;34m\u001b[0m\u001b[0m\n\u001b[0;32m--> 785\u001b[0;31m         src2 = self.self_attn(\n\u001b[0m\u001b[1;32m    786\u001b[0m             \u001b[0mquery\u001b[0m\u001b[0;34m=\u001b[0m\u001b[0mself\u001b[0m\u001b[0;34m.\u001b[0m\u001b[0mwith_pos_embed\u001b[0m\u001b[0;34m(\u001b[0m\u001b[0msrc\u001b[0m\u001b[0;34m,\u001b[0m \u001b[0mpos\u001b[0m\u001b[0;34m)\u001b[0m\u001b[0;34m,\u001b[0m\u001b[0;34m\u001b[0m\u001b[0;34m\u001b[0m\u001b[0m\n\u001b[1;32m    787\u001b[0m             \u001b[0mreference_points\u001b[0m\u001b[0;34m=\u001b[0m\u001b[0mreference_points\u001b[0m\u001b[0;34m,\u001b[0m\u001b[0;34m\u001b[0m\u001b[0;34m\u001b[0m\u001b[0m\n",
            "\u001b[0;32m/usr/local/lib/python3.10/dist-packages/torch/nn/modules/module.py\u001b[0m in \u001b[0;36m_wrapped_call_impl\u001b[0;34m(self, *args, **kwargs)\u001b[0m\n\u001b[1;32m   1516\u001b[0m             \u001b[0;32mreturn\u001b[0m \u001b[0mself\u001b[0m\u001b[0;34m.\u001b[0m\u001b[0m_compiled_call_impl\u001b[0m\u001b[0;34m(\u001b[0m\u001b[0;34m*\u001b[0m\u001b[0margs\u001b[0m\u001b[0;34m,\u001b[0m \u001b[0;34m**\u001b[0m\u001b[0mkwargs\u001b[0m\u001b[0;34m)\u001b[0m  \u001b[0;31m# type: ignore[misc]\u001b[0m\u001b[0;34m\u001b[0m\u001b[0;34m\u001b[0m\u001b[0m\n\u001b[1;32m   1517\u001b[0m         \u001b[0;32melse\u001b[0m\u001b[0;34m:\u001b[0m\u001b[0;34m\u001b[0m\u001b[0;34m\u001b[0m\u001b[0m\n\u001b[0;32m-> 1518\u001b[0;31m             \u001b[0;32mreturn\u001b[0m \u001b[0mself\u001b[0m\u001b[0;34m.\u001b[0m\u001b[0m_call_impl\u001b[0m\u001b[0;34m(\u001b[0m\u001b[0;34m*\u001b[0m\u001b[0margs\u001b[0m\u001b[0;34m,\u001b[0m \u001b[0;34m**\u001b[0m\u001b[0mkwargs\u001b[0m\u001b[0;34m)\u001b[0m\u001b[0;34m\u001b[0m\u001b[0;34m\u001b[0m\u001b[0m\n\u001b[0m\u001b[1;32m   1519\u001b[0m \u001b[0;34m\u001b[0m\u001b[0m\n\u001b[1;32m   1520\u001b[0m     \u001b[0;32mdef\u001b[0m \u001b[0m_call_impl\u001b[0m\u001b[0;34m(\u001b[0m\u001b[0mself\u001b[0m\u001b[0;34m,\u001b[0m \u001b[0;34m*\u001b[0m\u001b[0margs\u001b[0m\u001b[0;34m,\u001b[0m \u001b[0;34m**\u001b[0m\u001b[0mkwargs\u001b[0m\u001b[0;34m)\u001b[0m\u001b[0;34m:\u001b[0m\u001b[0;34m\u001b[0m\u001b[0;34m\u001b[0m\u001b[0m\n",
            "\u001b[0;32m/usr/local/lib/python3.10/dist-packages/torch/nn/modules/module.py\u001b[0m in \u001b[0;36m_call_impl\u001b[0;34m(self, *args, **kwargs)\u001b[0m\n\u001b[1;32m   1525\u001b[0m                 \u001b[0;32mor\u001b[0m \u001b[0m_global_backward_pre_hooks\u001b[0m \u001b[0;32mor\u001b[0m \u001b[0m_global_backward_hooks\u001b[0m\u001b[0;34m\u001b[0m\u001b[0;34m\u001b[0m\u001b[0m\n\u001b[1;32m   1526\u001b[0m                 or _global_forward_hooks or _global_forward_pre_hooks):\n\u001b[0;32m-> 1527\u001b[0;31m             \u001b[0;32mreturn\u001b[0m \u001b[0mforward_call\u001b[0m\u001b[0;34m(\u001b[0m\u001b[0;34m*\u001b[0m\u001b[0margs\u001b[0m\u001b[0;34m,\u001b[0m \u001b[0;34m**\u001b[0m\u001b[0mkwargs\u001b[0m\u001b[0;34m)\u001b[0m\u001b[0;34m\u001b[0m\u001b[0;34m\u001b[0m\u001b[0m\n\u001b[0m\u001b[1;32m   1528\u001b[0m \u001b[0;34m\u001b[0m\u001b[0m\n\u001b[1;32m   1529\u001b[0m         \u001b[0;32mtry\u001b[0m\u001b[0;34m:\u001b[0m\u001b[0;34m\u001b[0m\u001b[0;34m\u001b[0m\u001b[0m\n",
            "\u001b[0;32m/content/Grounded-Segment-Anything/GroundingDINO/groundingdino/models/GroundingDINO/ms_deform_attn.py\u001b[0m in \u001b[0;36mforward\u001b[0;34m(self, query, key, value, query_pos, key_padding_mask, reference_points, spatial_shapes, level_start_index, **kwargs)\u001b[0m\n\u001b[1;32m    336\u001b[0m                 \u001b[0mattention_weights\u001b[0m \u001b[0;34m=\u001b[0m \u001b[0mattention_weights\u001b[0m\u001b[0;34m.\u001b[0m\u001b[0mfloat\u001b[0m\u001b[0;34m(\u001b[0m\u001b[0;34m)\u001b[0m\u001b[0;34m\u001b[0m\u001b[0;34m\u001b[0m\u001b[0m\n\u001b[1;32m    337\u001b[0m \u001b[0;34m\u001b[0m\u001b[0m\n\u001b[0;32m--> 338\u001b[0;31m             output = MultiScaleDeformableAttnFunction.apply(\n\u001b[0m\u001b[1;32m    339\u001b[0m                 \u001b[0mvalue\u001b[0m\u001b[0;34m,\u001b[0m\u001b[0;34m\u001b[0m\u001b[0;34m\u001b[0m\u001b[0m\n\u001b[1;32m    340\u001b[0m                 \u001b[0mspatial_shapes\u001b[0m\u001b[0;34m,\u001b[0m\u001b[0;34m\u001b[0m\u001b[0;34m\u001b[0m\u001b[0m\n",
            "\u001b[0;32m/usr/local/lib/python3.10/dist-packages/torch/autograd/function.py\u001b[0m in \u001b[0;36mapply\u001b[0;34m(cls, *args, **kwargs)\u001b[0m\n\u001b[1;32m    537\u001b[0m             \u001b[0;31m# See NOTE: [functorch vjp and autograd interaction]\u001b[0m\u001b[0;34m\u001b[0m\u001b[0;34m\u001b[0m\u001b[0m\n\u001b[1;32m    538\u001b[0m             \u001b[0margs\u001b[0m \u001b[0;34m=\u001b[0m \u001b[0m_functorch\u001b[0m\u001b[0;34m.\u001b[0m\u001b[0mutils\u001b[0m\u001b[0;34m.\u001b[0m\u001b[0munwrap_dead_wrappers\u001b[0m\u001b[0;34m(\u001b[0m\u001b[0margs\u001b[0m\u001b[0;34m)\u001b[0m\u001b[0;34m\u001b[0m\u001b[0;34m\u001b[0m\u001b[0m\n\u001b[0;32m--> 539\u001b[0;31m             \u001b[0;32mreturn\u001b[0m \u001b[0msuper\u001b[0m\u001b[0;34m(\u001b[0m\u001b[0;34m)\u001b[0m\u001b[0;34m.\u001b[0m\u001b[0mapply\u001b[0m\u001b[0;34m(\u001b[0m\u001b[0;34m*\u001b[0m\u001b[0margs\u001b[0m\u001b[0;34m,\u001b[0m \u001b[0;34m**\u001b[0m\u001b[0mkwargs\u001b[0m\u001b[0;34m)\u001b[0m  \u001b[0;31m# type: ignore[misc]\u001b[0m\u001b[0;34m\u001b[0m\u001b[0;34m\u001b[0m\u001b[0m\n\u001b[0m\u001b[1;32m    540\u001b[0m \u001b[0;34m\u001b[0m\u001b[0m\n\u001b[1;32m    541\u001b[0m         \u001b[0;32mif\u001b[0m \u001b[0mcls\u001b[0m\u001b[0;34m.\u001b[0m\u001b[0msetup_context\u001b[0m \u001b[0;34m==\u001b[0m \u001b[0m_SingleLevelFunction\u001b[0m\u001b[0;34m.\u001b[0m\u001b[0msetup_context\u001b[0m\u001b[0;34m:\u001b[0m\u001b[0;34m\u001b[0m\u001b[0;34m\u001b[0m\u001b[0m\n",
            "\u001b[0;32m/content/Grounded-Segment-Anything/GroundingDINO/groundingdino/models/GroundingDINO/ms_deform_attn.py\u001b[0m in \u001b[0;36mforward\u001b[0;34m(ctx, value, value_spatial_shapes, value_level_start_index, sampling_locations, attention_weights, im2col_step)\u001b[0m\n\u001b[1;32m     51\u001b[0m     ):\n\u001b[1;32m     52\u001b[0m         \u001b[0mctx\u001b[0m\u001b[0;34m.\u001b[0m\u001b[0mim2col_step\u001b[0m \u001b[0;34m=\u001b[0m \u001b[0mim2col_step\u001b[0m\u001b[0;34m\u001b[0m\u001b[0;34m\u001b[0m\u001b[0m\n\u001b[0;32m---> 53\u001b[0;31m         output = _C.ms_deform_attn_forward(\n\u001b[0m\u001b[1;32m     54\u001b[0m             \u001b[0mvalue\u001b[0m\u001b[0;34m,\u001b[0m\u001b[0;34m\u001b[0m\u001b[0;34m\u001b[0m\u001b[0m\n\u001b[1;32m     55\u001b[0m             \u001b[0mvalue_spatial_shapes\u001b[0m\u001b[0;34m,\u001b[0m\u001b[0;34m\u001b[0m\u001b[0;34m\u001b[0m\u001b[0m\n",
            "\u001b[0;31mNameError\u001b[0m: name '_C' is not defined"
          ]
        }
      ],
      "source": [
        "annotated_frame, detected_boxes = detect(image, text_prompt=\"armchair | carpet | ceiling | chair | couch | curtain | den | table | floor | furniture | glass table | living room | room | slide | window\",\n",
        "                                         model=groundingdino_model,\n",
        "                                         image_source=image_source)\n",
        "Image.fromarray(annotated_frame)"
      ]
    },
    {
      "cell_type": "code",
      "execution_count": null,
      "metadata": {
        "id": "LY1Py9-lvpcT"
      },
      "outputs": [],
      "source": [
        "print(detected_boxes)"
      ]
    },
    {
      "cell_type": "code",
      "execution_count": null,
      "metadata": {
        "id": "tig4vJ1DvU34"
      },
      "outputs": [],
      "source": [
        "# return a tensor containing all bounding boxes\n",
        "# filter for duplicates by calculating\n",
        "\n",
        "# [TODO] speedup\n",
        "\n",
        "import time\n",
        "\n",
        "def getIoU(rect1, rect2):\n",
        "  area_rect1 = rect1[2]*rect1[3]\n",
        "  area_rect2 = rect2[2]*rect2[3]\n",
        "\n",
        "  overlap_top_left = (max(rect1[0], rect2[0]), max(rect1[1], rect2[1]))\n",
        "  overlap_bottom_right = (min(rect1[0] + rect1[2], rect2[0] + rect2[2]), min(rect1[1] + rect1[3], rect2[1] + rect2[3]))\n",
        "\n",
        "  if (overlap_bottom_right[0] <= overlap_top_left[0]) or (overlap_bottom_right[1] <= overlap_top_left[1]):\n",
        "    return 0.0  # No overlap, return 0% overlap\n",
        "\n",
        "  # Calculate the area of the overlap rectangle\n",
        "  overlap_area = abs((overlap_bottom_right[0] - overlap_top_left[0]) * (overlap_bottom_right[1] - overlap_top_left[1]))\n",
        "  percent_overlap = (overlap_area / min(area_rect1, area_rect2))\n",
        "\n",
        "  return percent_overlap\n",
        "\n",
        "def compSize(rect1, rect2):\n",
        "  area_rect1 = rect1[2]*rect1[3]\n",
        "  area_rect2 = rect2[2]*rect2[3]\n",
        "\n",
        "  diff = min(area_rect1, area_rect2)/max(area_rect1, area_rect2)\n",
        "  return diff\n",
        "\n",
        "\n",
        "def getAllDetectedBoxes(image, image_source=None, keywords=[], show=False, intersection_threshold=0.7, size_threshold=0.75):\n",
        "  total_time = 0\n",
        "\n",
        "  with torch.no_grad():\n",
        "    boxes = []\n",
        "    unique_boxes_num = 0\n",
        "\n",
        "    for i, word in enumerate(keywords):\n",
        "      af, detected = detect(image, image_source=image_source, text_prompt=str(word), model=groundingdino_model)\n",
        "\n",
        "      cnt_time = time.time()\n",
        "\n",
        "      # # limit edges\n",
        "      # for d in detected:\n",
        "      #   if d[0] + d[2] >= 1:\n",
        "      #     d[2] = 1 - d[0]\n",
        "\n",
        "      #   if d[1] + d[3] >= 1:\n",
        "      #     d[3] = 1 - d[1]\n",
        "\n",
        "      if show:\n",
        "        print(i)\n",
        "      unique_enough = True\n",
        "\n",
        "      if detected != None and len(detected) != 0:\n",
        "        if unique_boxes_num == 0:\n",
        "          for box in detected:\n",
        "            boxes.append(box)\n",
        "            unique_boxes_num += 1\n",
        "\n",
        "          if show and type(image_source) != None:\n",
        "            Image.fromarray(af).show()\n",
        "\n",
        "            if show:\n",
        "              print(\"detected\", detected)\n",
        "\n",
        "        else:\n",
        "          print(\"boxes: \", boxes)\n",
        "          for box in detected:\n",
        "            unique_enough = True\n",
        "\n",
        "            if show:\n",
        "              print(\"detected: \", detected)\n",
        "\n",
        "            for prev in boxes[:unique_boxes_num]:\n",
        "\n",
        "              iou = getIoU(box, prev)\n",
        "              diff = compSize(box, prev)\n",
        "\n",
        "              if show:\n",
        "                print(\"comparing; -- \", prev, box)\n",
        "                print(\"iou: \", iou)\n",
        "                print(\"diff: \", diff)\n",
        "\n",
        "              if (iou > intersection_threshold and diff > size_threshold):\n",
        "                # bounding box is not unique enough to be added\n",
        "                unique_enough = False\n",
        "\n",
        "                if show:\n",
        "                  print(\"failed\")\n",
        "                break\n",
        "\n",
        "            if unique_enough:\n",
        "              boxes.append(box)\n",
        "              unique_boxes_num += 1\n",
        "\n",
        "              if show:\n",
        "                print(\"         success!\")\n",
        "                print(boxes)\n",
        "\n",
        "          if show and type(image_source) != None:\n",
        "            Image.fromarray(af).show()\n",
        "\n",
        "      total_time += (time.time() - cnt_time)\n",
        "\n",
        "    print(total_time)\n",
        "    return torch.stack(boxes)"
      ]
    },
    {
      "cell_type": "code",
      "execution_count": null,
      "metadata": {
        "id": "5Eg42rg4k1bf"
      },
      "outputs": [],
      "source": [
        "def decide_uniqueness(candidate_boxes, stored_boxes, intersection_threshold=0.7, size_threshold=0.75):\n",
        "  # get area difference\n",
        "  candidate_areas = 4 * candidate_boxes[:,2] * candidate_boxes[:,3]\n",
        "  stored_areas = 4 * stored_boxes[:,2] * stored_boxes[:,3]\n",
        "  minimum_areas = np.minimum(candidate_areas.unsqueeze(1), stored_areas)\n",
        "\n",
        "  area_diff = candidate_areas.unsqueeze(1)/stored_areas\n",
        "  area_diff[area_diff >= 1.] = 1/area_diff[area_diff >= 1.]\n",
        "\n",
        "  conv_cb = candidate_boxes.clone()\n",
        "  conv_sb = stored_boxes.clone()\n",
        "\n",
        "  conv_cb[:, :2] -= conv_cb[:, 2:]\n",
        "  conv_cb[:, 2:] = 2 * conv_cb[:, 2:] + conv_cb[:, :2]\n",
        "  conv_cb = np.expand_dims(conv_cb, axis=1)\n",
        "\n",
        "  conv_sb[:, :2] -= conv_sb[:, 2:]\n",
        "  conv_sb[:, 2:] = 2 * conv_sb[:, 2:] + conv_sb[:, :2]\n",
        "\n",
        "  overlap_boxes = np.concatenate([np.maximum(conv_cb[...,:2], conv_sb[...,:2]),\n",
        "                                  np.minimum(conv_cb[...,2:], conv_sb[...,2:])],\n",
        "                                 axis=-1)\n",
        "\n",
        "  iou = np.where(np.logical_and((overlap_boxes[..., 2] > overlap_boxes[..., 0]), (overlap_boxes[..., 3] > overlap_boxes[..., 1])),\n",
        "                 (overlap_boxes[..., 3] - overlap_boxes[..., 1]) * (overlap_boxes[..., 2] - overlap_boxes[..., 0])/minimum_areas,\n",
        "                 -np.inf)\n",
        "\n",
        "  boxes_comparison = np.where(\n",
        "      np.logical_and(np.logical_and(iou > intersection_threshold, area_diff > size_threshold), iou != -np.inf),\n",
        "      False,\n",
        "      True\n",
        "  )\n",
        "\n",
        "  unique_enough = np.logical_and.reduce(boxes_comparison, 1)\n",
        "\n",
        "  return unique_enough\n",
        "\n",
        "\n",
        "def eff_getAllDetectedBoxes(image, image_source=None, keywords=[], show=False, intersection_threshold=0.7, size_threshold=0.75):\n",
        "  with torch.no_grad():\n",
        "    boxes = None\n",
        "    unique_boxes_num = 0\n",
        "\n",
        "    total_time = 0\n",
        "\n",
        "    for i, word in enumerate(keywords):\n",
        "      af, detected = detect(image, image_source=image_source, text_prompt=str(word), model=groundingdino_model)\n",
        "\n",
        "      cnt_time = time.time()\n",
        "\n",
        "      if show:\n",
        "        print(i)\n",
        "      # unique_enough = True\n",
        "\n",
        "      # sort through all detected boxes, add them if there is little enough overlap with all recorded bboxes, or it is small enough for overlap to not matter\n",
        "      if detected != None and len(detected) != 0:\n",
        "        if boxes == None:\n",
        "          boxes = detected\n",
        "\n",
        "          if show and type(image_source) != None:\n",
        "            Image.fromarray(af).show()\n",
        "\n",
        "            if show:\n",
        "              print(\"detected\", detected)\n",
        "\n",
        "        else:\n",
        "          if show:\n",
        "            print(\"boxes:\\n\", boxes)\n",
        "\n",
        "            if type(image_source) != None:\n",
        "              Image.fromarray(af).show()\n",
        "\n",
        "\n",
        "          unique_enough = decide_uniqueness(detected, boxes)\n",
        "          boxes = torch.concat([boxes] + [detected[num].unsqueeze(0) for num, val in enumerate(unique_enough) if val])\n",
        "\n",
        "          if show:\n",
        "            for i, k in enumerate(unique_enough):\n",
        "              print(\"Added \" if k else \"Failed \", sep='')\n",
        "              print(detected[i])\n",
        "\n",
        "\n",
        "          total_time += (time.time() - cnt_time)\n",
        "\n",
        "    print(total_time)\n",
        "    return boxes"
      ]
    },
    {
      "cell_type": "code",
      "execution_count": null,
      "metadata": {
        "id": "nLnje54kqubX"
      },
      "outputs": [],
      "source": [
        "a = torch.tensor(np.array([[[2.,2.,2.,2.]], [[11.,1.,6.,8.]]]))\n",
        "b = torch.tensor(np.array([[3.,3.,2.,2.], [5.,6.,7.,8.], [9.,11.,12.,13.]]))\n",
        "conv_cb = torch.tensor(np.array([[2.,2.,2.,2.], [2.,2.,1.,1.], [9.5, 9.5, 2., 2.]]))\n",
        "conv_sb = torch.tensor(np.array([[3.,3.,2.,2.], [10.,10.,2.,2.]]))\n",
        "\n",
        "print(conv_cb,'\\n', conv_sb)\n",
        "i = decide_uniqueness(conv_cb, conv_sb, 0.5)\n",
        "print(i)\n",
        "\n",
        "print([conv_cb[num] for num, val in enumerate(i) if val])"
      ]
    },
    {
      "cell_type": "code",
      "execution_count": null,
      "metadata": {
        "id": "ghV_6v_4fBpF"
      },
      "outputs": [],
      "source": [
        "getAllDetectedBoxes(image, image_source, [l for l in \"armchair | carpet | ceiling | chair | couch | curtain | den | table | floor | furniture | glass table | living room | room | slide | window\".split(\"|\")],\n",
        "                                     show=False)"
      ]
    },
    {
      "cell_type": "code",
      "execution_count": null,
      "metadata": {
        "id": "OoiGIXYIpCP7"
      },
      "outputs": [],
      "source": [
        "eff_getAllDetectedBoxes(image, image_source, [l for l in \"armchair | carpet | ceiling | chair | couch | curtain | den | table | floor | furniture | glass table | living room | room | slide | window\".split(\"|\")],\n",
        "                                     show=False)"
      ]
    },
    {
      "cell_type": "code",
      "execution_count": null,
      "metadata": {
        "id": "a0BgdwTjwWBI"
      },
      "outputs": [],
      "source": [
        "image2_source, image2 = load_image(\"/content/drive/MyDrive/da_assets/rgb1.png\")\n",
        "\n",
        "detected_boxes = getAllDetectedBoxes(image, image_source, [l for l in \"armchair | carpet | ceiling | chair | couch | curtain | den | table | floor | furniture | glass table | living room | room | slide | window\".split(\"|\")],\n",
        "                                     show=True)\n",
        "detected_boxes"
      ]
    },
    {
      "cell_type": "markdown",
      "metadata": {
        "id": "6p7cHFDKQw5W"
      },
      "source": [
        "## SAM for segmentation"
      ]
    },
    {
      "cell_type": "code",
      "execution_count": null,
      "metadata": {
        "id": "k8-1lhHjQ2dm"
      },
      "outputs": [],
      "source": [
        "def segment(image, sam_model, boxes):\n",
        "  sam_model.set_image(image)\n",
        "  H, W, _ = image.shape\n",
        "  boxes_xyxy = box_ops.box_cxcywh_to_xyxy(boxes) * torch.Tensor([W, H, W, H])\n",
        "\n",
        "  transformed_boxes = sam_model.transform.apply_boxes_torch(boxes_xyxy.to(device), image.shape[:2])\n",
        "  masks, _, _ = sam_model.predict_torch(\n",
        "      point_coords = None,\n",
        "      point_labels = None,\n",
        "      boxes = transformed_boxes,\n",
        "      multimask_output = False,\n",
        "      )\n",
        "  return boxes_xyxy, masks.cpu()\n",
        "\n",
        "\n",
        "def draw_mask(mask, image, random_color=True):\n",
        "    if random_color:\n",
        "        color = np.concatenate([np.random.random(3), np.array([0.8])], axis=0)\n",
        "    else:\n",
        "        color = np.array([30/255, 144/255, 255/255, 0.6])\n",
        "    h, w = mask.shape[-2:]\n",
        "    mask_image = mask.reshape(h, w, 1) * color.reshape(1, 1, -1)\n",
        "\n",
        "    annotated_frame_pil = Image.fromarray(image).convert(\"RGBA\")\n",
        "    mask_image_pil = Image.fromarray((mask_image.cpu().numpy() * 255).astype(np.uint8)).convert(\"RGBA\")\n",
        "\n",
        "    return np.array(Image.alpha_composite(annotated_frame_pil, mask_image_pil))"
      ]
    },
    {
      "cell_type": "code",
      "execution_count": null,
      "metadata": {
        "id": "Mbn18-VBhWtL"
      },
      "outputs": [],
      "source": [
        "bboxs, segmented_frame_masks = segment(image_source, sam_predictor, boxes=detected_boxes)\n",
        "\n",
        "print(bboxs)\n",
        "print()\n",
        "print(segmented_frame_masks[0])"
      ]
    },
    {
      "cell_type": "code",
      "execution_count": null,
      "metadata": {
        "id": "puUUEAAjSlug"
      },
      "outputs": [],
      "source": [
        "for idx in range(segmented_frame_masks.shape[0]):\n",
        "  annotated_frame_with_mask = draw_mask(segmented_frame_masks[idx][0], annotated_frame)\n",
        "  Image.fromarray(annotated_frame_with_mask).show()\n"
      ]
    },
    {
      "cell_type": "markdown",
      "metadata": {
        "id": "Mp1yZKP3_g5N"
      },
      "source": [
        "# Mask test"
      ]
    },
    {
      "cell_type": "code",
      "execution_count": null,
      "metadata": {
        "id": "dBevgH8F89Px"
      },
      "outputs": [],
      "source": [
        "mask_test = np.copy(image_source)\n",
        "\n",
        "mask_test[segmented_frame_masks[7][0] == False] = 0\n",
        "\n",
        "bounds = [502, 394, 600, 538]\n",
        "Image.fromarray(mask_test).show()\n"
      ]
    },
    {
      "cell_type": "code",
      "execution_count": null,
      "metadata": {
        "id": "tv36kSF7e4f1"
      },
      "outputs": [],
      "source": [
        "bboxs = bboxs.numpy().astype(int)"
      ]
    },
    {
      "cell_type": "code",
      "execution_count": null,
      "metadata": {
        "id": "WFA7K36VfJ_W"
      },
      "outputs": [],
      "source": [
        "bboxs"
      ]
    },
    {
      "cell_type": "code",
      "execution_count": null,
      "metadata": {
        "id": "McSN3dmbdrbn"
      },
      "outputs": [],
      "source": [
        "for idx in [0,1,2]:\n",
        "  Image.fromarray(image_source[bboxs[idx][1]:bboxs[idx][3], bboxs[idx][0]:bboxs[idx][2]]).show()"
      ]
    },
    {
      "cell_type": "code",
      "execution_count": null,
      "metadata": {
        "id": "eaP6Dye7fSQG"
      },
      "outputs": [],
      "source": [
        "# cv2.imwrite('chair_1_2.png', image_source[bboxs[idx][1]:bboxs[idx][3], bboxs[idx][0]:bboxs[idx][2]]getAllDetectedBoxes(image, [l for l in \"armchair | carpet | ceiling | chair | couch | curtain | den | table | floor | furniture | glass table | living room | room | slide | window\".split(\"|\")],\n",
        "#                                      True)"
      ]
    },
    {
      "cell_type": "markdown",
      "metadata": {
        "id": "qdUSdf2J8rhf"
      },
      "source": [
        "# Get images, remove dupes"
      ]
    },
    {
      "cell_type": "code",
      "execution_count": null,
      "metadata": {
        "id": "xA0WCMXd0TfD"
      },
      "outputs": [],
      "source": [
        "# supply an image and all keywords, returns bounding box cropped\n",
        "def getAllSegmentedImages(image_path, keywords, show=False):\n",
        "  image_source, image = load_image(image_path)\n",
        "  cropped_images = []\n",
        "\n",
        "  detected_boxes = getAllDetectedBoxes(image, keywords=keywords, show=True)\n",
        "  bboxs, segmented_frame_masks = segment(image_source, sam_predictor, boxes=detected_boxes)\n",
        "\n",
        "  bboxs = bboxs.numpy().astype(int)\n",
        "  for idx in range(detected_boxes.shape[0]):\n",
        "    cropped_images.append(image_source[bboxs[idx][1]:bboxs[idx][3], bboxs[idx][0]:bboxs[idx][2]])\n",
        "\n",
        "    Image.fromarray(image_source[bboxs[idx][1]:bboxs[idx][3], bboxs[idx][0]:bboxs[idx][2]]).show()\n",
        "\n",
        "  return cropped_images\n",
        "\n",
        "# supply an image and all keywords, returns bounding box cropped\n",
        "def objectDetectionPipeline(image_path, show=False):\n",
        "  # get keywords\n",
        "  ram_transform = get_transform(image_size=384)\n",
        "  ram_image = ram_transform(Image.open(image_path)).unsqueeze(0).to(device)\n",
        "\n",
        "  res = inference(ram_image, ram_model)\n",
        "  keywords = res[0].split(' | ')\n",
        "\n",
        "  print(keywords)\n",
        "\n",
        "  keywords = [i for i in keywords if (i != 'curtains') and (i != 'curtain')]\n",
        "\n",
        "  # load images for dyno and sam\n",
        "  image_source, image = load_image(image_path)\n",
        "  cropped_images = []\n",
        "\n",
        "  detected_boxes = getAllDetectedBoxes(image, image_source=image_source, keywords=keywords, show=show)\n",
        "  bboxs, segmented_frame_masks = segment(image_source, sam_predictor, boxes=detected_boxes)\n",
        "\n",
        "  if len(bboxs) != len(detected_boxes):\n",
        "    print(\"\\n\\n\\n\\nMISSING STUFF\\nKHDSFKJHDSKFJLHDSKLJFHKLSDFH\\nKHDSFKJHDSKFJLHDSKLJFHKLSDFH\\n\\n\\n\\n\")\n",
        "\n",
        "  H, W = image_source.shape[:2]\n",
        "  detected_boxes = detected_boxes * torch.Tensor([W, H, W, H])\n",
        "  # from xywh to xyxy\n",
        "  detected_boxes[:, :2] -= detected_boxes[:, 2:] / 2\n",
        "  detected_boxes[:, 2:] += detected_boxes[:, :2]\n",
        "\n",
        "  detected_boxes = detected_boxes.numpy().astype(int)\n",
        "\n",
        "  # print(bboxs)\n",
        "  # print(detected_boxes)\n",
        "\n",
        "  bboxs = bboxs.numpy().astype(int)\n",
        "  for idx in range(detected_boxes.shape[0]):\n",
        "    cropped_images.append(image_source[bboxs[idx][1]:bboxs[idx][3], bboxs[idx][0]:bboxs[idx][2]])\n",
        "\n",
        "    # Image.fromarray(image_source[bboxs[idx][1]:bboxs[idx][3], bboxs[idx][0]:bboxs[idx][2]]).show()\n",
        "    # Image.fromarray(image_source[detected_boxes[idx][1]:detected_boxes[idx][3], detected_boxes[idx][0]:detected_boxes[idx][2]]).show()\n",
        "    # print()\n",
        "    # print()\n",
        "\n",
        "  return cropped_images, bboxs"
      ]
    },
    {
      "cell_type": "code",
      "execution_count": null,
      "metadata": {
        "id": "s0WJ_o74nCOd"
      },
      "outputs": [],
      "source": [
        "# img1_cropped_images, bboxes1 = objectDetectionPipeline(\"/content/drive/MyDrive/da_assets/cup.jpeg\", True)\n",
        "\n",
        "# # ram_model.class_threshold = torch.full(og_class_threshold.shape, 0.45)\n",
        "\n",
        "# with torch.no_grad():\n",
        "#   ram_transform = get_transform(image_size=384)\n",
        "#   ram_image = ram_transform(Image.open(\"/content/drive/MyDrive/da_assets/cup.jpeg\")).unsqueeze(0).to(device)\n",
        "\n",
        "#   tags, tags_chinese = ram_model.generate_tag(ram_image)\n",
        "\n",
        "#   print(tags[0])\n",
        "\n"
      ]
    },
    {
      "cell_type": "code",
      "execution_count": null,
      "metadata": {
        "id": "xtg4L8YPoO3P"
      },
      "outputs": [],
      "source": [
        "for i, word in enumerate(ram_model.tag_list):\n",
        "  if word == 'blue':\n",
        "    print(i)\n",
        "    break\n",
        "# ^ should be 1012 for coffee cup\n",
        "\n",
        "for i, word in zip(ram_model.class_threshold[1012:1014], ram_model.tag_list[1012:1014]):\n",
        "  print(i, \" | \", word)\n",
        "\n",
        "\n",
        "# this line stops this object from being considered (apparently)\n",
        "# can make a custom config to only tag movable objects\n",
        "# check ram model initialisation and ram_tag_list in recognize-anything/ram/data/ram_tag_list\n",
        "ram_model.class_threshold[480] = 0.999999999\n",
        "ram_model.class_threshold[1011:1013] = 0.999999999"
      ]
    },
    {
      "cell_type": "code",
      "execution_count": null,
      "metadata": {
        "id": "oy_lD2BehR_B"
      },
      "outputs": [],
      "source": [
        "img1_cropped_images, bboxes1 = objectDetectionPipeline(\"/content/drive/MyDrive/da_assets/rgb1.png\", True)"
      ]
    },
    {
      "cell_type": "code",
      "execution_count": null,
      "metadata": {
        "id": "uHQQwn5l3y7n"
      },
      "outputs": [],
      "source": [
        "img2_cropped_images, bboxes2 = objectDetectionPipeline(\"/content/drive/MyDrive/da_assets/rgb1-2.png\", True)"
      ]
    },
    {
      "cell_type": "code",
      "execution_count": null,
      "metadata": {
        "id": "FWdhM9fE1Jgw"
      },
      "outputs": [],
      "source": [
        "# for img1, img2 in zip(img1_cropped_images, img2_cropped_images):\n",
        "#   Image.fromarray(img1).show()\n",
        "#   Image.fromarray(img2).show()\n",
        "#   print()\n",
        "\n",
        "\n",
        "# display retrieved images\n",
        "fig1, axs1 = plt.subplots(1, len(img1_cropped_images), figsize=(2*len(img1_cropped_images), 2))\n",
        "for i, img in enumerate(img1_cropped_images):\n",
        "  axs1[i].imshow(img)\n",
        "  print(bboxes1[i])\n",
        "plt.subplots_adjust(wspace=0.4)\n",
        "plt.show()\n",
        "\n",
        "fig2, axs2 = plt.subplots(1, len(img2_cropped_images), figsize=(2*len(img2_cropped_images), 2))\n",
        "for i, img in enumerate(img2_cropped_images):\n",
        "  axs2[i].imshow(img)\n",
        "plt.subplots_adjust(wspace=0.4)\n",
        "plt.show()"
      ]
    },
    {
      "cell_type": "markdown",
      "metadata": {
        "id": "9t_PQjg5avkP"
      },
      "source": [
        "# Experiments"
      ]
    },
    {
      "cell_type": "code",
      "execution_count": null,
      "metadata": {
        "id": "PJnFL-2pE4AZ"
      },
      "outputs": [],
      "source": [
        "def chooseCroppedImages(img1_cropped, img2_cropped, choice1, choice2, show=True):\n",
        "  img_array_1 = []\n",
        "  for i in choice1:\n",
        "    img_array_1.append(img1_cropped[i])\n",
        "\n",
        "  img_array_2 = []\n",
        "  for i in choice2:\n",
        "    img_array_2.append(img2_cropped[i])\n",
        "\n",
        "  if show:\n",
        "    fig1, axs1 = plt.subplots(1, len(img_array_1), figsize=(2*len(img_array_1), 2))\n",
        "    for i, img in enumerate(img_array_1):\n",
        "      axs1[i].set_title(str(i))\n",
        "      axs1[i].imshow(img)\n",
        "      print(bboxes1[i])\n",
        "    plt.subplots_adjust(wspace=0.4)\n",
        "    plt.show()\n",
        "\n",
        "    fig2, axs2 = plt.subplots(1, len(img_array_2), figsize=(2*len(img_array_2), 2))\n",
        "    for i, img in enumerate(img_array_2):\n",
        "      axs2[i].set_title(str(i))\n",
        "      axs2[i].imshow(img)\n",
        "    plt.subplots_adjust(wspace=0.4)\n",
        "    plt.show()\n",
        "\n",
        "  return img_array_1, img_array_2"
      ]
    },
    {
      "cell_type": "code",
      "execution_count": null,
      "metadata": {
        "id": "mBVNfy7mFQhT"
      },
      "outputs": [],
      "source": [
        "complete_graph_indices_1 = [0,1,4,5,6,8]\n",
        "complete_graph_indices_2 = [1,0,4,5,6,7]\n",
        "\n",
        "img_array_1, img_array_2 = chooseCroppedImages(img1_cropped_images, img2_cropped_images, complete_graph_indices_1, complete_graph_indices_2)"
      ]
    },
    {
      "cell_type": "code",
      "execution_count": null,
      "metadata": {
        "id": "2fmiFWcCbnmD"
      },
      "outputs": [],
      "source": [
        "def cosine_similarity(x, y):\n",
        "\n",
        "    # Ensure length of x and y are the same\n",
        "    if len(x) != len(y) :\n",
        "        return None\n",
        "\n",
        "    # Compute the dot product between x and y\n",
        "    dot_product = np.dot(x, y)\n",
        "\n",
        "    # Compute the L2 norms (magnitudes) of x and y\n",
        "    magnitude_x = np.linalg.norm(x)\n",
        "    magnitude_y = np.linalg.norm(y)\n",
        "\n",
        "    # Compute the cosine similarity\n",
        "    cosine_similarity = dot_product / (magnitude_x * magnitude_y)\n",
        "\n",
        "    return cosine_similarity"
      ]
    },
    {
      "cell_type": "code",
      "execution_count": null,
      "metadata": {
        "id": "dffl0OodanwN"
      },
      "outputs": [],
      "source": [
        "# Comparing cosine similarity\n",
        "\n",
        "cosine_similarity_grid = np.zeros((len(img_array_1), len(img_array_2)), np.float)\n",
        "\n",
        "for i, img1 in enumerate(img_array_1):\n",
        "  sam_predictor.set_image(img1)\n",
        "  img1_emb = sam_predictor.features.detach().cpu().numpy().flatten()\n",
        "\n",
        "  for j, img2 in enumerate(img_array_2):\n",
        "    sam_predictor.set_image(img2)\n",
        "    img2_emb = sam_predictor.features.detach().cpu().numpy().flatten()\n",
        "\n",
        "    cosine_similarity_grid[i,j] = cosine_similarity(img1_emb, img2_emb)"
      ]
    },
    {
      "cell_type": "code",
      "execution_count": null,
      "metadata": {
        "id": "-II_tonBckTd"
      },
      "outputs": [],
      "source": [
        "cosine_only_correspondences = np.argmax(cosine_similarity_grid, axis=1)\n",
        "\n",
        "print(cosine_similarity_grid)\n",
        "print(\"Correspondences: \", cosine_only_correspondences)"
      ]
    },
    {
      "cell_type": "code",
      "execution_count": null,
      "metadata": {
        "id": "nB9okt8FF-N8"
      },
      "outputs": [],
      "source": [
        "from scipy.optimize import linear_sum_assignment\n",
        "from tqdm import tqdm\n",
        "\n",
        "def cosine_similarity(x, y):\n",
        "\n",
        "    # Ensure length of x and y are the same\n",
        "    if len(x) != len(y) :\n",
        "        return None\n",
        "\n",
        "    # Compute the dot product between x and y\n",
        "    dot_product = np.dot(x, y)\n",
        "\n",
        "    # Compute the L2 norms (magnitudes) of x and y\n",
        "    magnitude_x = np.linalg.norm(x)\n",
        "    magnitude_y = np.linalg.norm(y)\n",
        "\n",
        "    # Compute the cosine similarity\n",
        "    cosine_similarity = dot_product / (magnitude_x * magnitude_y)\n",
        "\n",
        "    return cosine_similarity\n",
        "\n",
        "def hungarian_association(img_array_1, img_array_2):\n",
        "  # Comparing cosine similarity\n",
        "  cosine_similarity_grid = np.zeros((len(img_array_1), len(img_array_2)), np.float)\n",
        "\n",
        "  with tqdm(total = len(img_array_1)+len(img_array_1)) as pbar:\n",
        "    emb1 = []\n",
        "    emb2 = []\n",
        "\n",
        "    for i, img1 in enumerate(img_array_1):\n",
        "      sam_predictor.set_image(img1)\n",
        "      img1_emb = sam_predictor.features.detach().cpu().numpy().flatten()\n",
        "      emb1.append(img1_emb)\n",
        "      pbar.update(1)\n",
        "\n",
        "    for j, img2 in enumerate(img_array_2):\n",
        "      sam_predictor.set_image(img2)\n",
        "      img2_emb = sam_predictor.features.detach().cpu().numpy().flatten()\n",
        "      emb2.append(img2_emb)\n",
        "      pbar.update(1)\n",
        "\n",
        "    # GET COSTS OVER HERE\n",
        "    for i, e1 in enumerate(emb1):\n",
        "      for j, e2 in enumerate(emb2):\n",
        "        cosine_similarity_grid[i,j] = cosine_similarity(e1, e2)\n",
        "\n",
        "  # get graph\n",
        "  cost_matrix = 1 - cosine_similarity_grid\n",
        "  row_idx, col_idx = linear_sum_assignment(cost_matrix)\n",
        "\n",
        "  print(row_idx, col_idx)\n",
        "  print(\"Hungarian algorithm\")\n",
        "  pairs = [i for i in zip(row_idx, col_idx)]\n",
        "\n",
        "  # similarity heatmap\n",
        "  plt.imshow(cosine_similarity_grid, cmap='hot', interpolation='nearest')\n",
        "\n",
        "  plt.colorbar()\n",
        "  plt.xlabel('Img 2')\n",
        "  plt.ylabel('Img 1')\n",
        "\n",
        "  for i in range(cosine_similarity_grid.shape[0]):\n",
        "    for j in range(cosine_similarity_grid.shape[1]):\n",
        "      text = f'{cosine_similarity_grid[i, j]:.2f}'  # Format score to two decimal placesg\n",
        "\n",
        "      if cosine_similarity_grid[i,j] > 0.5:\n",
        "        text_color = 'black'\n",
        "      else:\n",
        "        text_color = 'white'\n",
        "\n",
        "      if (i, j) in pairs:\n",
        "        text_color = 'blue'\n",
        "        text_weight = 'bold'\n",
        "      else:\n",
        "        text_weight=None\n",
        "\n",
        "      plt.text(j, i, text, ha='center', va='center', color=text_color, fontweight=text_weight)\n",
        "\n",
        "  plt.clim(0, 1);\n",
        "  plt.show()\n",
        "\n"
      ]
    },
    {
      "cell_type": "code",
      "execution_count": null,
      "metadata": {
        "id": "pNXISqcFUQB5"
      },
      "outputs": [],
      "source": [
        "# cosine_similarity_grid = np.array([\n",
        "#     [0.8, 0.1, 0.1],\n",
        "#     [0.1, 0.1, 0.1],\n",
        "#     [0.1, 0.8, 0.1],\n",
        "#     [0.8, 0.1, 0.1],\n",
        "# ])\n",
        "\n",
        "cosine_similarity_grid = np.array([\n",
        "    [1, 0, 0],\n",
        "    [0, 0, 0],\n",
        "    [0, 1, 0],\n",
        "    [0, 0, 1],\n",
        "])\n",
        "\n",
        "cost_matrix = 1 - cosine_similarity_grid\n",
        "row_idx, col_idx = linear_sum_assignment(cost_matrix)\n",
        "\n",
        "\n",
        "print(row_idx, col_idx)\n",
        "print(\"Hungarian algorithm\")\n",
        "\n",
        "pairs = [i for i in zip(row_idx, col_idx)]\n",
        "print(pairs)\n",
        "\n",
        "# similarity heatmap\n",
        "plt.imshow(cosine_similarity_grid, cmap='hot', interpolation='nearest')\n",
        "\n",
        "plt.colorbar()\n",
        "plt.xlabel('Img 2')\n",
        "plt.ylabel('Img 1')\n",
        "\n",
        "for i in range(cosine_similarity_grid.shape[0]):\n",
        "  for j in range(cosine_similarity_grid.shape[1]):\n",
        "    text = f'{cosine_similarity_grid[i, j]:.2f}'  # Format score to two decimal placesg\n",
        "\n",
        "    if cosine_similarity_grid[i,j] > 0.5:\n",
        "      text_color = 'black'\n",
        "    else:\n",
        "      text_color = 'white'\n",
        "\n",
        "    print(i, j, \" | \", np.argwhere(col_idx == i))\n",
        "    # if i in row_idx and len(np.argwhere(col_idx == i)) != 0 and np.argwhere(col_idx == i).reshape(-1)[0] == j:\n",
        "    if (i,j) in pairs:\n",
        "      text_color = 'blue'\n",
        "      text_weight = 'bold'\n",
        "    else:\n",
        "      text_weight=None\n",
        "\n",
        "    plt.text(j, i, text, ha='center', va='center', color=text_color, fontweight=text_weight)\n",
        "\n",
        "plt.clim(0, 1);\n",
        "plt.show()"
      ]
    },
    {
      "cell_type": "code",
      "execution_count": null,
      "metadata": {
        "id": "e1ZBPcuqU_IU"
      },
      "outputs": [],
      "source": []
    },
    {
      "cell_type": "code",
      "execution_count": null,
      "metadata": {
        "id": "nDOe53rjGeHe"
      },
      "outputs": [],
      "source": [
        "hungarian_association(img_array_1, img_array_2)"
      ]
    },
    {
      "cell_type": "code",
      "execution_count": null,
      "metadata": {
        "id": "sCjQtZsRcu35"
      },
      "outputs": [],
      "source": [
        "# similarity heatmap only cosine\n",
        "gt_correspondences = None\n",
        "\n",
        "plt.imshow(cosine_similarity_grid, cmap='hot', interpolation='nearest')\n",
        "\n",
        "plt.colorbar()\n",
        "plt.xlabel('Img 2')\n",
        "plt.ylabel('Img 1')\n",
        "\n",
        "for i in range(cosine_similarity_grid.shape[0]):\n",
        "  for j in range(cosine_similarity_grid.shape[1]):\n",
        "    text = f'{cosine_similarity_grid[i, j]:.2f}'  # Format score to two decimal places\n",
        "\n",
        "    if cosine_similarity_grid[i,j] > 0.5:\n",
        "      text_color = 'black'\n",
        "    else:\n",
        "      text_color = 'white'\n",
        "\n",
        "    if cosine_similarity_grid[i, j] == np.max(cosine_similarity_grid[i]):\n",
        "      text_color = 'blue'\n",
        "      text_weight = 'bold'\n",
        "    else:\n",
        "      text_weight=None\n",
        "\n",
        "    plt.text(j, i, text, ha='center', va='center', color=text_color, fontweight=text_weight)\n",
        "\n",
        "plt.clim(0, 1);\n",
        "plt.show()\n",
        "\n",
        "print(\"Associations with only cosine similarity\")\n",
        "print(\"GT association: \", gt_correspondences)\n",
        "print(\"Actual association: \", cosine_only_correspondences)\n",
        "print(\"Incorrect association for object 4, (table vs chair, similar background present)\")"
      ]
    },
    {
      "cell_type": "code",
      "execution_count": null,
      "metadata": {
        "id": "SFq58ip2gbSZ"
      },
      "outputs": [],
      "source": [
        "# data association algorithm with DF Crouse. On implementing 2D rectangular assignment algorithms. IEEE Transactions on Aerospace and Electronic Systems, 52(4):1679-1696, August 2016, DOI:10.1109/TAES.2016.140952\n",
        "\n",
        "from scipy.optimize import linear_sum_assignment\n",
        "\n",
        "cost_matrix = 1 - cosine_similarity_grid\n",
        "row_idx, col_idx = linear_sum_assignment(cost_matrix)\n",
        "\n",
        "print(row_idx, col_idx)\n",
        "print(\"Hungarian algorithm`\")\n",
        "\n",
        "\n",
        "\n",
        "# similarity heatmap\n",
        "plt.imshow(cosine_similarity_grid, cmap='hot', interpolation='nearest')\n",
        "\n",
        "plt.colorbar()\n",
        "plt.xlabel('Img 2')\n",
        "plt.ylabel('Img 1')\n",
        "\n",
        "for i in range(cosine_similarity_grid.shape[0]):\n",
        "  for j in range(cosine_similarity_grid.shape[1]):\n",
        "    text = f'{cosine_similarity_grid[i, j]:.2f}'  # Format score to two decimal placesg\n",
        "\n",
        "    if cosine_similarity_grid[i,j] > 0.5:\n",
        "      text_color = 'black'\n",
        "    else:\n",
        "      text_color = 'white'\n",
        "\n",
        "    if np.argwhere(row_idx == j) == i:\n",
        "      text_color = 'blue'\n",
        "      text_weight = 'bold'\n",
        "    else:\n",
        "      text_weight=None\n",
        "\n",
        "    plt.text(j, i, text, ha='center', va='center', color=text_color, fontweight=text_weight)\n",
        "\n",
        "plt.clim(0, 1);\n",
        "plt.show()\n"
      ]
    },
    {
      "cell_type": "code",
      "execution_count": null,
      "metadata": {
        "id": "DzwxgVtM485P"
      },
      "outputs": [],
      "source": [
        "# img1_1_cropped = getAllSegmentedImages(\"/content/drive/MyDrive/da_assets/rgb1.png\", objects, show=True)"
      ]
    },
    {
      "cell_type": "code",
      "execution_count": null,
      "metadata": {
        "id": "po2Yebdm3i0V"
      },
      "outputs": [],
      "source": [
        "# img1_2_cropped = getAllSegmentedImages(\"/content/drive/MyDrive/da_assets/rgb1-2.png\", objects, show=True)"
      ]
    },
    {
      "cell_type": "markdown",
      "metadata": {
        "id": "MQz1FQWpx7WH"
      },
      "source": [
        "# More experiments"
      ]
    },
    {
      "cell_type": "code",
      "execution_count": null,
      "metadata": {
        "id": "7HvNeP_UfWnt"
      },
      "outputs": [],
      "source": [
        "Image.open(\"/content/drive/MyDrive/da_assets/5_pairs/1/rgb1.png\").show()\n",
        "Image.open(\"/content/drive/MyDrive/da_assets/5_pairs/1/rgb1-2.png\").show()"
      ]
    },
    {
      "cell_type": "code",
      "execution_count": null,
      "metadata": {
        "id": "8eWRSiNmfKkk"
      },
      "outputs": [],
      "source": [
        "img1_cropped_images, bboxes1 = objectDetectionPipeline(\"/content/drive/MyDrive/da_assets/5_pairs/1/rgb1.png\", False)\n",
        "img2_cropped_images, bboxes2 = objectDetectionPipeline(\"/content/drive/MyDrive/da_assets/5_pairs/1/rgb1-2.png\", False)"
      ]
    },
    {
      "cell_type": "code",
      "execution_count": null,
      "metadata": {
        "id": "0YLisC3uUG2x"
      },
      "outputs": [],
      "source": [
        "# display retrieved images\n",
        "fig1, axs1 = plt.subplots(1, len(img1_cropped_images[:8]), figsize=(2*len(img1_cropped_images[:8]), 2))\n",
        "for i, img in enumerate(img1_cropped_images[:8]):\n",
        "  axs1[i].imshow(img)\n",
        "  # print(bboxes1[i])\n",
        "plt.subplots_adjust(wspace=0.4)\n",
        "plt.show()\n",
        "\n",
        "fig1, axs1 = plt.subplots(1, len(img1_cropped_images[8:]), figsize=(2*len(img1_cropped_images[8:]), 2))\n",
        "for i, img in enumerate(img1_cropped_images[8:]):\n",
        "  axs1[i].imshow(img)\n",
        "  # print(bboxes1[i])\n",
        "plt.subplots_adjust(wspace=0.4)\n",
        "plt.show()\n",
        "\n",
        "print()\n",
        "print()\n",
        "\n",
        "fig2, axs2 = plt.subplots(1, len(img2_cropped_images[:8]), figsize=(2*len(img2_cropped_images[:8]), 2))\n",
        "for i, img in enumerate(img2_cropped_images[:8]):\n",
        "  axs2[i].imshow(img)\n",
        "plt.subplots_adjust(wspace=0.4)\n",
        "plt.show()\n",
        "\n",
        "fig2, axs2 = plt.subplots(1, len(img2_cropped_images[8:]), figsize=(2*len(img2_cropped_images[8:]), 2))\n",
        "for i, img in enumerate(img2_cropped_images[8:]):\n",
        "  axs2[i].imshow(img)\n",
        "plt.subplots_adjust(wspace=0.4)\n",
        "plt.show()"
      ]
    },
    {
      "cell_type": "code",
      "execution_count": null,
      "metadata": {
        "id": "_BjSO__IhJ69"
      },
      "outputs": [],
      "source": [
        "# filter bounding boxes\n",
        "\n",
        "# complete match, hard\n",
        "\n",
        "complete_graph_indices_1 = [0,1,3,4]\n",
        "complete_graph_indices_2 = [0,1,6,4]\n",
        "\n",
        "img_array_1 = []\n",
        "for i in complete_graph_indices_1:\n",
        "  img_array_1.append(img1_cropped_images[i])\n",
        "\n",
        "img_array_2 = []\n",
        "for i in complete_graph_indices_2:\n",
        "  img_array_2.append(img2_cropped_images[i])\n",
        "\n",
        "\n",
        "fig1, axs1 = plt.subplots(1, len(img_array_1), figsize=(2*len(img_array_1), 2))\n",
        "for i, img in enumerate(img_array_1):\n",
        "  axs1[i].imshow(img)\n",
        "  print(bboxes1[i])\n",
        "plt.subplots_adjust(wspace=0.4)\n",
        "plt.show()\n",
        "\n",
        "fig2, axs2 = plt.subplots(1, len(img_array_2), figsize=(2*len(img_array_2), 2))\n",
        "for i, img in enumerate(img_array_2):\n",
        "  axs2[i].imshow(img)\n",
        "plt.subplots_adjust(wspace=0.4)\n",
        "plt.show()\n",
        "\n",
        "\n",
        "gt_correspondences = [k for k in range(6)]\n",
        "print(\"Ground truth correspondence: \", gt_correspondences)"
      ]
    },
    {
      "cell_type": "code",
      "execution_count": null,
      "metadata": {
        "id": "nyB02jd7iGvF"
      },
      "outputs": [],
      "source": [
        "cosine_similarity_grid = np.zeros((len(img_array_1), len(img_array_2)), np.float)\n",
        "\n",
        "for i, img1 in enumerate(img_array_1):\n",
        "  sam_predictor.set_image(img1)\n",
        "  img1_emb = sam_predictor.features.detach().cpu().numpy().flatten()\n",
        "\n",
        "  for j, img2 in enumerate(img_array_2):\n",
        "    sam_predictor.set_image(img2)\n",
        "    img2_emb = sam_predictor.features.detach().cpu().numpy().flatten()\n",
        "\n",
        "    cosine_similarity_grid[i,j] = cosine_similarity(img1_emb, img2_emb)\n",
        "\n",
        "cosine_only_correspondences = np.argmax(cosine_similarity_grid, axis=1)\n",
        "\n",
        "print(cosine_similarity_grid)\n",
        "print(\"Correspondences: \", cosine_only_correspondences)"
      ]
    },
    {
      "cell_type": "code",
      "execution_count": null,
      "metadata": {
        "id": "YJ8MhG_yiS6w"
      },
      "outputs": [],
      "source": [
        "# similarity heatmap\n",
        "plt.imshow(cosine_similarity_grid, cmap='hot', interpolation='nearest')\n",
        "\n",
        "plt.colorbar()\n",
        "plt.xlabel('Img 2')\n",
        "plt.ylabel('Img 1')\n",
        "\n",
        "for i in range(cosine_similarity_grid.shape[0]):\n",
        "  for j in range(cosine_similarity_grid.shape[1]):\n",
        "    text = f'{cosine_similarity_grid[i, j]:.2f}'  # Format score to two decimal places\n",
        "\n",
        "    if cosine_similarity_grid[i,j] > 0.5:\n",
        "      text_color = 'black'\n",
        "    else:\n",
        "      text_color = 'white'\n",
        "\n",
        "    if cosine_similarity_grid[i, j] == np.max(cosine_similarity_grid[i]):\n",
        "      text_color = 'blue'\n",
        "      text_weight = 'bold'\n",
        "    else:\n",
        "      text_weight=None\n",
        "\n",
        "    plt.text(j, i, text, ha='center', va='center', color=text_color, fontweight=text_weight)\n",
        "\n",
        "plt.clim(0, 1);\n",
        "plt.show()\n",
        "\n",
        "print(\"Associations with only cosine similarity\")\n",
        "print(\"GT association: \", gt_correspondences)\n",
        "print(\"Actual association: \", cosine_only_correspondences)"
      ]
    },
    {
      "cell_type": "code",
      "execution_count": null,
      "metadata": {
        "id": "J6z84XYaiVtI"
      },
      "outputs": [],
      "source": [
        "# data association algorithm with DF Crouse. On implementing 2D rectangular assignment algorithms. IEEE Transactions on Aerospace and Electronic Systems, 52(4):1679-1696, August 2016, DOI:10.1109/TAES.2016.140952\n",
        "\n",
        "cost_matrix = 1 - cosine_similarity_grid\n",
        "row_idx, col_idx = linear_sum_assignment(cost_matrix)\n",
        "assignment = [k for k in zip(row_idx, col_idx)]\n",
        "print(row_idx, col_idx)\n",
        "print(\"Hungarian algorithm\")\n",
        "\n",
        "\n",
        "\n",
        "# similarity heatmap\n",
        "plt.imshow(cosine_similarity_grid, cmap='hot', interpolation='nearest')\n",
        "\n",
        "plt.colorbar()\n",
        "plt.xlabel('Img 2')\n",
        "plt.ylabel('Img 1')\n",
        "\n",
        "for i in range(cosine_similarity_grid.shape[0]):\n",
        "  for j in range(cosine_similarity_grid.shape[1]):\n",
        "    text = f'{cosine_similarity_grid[i, j]:.2f}'  # Format score to two decimal placesg\n",
        "\n",
        "    if cosine_similarity_grid[i,j] > 0.5:\n",
        "      text_color = 'black'\n",
        "    else:\n",
        "      text_color = 'white'\n",
        "\n",
        "    if (i,j) in assignment:\n",
        "      text_color = 'blue'\n",
        "      text_weight = 'bold'\n",
        "    else:\n",
        "      text_weight=None\n",
        "\n",
        "    plt.text(j, i, text, ha='center', va='center', color=text_color, fontweight=text_weight)\n",
        "\n",
        "plt.clim(0, 1);\n",
        "plt.show()\n"
      ]
    },
    {
      "cell_type": "markdown",
      "metadata": {
        "id": "nGKyCfsQPVBv"
      },
      "source": [
        "## Pair 2"
      ]
    },
    {
      "cell_type": "code",
      "execution_count": null,
      "metadata": {
        "id": "NJ6fojouPYHT"
      },
      "outputs": [],
      "source": [
        "Image.open(\"/content/drive/MyDrive/da_assets/5_pairs/2/rgb2.png\").show()\n",
        "Image.open(\"/content/drive/MyDrive/da_assets/5_pairs/2/rgb2-2.png\").show()"
      ]
    },
    {
      "cell_type": "code",
      "execution_count": null,
      "metadata": {
        "id": "plvvqIRTPjW5"
      },
      "outputs": [],
      "source": [
        "img1_cropped_images, bboxes1 = objectDetectionPipeline(\"/content/drive/MyDrive/da_assets/5_pairs/2/rgb2.png\", True)\n",
        "img2_cropped_images, bboxes2 = objectDetectionPipeline(\"/content/drive/MyDrive/da_assets/5_pairs/2/rgb2-2.png\", True)"
      ]
    },
    {
      "cell_type": "code",
      "execution_count": null,
      "metadata": {
        "id": "QFZXDpbaSNAI"
      },
      "outputs": [],
      "source": [
        "# display retrieved images\n",
        "print(len(img1_cropped_images))\n",
        "\n",
        "fig1, axs1 = plt.subplots(1, len(img1_cropped_images), figsize=(2*len(img1_cropped_images), 2))\n",
        "for i, img in enumerate(img1_cropped_images):\n",
        "  axs1[i].imshow(img)\n",
        "  # print(bboxes1[i])\n",
        "plt.subplots_adjust(wspace=0.4)\n",
        "plt.show()\n",
        "\n",
        "print()\n",
        "print()\n",
        "\n",
        "fig2, axs2 = plt.subplots(1, len(img2_cropped_images), figsize=(2*len(img2_cropped_images), 2))\n",
        "for i, img in enumerate(img2_cropped_images):\n",
        "  axs2[i].imshow(img)\n",
        "plt.subplots_adjust(wspace=0.4)\n",
        "plt.show()\n"
      ]
    },
    {
      "cell_type": "code",
      "execution_count": null,
      "metadata": {
        "id": "ORd27AJ1kSGM"
      },
      "outputs": [],
      "source": [
        "# # data association algorithm with DF Crouse. On implementing 2D rectangular assignment algorithms. IEEE Transactions on Aerospace and Electronic Systems, 52(4):1679-1696, August 2016, DOI:10.1109/TAES.2016.140952\n",
        "\n",
        "# cost_matrix = np.array(\n",
        "#     [\n",
        "#         [0.2, 0.3, 0.5],\n",
        "#         [1,   0.2, 0.3],\n",
        "#         [1,   0.1, 0.99]\n",
        "#     ]\n",
        "# )\n",
        "# row_idx, col_idx = linear_sum_assignment(cost_matrix)\n",
        "# cosine_similarity_grid = cost_matrix\n",
        "\n",
        "# print(row_idx, col_idx)\n",
        "# print(\"Linear assignment works instead\")\n",
        "\n",
        "\n",
        "\n",
        "# # similarity heatmap\n",
        "# plt.imshow(cosine_similarity_grid, cmap='hot', interpolation='nearest')\n",
        "\n",
        "# plt.colorbar()\n",
        "# plt.xlabel('Img 2')\n",
        "# plt.ylabel('Img 1')\n",
        "\n",
        "# assignment = [k for k in zip(row_idx, col_idx)]\n",
        "# for i in range(cosine_similarity_grid.shape[0]):\n",
        "#   for j in range(cosine_similarity_grid.shape[1]):\n",
        "#     text = f'{cosine_similarity_grid[i, j]:.2f}'  # Format score to two decimal placesg\n",
        "\n",
        "#     if cosine_similarity_grid[i,j] > 0.5:\n",
        "#       text_color = 'black'\n",
        "#     else:\n",
        "#       text_color = 'white'\n",
        "\n",
        "#     if (i,j) in assignment:\n",
        "#       text_color = 'blue'\n",
        "#       text_weight = 'bold'\n",
        "#     else:\n",
        "#       text_weight=None\n",
        "\n",
        "#     plt.text(j, i, text, ha='center', va='center', color=text_color, fontweight=text_weight)\n",
        "\n",
        "# plt.clim(0, 1);\n",
        "# plt.show()\n",
        "\n"
      ]
    },
    {
      "cell_type": "markdown",
      "metadata": {
        "id": "2x8zOFC3muU4"
      },
      "source": [
        "- missing objects\n",
        "- added objects\n",
        "- more scenes\n",
        "- datasets"
      ]
    },
    {
      "cell_type": "markdown",
      "metadata": {
        "id": "BP6AaJ5mKwjM"
      },
      "source": [
        "# For tomorrow"
      ]
    },
    {
      "cell_type": "markdown",
      "metadata": {
        "id": "ZnY14wp1K8g2"
      },
      "source": [
        "## Test % of objects moved"
      ]
    },
    {
      "cell_type": "markdown",
      "metadata": {
        "id": "niwsXaysQpH2"
      },
      "source": [
        "### 20%"
      ]
    },
    {
      "cell_type": "code",
      "execution_count": null,
      "metadata": {
        "id": "PeoKtW-dK0-k"
      },
      "outputs": [],
      "source": [
        "# 20%\n",
        "\n",
        "img1_c, bboxes1 = objectDetectionPipeline(\"/content/drive/MyDrive/da_assets/latest/20pc/view1/original.png\", False)\n",
        "img2_c, bboxes2 = objectDetectionPipeline(\"/content/drive/MyDrive/da_assets/latest/20pc/view1/modified.png\", False)"
      ]
    },
    {
      "cell_type": "code",
      "execution_count": null,
      "metadata": {
        "id": "PkH27jHAPbQe"
      },
      "outputs": [],
      "source": [
        "# idx1 = [i for i in range(len(img1_c))]\n",
        "# idx2 = [i for i in range(len(img2_c))]\n",
        "\n",
        "idx1 = [0, 1, 2, 5, 6]\n",
        "idx2 = [0, 1, 2, 6, 5]\n",
        "\n",
        "# 0 1 2 8 7\n",
        "# 0 1 2 7 9\n",
        "\n",
        "img_array_1, img_array_2 = chooseCroppedImages(img1_c, img2_c, idx1, idx2)"
      ]
    },
    {
      "cell_type": "code",
      "execution_count": null,
      "metadata": {
        "id": "AX8z4sCxQgLI"
      },
      "outputs": [],
      "source": [
        "hungarian_association(img_array_1, img_array_2)"
      ]
    },
    {
      "cell_type": "markdown",
      "metadata": {
        "id": "wqy4e3g5Qy_r"
      },
      "source": [
        "### 40%"
      ]
    },
    {
      "cell_type": "code",
      "execution_count": null,
      "metadata": {
        "id": "X7u8lDxFQy_s"
      },
      "outputs": [],
      "source": [
        "# 40%\n",
        "\n",
        "img1_c, bboxes1 = objectDetectionPipeline(\"/content/drive/MyDrive/da_assets/latest/40pc/view4/original.png\", False)\n",
        "img2_c, bboxes2 = objectDetectionPipeline(\"/content/drive/MyDrive/da_assets/latest/40pc/view4/modified.png\", False)"
      ]
    },
    {
      "cell_type": "code",
      "execution_count": null,
      "metadata": {
        "id": "8GfYd3uWQy_t"
      },
      "outputs": [],
      "source": [
        "# idx1 = [i for i in range(len(img1_c))]\n",
        "# idx2 = [i for i in range(len(img2_c))]\n",
        "idx1 = [0, 1, 2, 5, 6]\n",
        "idx2 = [0, 1, 2, 5, 6]\n",
        "\n",
        "\n",
        "img_array_1, img_array_2 = chooseCroppedImages(img1_c, img2_c, idx1, idx2)"
      ]
    },
    {
      "cell_type": "code",
      "execution_count": null,
      "metadata": {
        "id": "QZiyLX5_Qy_t"
      },
      "outputs": [],
      "source": [
        "hungarian_association(img_array_1, img_array_2)"
      ]
    },
    {
      "cell_type": "markdown",
      "metadata": {
        "id": "Vsqf65jrS2AC"
      },
      "source": [
        "### 60 %\n"
      ]
    },
    {
      "cell_type": "code",
      "execution_count": null,
      "metadata": {
        "id": "MpiqxHvZS4Fc"
      },
      "outputs": [],
      "source": [
        "# 60%\n",
        "\n",
        "img1_c, bboxes1 = objectDetectionPipeline(\"/content/drive/MyDrive/da_assets/latest/60pc/view4/original.png\", True)\n",
        "img2_c, bboxes2 = objectDetectionPipeline(\"/content/drive/MyDrive/da_assets/latest/60pc/view4/modified.png\", True)"
      ]
    },
    {
      "cell_type": "code",
      "execution_count": null,
      "metadata": {
        "id": "FrOe2kqJTIDE"
      },
      "outputs": [],
      "source": [
        "# idx1 = [i for i in range(len(img1_c))]\n",
        "# idx2 = [i for i in range(len(img2_c))]\n",
        "idx1 = [0, 1, 2, 6, 7]\n",
        "idx2 = [1, 0, 3, 6, 7]\n",
        "\n",
        "\n",
        "img_array_1, img_array_2 = chooseCroppedImages(img1_c, img2_c, idx1, idx2)"
      ]
    },
    {
      "cell_type": "code",
      "execution_count": null,
      "metadata": {
        "id": "sLJmFpikUE54"
      },
      "outputs": [],
      "source": [
        "hungarian_association(img_array_1, img_array_2)"
      ]
    },
    {
      "cell_type": "markdown",
      "metadata": {
        "id": "cC46w6GpUVsF"
      },
      "source": [
        "### 80%"
      ]
    },
    {
      "cell_type": "code",
      "execution_count": null,
      "metadata": {
        "id": "eN8LpMu-UUKn"
      },
      "outputs": [],
      "source": [
        "# 80%\n",
        "\n",
        "img1_c, bboxes1 = objectDetectionPipeline(\"/content/drive/MyDrive/da_assets/latest/80pc/view4/original.png\", True)\n",
        "img2_c, bboxes2 = objectDetectionPipeline(\"/content/drive/MyDrive/da_assets/latest/80pc/view4/modified.png\", True)"
      ]
    },
    {
      "cell_type": "code",
      "execution_count": null,
      "metadata": {
        "id": "WkjnUVRiUmA4"
      },
      "outputs": [],
      "source": [
        "# [0.7111, 0.5793, 0.1453, 0.1310]\n",
        "# idx1 = [i for i in range(len(img1_c))]\n",
        "# idx2 = [i for i in range(len(img2_c))]\n",
        "\n",
        "idx1 = [0, 1, 2, 6, 7]\n",
        "idx2 = [1, 0, 2, 6, 5]\n",
        "\n",
        "img_array_1, img_array_2 = chooseCroppedImages(img1_c, img2_c, idx1, idx2)"
      ]
    },
    {
      "cell_type": "code",
      "execution_count": null,
      "metadata": {
        "id": "n7mbc0Y3nNbz"
      },
      "outputs": [],
      "source": [
        "hungarian_association(img_array_1, img_array_2)"
      ]
    },
    {
      "cell_type": "markdown",
      "metadata": {
        "id": "Cy4ozcRCnh3H"
      },
      "source": [
        "### 100%"
      ]
    },
    {
      "cell_type": "code",
      "execution_count": null,
      "metadata": {
        "id": "r0zGKYyYnesd"
      },
      "outputs": [],
      "source": [
        "# 100%\n",
        "\n",
        "img1_c, bboxes1 = objectDetectionPipeline(\"/content/drive/MyDrive/da_assets/latest/100pc/view1/original.png\", True)\n",
        "img2_c, bboxes2 = objectDetectionPipeline(\"/content/drive/MyDrive/da_assets/latest/100pc/view1/modified.png\", True)"
      ]
    },
    {
      "cell_type": "code",
      "execution_count": null,
      "metadata": {
        "id": "aR-h9aM9nu4a"
      },
      "outputs": [],
      "source": [
        "# [0.7111, 0.5793, 0.1453, 0.1310]\n",
        "idx1 = [i for i in range(len(img1_c))]\n",
        "idx2 = [i for i in range(len(img2_c))]\n",
        "\n",
        "idx1 = [0, 1, 2, 3, 6]\n",
        "idx2 = [0, 1, 6, 3, 7]\n",
        "\n",
        "img_array_1, img_array_2 = chooseCroppedImages(img1_c, img2_c, idx1, idx2)"
      ]
    },
    {
      "cell_type": "code",
      "execution_count": null,
      "metadata": {
        "id": "B3mUO8Agoo7v"
      },
      "outputs": [],
      "source": [
        "hungarian_association(img_array_1, img_array_2)\n",
        "\n",
        "print()\n",
        "print(\"Method fails\")"
      ]
    },
    {
      "cell_type": "code",
      "execution_count": null,
      "metadata": {
        "id": "Eb3ClRE5SjvL"
      },
      "outputs": [],
      "source": [
        "img1_c, bboxes1 = objectDetectionPipeline(\"/content/drive/MyDrive/da_assets/latest/100pc/view3/original.png\", True)\n",
        "img2_c, bboxes2 = objectDetectionPipeline(\"/content/drive/MyDrive/da_assets/latest/100pc/view3/modified.png\", True)"
      ]
    },
    {
      "cell_type": "code",
      "execution_count": null,
      "metadata": {
        "id": "Bu9rScHBSv3w"
      },
      "outputs": [],
      "source": [
        "# [0.7111, 0.5793, 0.1453, 0.1310]\n",
        "idx1 = [i for i in range(len(img1_c))]\n",
        "idx2 = [i for i in range(len(img2_c))]\n",
        "\n",
        "idx1 = [0, 3, 4, 1]\n",
        "idx2 = [0, 3, 2]\n",
        "\n",
        "img_array_1, img_array_2 = chooseCroppedImages(img1_c, img2_c, idx1, idx2)"
      ]
    },
    {
      "cell_type": "code",
      "execution_count": null,
      "metadata": {
        "id": "jws88rdbTCe5"
      },
      "outputs": [],
      "source": [
        "hungarian_association(img_array_1, img_array_2)\n",
        "\n",
        "print(\"Fails with the lamp missing in scene 2\")"
      ]
    },
    {
      "cell_type": "markdown",
      "metadata": {
        "id": "OZNyPeJOZhIo"
      },
      "source": [
        "## Change in place"
      ]
    },
    {
      "cell_type": "code",
      "execution_count": null,
      "metadata": {
        "id": "7x-P-GLQbc2l"
      },
      "outputs": [],
      "source": [
        "positions = np.array([\n",
        "    [-2.5, 6.25],\n",
        "    [-4.5, 6.25],\n",
        "    [-4.5, 3.25],\n",
        "    [-4.5, 0],\n",
        "    [-2.5, 0],\n",
        "])\n",
        "\n",
        "yaws = np.array([\n",
        "    180,135,90,45,0\n",
        "])"
      ]
    },
    {
      "cell_type": "markdown",
      "metadata": {
        "id": "31WgAQa6gQ-Q"
      },
      "source": [
        "## set 1"
      ]
    },
    {
      "cell_type": "markdown",
      "metadata": {
        "id": "dLSSOHYXZ75V"
      },
      "source": [
        "### position 1 vs 2"
      ]
    },
    {
      "cell_type": "code",
      "execution_count": null,
      "metadata": {
        "id": "E7kUitZpZlr5"
      },
      "outputs": [],
      "source": [
        "img1_c, bboxes1 = objectDetectionPipeline(\"/content/drive/MyDrive/da_assets/latest/100pc/view1/modified.png\", False)\n",
        "img2_c, bboxes2 = objectDetectionPipeline(\"/content/drive/MyDrive/da_assets/latest/100pc/view2/modified.png\", False)"
      ]
    },
    {
      "cell_type": "code",
      "execution_count": null,
      "metadata": {
        "id": "3IHrdsbkZnmN"
      },
      "outputs": [],
      "source": [
        "# [0.7111, 0.5793, 0.1453, 0.1310]\n",
        "idx1 = [i for i in range(len(img1_c))]\n",
        "idx2 = [i for i in range(len(img2_c))]\n",
        "\n",
        "idx1 = [0, 1, 3, 6, 7]\n",
        "idx2 = [0, 1, 2, 7, 6]\n",
        "\n",
        "img_array_1, img_array_2 = chooseCroppedImages(img1_c, img2_c, idx1, idx2)"
      ]
    },
    {
      "cell_type": "code",
      "execution_count": null,
      "metadata": {
        "id": "sE3io4LVZpMs"
      },
      "outputs": [],
      "source": [
        "print()\n",
        "print()\n",
        "print(\"Translation: \", np.linalg.norm(positions[0] - positions[1]))\n",
        "print(\"Yaw difference: \", yaws[0]-yaws[1])\n",
        "\n",
        "hungarian_association(img_array_1, img_array_2)\n",
        "\n",
        "\n",
        "\n",
        "print(\"Fails when overlap is present\")"
      ]
    },
    {
      "cell_type": "markdown",
      "metadata": {
        "id": "nSeElq5fapbQ"
      },
      "source": [
        "### pos 1 vs 3"
      ]
    },
    {
      "cell_type": "code",
      "execution_count": null,
      "metadata": {
        "id": "zys50kxharDb"
      },
      "outputs": [],
      "source": [
        "img1_c, bboxes1 = objectDetectionPipeline(\"/content/drive/MyDrive/da_assets/latest/100pc/view1/modified.png\", True)\n",
        "img2_c, bboxes2 = objectDetectionPipeline(\"/content/drive/MyDrive/da_assets/latest/100pc/view3/modified.png\", True)"
      ]
    },
    {
      "cell_type": "code",
      "execution_count": null,
      "metadata": {
        "id": "OrUGiVzyaxIu"
      },
      "outputs": [],
      "source": [
        "# [0.7111, 0.5793, 0.1453, 0.1310]\n",
        "idx1 = [i for i in range(len(img1_c))]\n",
        "idx2 = [i for i in range(len(img2_c))]\n",
        "\n",
        "idx1 = [1, 6, 7, 0, 3]\n",
        "idx2 = [0, 3, 2]\n",
        "\n",
        "img_array_1, img_array_2 = chooseCroppedImages(img1_c, img2_c, idx1, idx2)"
      ]
    },
    {
      "cell_type": "code",
      "execution_count": null,
      "metadata": {
        "id": "xBhdqf4na0XR"
      },
      "outputs": [],
      "source": [
        "print()\n",
        "print()\n",
        "print(\"Translation: \", np.linalg.norm(positions[0] - positions[2]))\n",
        "print(\"Yaw difference: \", yaws[0]-yaws[2])\n",
        "\n",
        "hungarian_association(img_array_1, img_array_2)\n",
        "\n",
        "# print(\"Fails when overlap is present\")"
      ]
    },
    {
      "cell_type": "code",
      "execution_count": null,
      "metadata": {
        "id": "DriL-XuydvG2"
      },
      "outputs": [],
      "source": [
        "img1_c, bboxes1 = objectDetectionPipeline(\"/content/drive/MyDrive/da_assets/latest/100pc/view1/modified.png\", True)\n",
        "img2_c, bboxes2 = objectDetectionPipeline(\"/content/drive/MyDrive/da_assets/latest/100pc/view4/modified.png\", True)"
      ]
    },
    {
      "cell_type": "code",
      "execution_count": null,
      "metadata": {
        "id": "HlvppC4ud8xX"
      },
      "outputs": [],
      "source": [
        "# [0.7111, 0.5793, 0.1453, 0.1310]\n",
        "idx1 = [i for i in range(len(img1_c))]\n",
        "idx2 = [i for i in range(len(img2_c))]\n",
        "\n",
        "idx1 = [0, 3, 6, 7]\n",
        "idx2 = [0, 1, 6, 5]\n",
        "\n",
        "img_array_1, img_array_2 = chooseCroppedImages(img1_c, img2_c, idx1, idx2)"
      ]
    },
    {
      "cell_type": "code",
      "execution_count": null,
      "metadata": {
        "id": "fT418PGWeNFI"
      },
      "outputs": [],
      "source": [
        "print()\n",
        "print()\n",
        "print(\"Translation: \", np.linalg.norm(positions[0] - positions[3]))\n",
        "print(\"Yaw difference: \", yaws[0]-yaws[3])\n",
        "\n",
        "hungarian_association(img_array_1, img_array_2)\n",
        "\n",
        "# print(\"Fails when overlap is present\")"
      ]
    },
    {
      "cell_type": "markdown",
      "metadata": {
        "id": "l221E2gjgUDp"
      },
      "source": [
        "## set 2\n"
      ]
    },
    {
      "cell_type": "markdown",
      "metadata": {
        "id": "cPNzEs5agdUo"
      },
      "source": [
        "### pos 1 v 2"
      ]
    },
    {
      "cell_type": "code",
      "execution_count": null,
      "metadata": {
        "id": "rZ2kErXCgYQE"
      },
      "outputs": [],
      "source": [
        "img1_c, bboxes1 = objectDetectionPipeline(\"/content/drive/MyDrive/da_assets/latest/20pc/view1/modified.png\", False)\n",
        "img2_c, bboxes2 = objectDetectionPipeline(\"/content/drive/MyDrive/da_assets/latest/20pc/view2/modified.png\", False)"
      ]
    },
    {
      "cell_type": "code",
      "execution_count": null,
      "metadata": {
        "id": "1kfiM5YggolL"
      },
      "outputs": [],
      "source": [
        "# [0.7111, 0.5793, 0.1453, 0.1310]\n",
        "idx1 = [i for i in range(len(img1_c))]\n",
        "idx2 = [i for i in range(len(img2_c))]\n",
        "\n",
        "idx1 = [0, 1, 2, 5,6]\n",
        "idx2 = [0, 1, 2, 4,5]\n",
        "\n",
        "img_array_1, img_array_2 = chooseCroppedImages(img1_c, img2_c, idx1, idx2)"
      ]
    },
    {
      "cell_type": "code",
      "execution_count": null,
      "metadata": {
        "id": "1ouJZqmSguCw"
      },
      "outputs": [],
      "source": [
        "print()\n",
        "print()\n",
        "print(\"Translation: \", np.linalg.norm(positions[0] - positions[1]))\n",
        "print(\"Yaw difference: \", yaws[0]-yaws[1])\n",
        "\n",
        "hungarian_association(img_array_1, img_array_2)\n",
        "\n",
        "print(\"Fails because of other objects present\")"
      ]
    },
    {
      "cell_type": "markdown",
      "metadata": {
        "id": "GsQra_-3v4DC"
      },
      "source": [
        "### pos 1 v 3"
      ]
    },
    {
      "cell_type": "code",
      "execution_count": null,
      "metadata": {
        "id": "MKv2SrKav2ha"
      },
      "outputs": [],
      "source": [
        "img1_c, bboxes1 = objectDetectionPipeline(\"/content/drive/MyDrive/da_assets/latest/20pc/view1/modified.png\", False)\n",
        "img2_c, bboxes2 = objectDetectionPipeline(\"/content/drive/MyDrive/da_assets/latest/20pc/view3/modified.png\", False)"
      ]
    },
    {
      "cell_type": "code",
      "execution_count": null,
      "metadata": {
        "id": "gqEyOnQ5v_U4"
      },
      "outputs": [],
      "source": [
        "# [0.7111, 0.5793, 0.1453, 0.1310]\n",
        "idx1 = [i for i in range(len(img1_c))]\n",
        "idx2 = [i for i in range(len(img2_c))]\n",
        "\n",
        "idx1 = [0, 1, 2, 6,5]\n",
        "idx2 = [1, 0, 3, 2,5]\n",
        "\n",
        "img_array_1, img_array_2 = chooseCroppedImages(img1_c, img2_c, idx1, idx2)"
      ]
    },
    {
      "cell_type": "code",
      "execution_count": null,
      "metadata": {
        "id": "21eX2m_NwCps"
      },
      "outputs": [],
      "source": [
        "print()\n",
        "print()\n",
        "print(\"Translation: \", np.linalg.norm(positions[0] - positions[2]))\n",
        "print(\"Yaw difference: \", yaws[0]-yaws[2])\n",
        "\n",
        "hungarian_association(img_array_1, img_array_2)\n",
        "\n",
        "print(\"Fails because of other objects present\")\n",
        "print(\"Object index 1 has a strong correct association but is matched incorrectly because of other objects not being matched correctly\")"
      ]
    },
    {
      "cell_type": "markdown",
      "metadata": {
        "id": "JJaRXbKZwSqA"
      },
      "source": [
        "### pos 1 v 4"
      ]
    },
    {
      "cell_type": "code",
      "execution_count": null,
      "metadata": {
        "id": "iKbIxnjSxNN-"
      },
      "outputs": [],
      "source": [
        "img1_c, bboxes1 = objectDetectionPipeline(\"/content/drive/MyDrive/da_assets/latest/20pc/view1/modified.png\", False)\n",
        "img2_c, bboxes2 = objectDetectionPipeline(\"/content/drive/MyDrive/da_assets/latest/20pc/view4/modified.png\", False)"
      ]
    },
    {
      "cell_type": "code",
      "execution_count": null,
      "metadata": {
        "id": "_sspntnCxLpJ"
      },
      "outputs": [],
      "source": [
        "# [0.7111, 0.5793, 0.1453, 0.1310]\n",
        "idx1 = [i for i in range(len(img1_c))]\n",
        "idx2 = [i for i in range(len(img2_c))]\n",
        "\n",
        "idx1 = [0, 1, 2, 5, 6]\n",
        "idx2 = [1, 0, 2, 5, 7]\n",
        "\n",
        "img_array_1, img_array_2 = chooseCroppedImages(img1_c, img2_c, idx1, idx2)"
      ]
    },
    {
      "cell_type": "code",
      "execution_count": null,
      "metadata": {
        "id": "BGVRkftNwdOf"
      },
      "outputs": [],
      "source": [
        "print()\n",
        "print()\n",
        "print(\"Translation: \", np.linalg.norm(positions[0] - positions[3]))\n",
        "print(\"Yaw difference: \", yaws[0]-yaws[3])\n",
        "\n",
        "hungarian_association(img_array_1, img_array_2)\n",
        "\n",
        "print(\"Fails because of other objects present\")"
      ]
    },
    {
      "cell_type": "markdown",
      "metadata": {
        "id": "Fs4_hTjsx_h0"
      },
      "source": [
        "### pos 1 vs 5"
      ]
    },
    {
      "cell_type": "code",
      "execution_count": null,
      "metadata": {
        "id": "DNz5kjxfyBG-"
      },
      "outputs": [],
      "source": [
        "img1_c, bboxes1 = objectDetectionPipeline(\"/content/drive/MyDrive/da_assets/latest/20pc/view1/modified.png\", False)\n",
        "img2_c, bboxes2 = objectDetectionPipeline(\"/content/drive/MyDrive/da_assets/latest/20pc/view5/modified.png\", False)"
      ]
    },
    {
      "cell_type": "code",
      "execution_count": null,
      "metadata": {
        "id": "P85rIDbxyCrG"
      },
      "outputs": [],
      "source": [
        "# [0.7111, 0.5793, 0.1453, 0.1310]\n",
        "idx1 = [i for i in range(len(img1_c))]\n",
        "idx2 = [i for i in range(len(img2_c))]\n",
        "\n",
        "idx1 = [0, 1, 2, 5, 6]\n",
        "idx2 = [0, 1, 2, 7, 6]\n",
        "\n",
        "img_array_1, img_array_2 = chooseCroppedImages(img1_c, img2_c, idx1, idx2)"
      ]
    },
    {
      "cell_type": "code",
      "execution_count": null,
      "metadata": {
        "id": "gjujc4wNyFAD"
      },
      "outputs": [],
      "source": [
        "print()\n",
        "print()\n",
        "print(\"Translation: \", np.linalg.norm(positions[0] - positions[4]))\n",
        "print(\"Yaw difference: \", yaws[0]-yaws[4])\n",
        "\n",
        "hungarian_association(img_array_1, img_array_2)\n",
        "\n",
        "print(\"Incorrect associations seen when the object is in the background of other objects\")"
      ]
    },
    {
      "cell_type": "markdown",
      "metadata": {
        "id": "Q_AK-Qf8ynTu"
      },
      "source": [
        "# Using distance information"
      ]
    },
    {
      "cell_type": "code",
      "execution_count": null,
      "metadata": {
        "id": "mLboS79nzZ1D"
      },
      "outputs": [],
      "source": [
        "depth_img = np.load('/content/drive/MyDrive/da_assets/latest/20pc/view1/original.npy')\n",
        "\n",
        "plt.imshow(depth_img, cmap='gray')\n",
        "plt.colorbar()  # Adds a colorbar to show the depth values\n",
        "plt.title(\"Depth Image\")\n",
        "plt.show()\n",
        "\n",
        "print(depth_img, np.max(depth_img), np.min(depth_img))"
      ]
    },
    {
      "cell_type": "code",
      "execution_count": null,
      "metadata": {
        "id": "RxoP_Ryo4WrJ"
      },
      "outputs": [],
      "source": [
        "image_path = \"/content/drive/MyDrive/da_assets/latest/20pc/view1/original.png\"\n",
        "\n",
        "# get keywords\n",
        "ram_transform = get_transform(image_size=384)\n",
        "ram_image = ram_transform(Image.open(image_path)).unsqueeze(0).to(device)\n",
        "\n",
        "res = inference(ram_image, ram_model)\n",
        "keywords = res[0].split(' | ')\n",
        "\n",
        "print(keywords)\n",
        "\n",
        "keywords = [i for i in keywords if (i != 'curtains') and (i != 'curtain')]\n",
        "\n",
        "# load images for dyno and sam\n",
        "image_source, image = load_image(image_path)\n",
        "cropped_images = []\n",
        "\n",
        "detected_boxes = getAllDetectedBoxes(image, image_source=image_source, keywords=keywords, show=False)\n",
        "bboxs, segmented_frame_masks = segment(image_source, sam_predictor, boxes=detected_boxes)"
      ]
    },
    {
      "cell_type": "code",
      "execution_count": null,
      "metadata": {
        "id": "GgaVaJvH5yZ3"
      },
      "outputs": [],
      "source": [
        "mask_test = np.copy(image_source)\n",
        "mask_test[segmented_frame_masks[0][0] == False] = 0\n",
        "\n",
        "print(segmented_frame_masks[0][0], segmented_frame_masks[0][0].shape)\n",
        "\n",
        "plt.imshow(mask_test)\n",
        "plt.show()\n",
        "\n",
        "\n",
        "depth_test = np.copy(depth_img)\n",
        "print(mask_test.shape, depth_test.shape, (segmented_frame_masks[0] == False).shape)\n",
        "\n",
        "depth_test[(segmented_frame_masks[0] == False).squeeze()] = 0\n",
        "plt.imshow(depth_test, cmap='gray')\n",
        "plt.show()"
      ]
    },
    {
      "cell_type": "code",
      "execution_count": null,
      "metadata": {
        "id": "VFZfRNMLDSYd"
      },
      "outputs": [],
      "source": [
        "a = np.array([1,2,3,4])\n",
        "b = np.array([1,0,0,1])\n",
        "\n",
        "# sum = np.sum(a[np.argwhere(b == 1)])\n",
        "np.where(b == 1, a, 0).sum()"
      ]
    },
    {
      "cell_type": "code",
      "execution_count": null,
      "metadata": {
        "id": "AgShPq1Q9aNx"
      },
      "outputs": [],
      "source": [
        "f = 300\n",
        "\n",
        "w, h = depth_test.shape\n",
        "\n",
        "row_wise = np.tile(np.linspace(-h/2, h/2, h, dtype=np.float), (w, 1))\n",
        "col_wise = np.tile(np.linspace(w/2, -w/2, w, dtype=np.float).reshape(1,-1).T, (1, h))\n",
        "\n",
        "X = row_wise * depth_img/f\n",
        "Y = col_wise * depth_img/f\n",
        "Z = depth_img\n",
        "\n",
        "# zeroth object centroid\n",
        "centroid0 = np.array([\n",
        "    np.where(segmented_frame_masks[0] == True, X, 0).sum(),\n",
        "    np.where(segmented_frame_masks[0] == True, Y, 0).sum(),\n",
        "    np.where(segmented_frame_masks[0] == True, depth_img, 0).sum()\n",
        "]) /np.where(segmented_frame_masks[0] == True, 1, 0).sum()\n",
        "\n",
        "centroid1 = np.array([\n",
        "    np.where(segmented_frame_masks[1] == True, X, 0).sum(),\n",
        "    np.where(segmented_frame_masks[1] == True, Y, 0).sum(),\n",
        "    np.where(segmented_frame_masks[1] == True, depth_img, 0).sum()\n",
        "]) /np.where(segmented_frame_masks[1] == True, 1, 0).sum()\n",
        "\n",
        "centroid2 = np.array([\n",
        "    np.where(segmented_frame_masks[2] == True, X, 0).sum(),\n",
        "    np.where(segmented_frame_masks[2] == True, Y, 0).sum(),\n",
        "    np.where(segmented_frame_masks[2] == True, depth_img, 0).sum()\n",
        "]) /np.where(segmented_frame_masks[2] == True, 1, 0).sum()\n",
        "\n",
        "# for i in range(w):\n",
        "#   for h in range(h):\n",
        "#     # X = z*x/f\n",
        "\n",
        "X1 = np.where(segmented_frame_masks[0] == True, X, 0).reshape(600,600)\n",
        "Y1 = np.where(segmented_frame_masks[0] == True, Y, 0).reshape(600,600)\n",
        "Z1 = np.where(segmented_frame_masks[0] == True, depth_img, 0).reshape(600,600)\n",
        "\n",
        "plt.title('X')\n",
        "plt.imshow(X1[:,200:])\n",
        "plt.colorbar()\n",
        "plt.show()\n",
        "\n",
        "plt.title('Y')\n",
        "plt.imshow(Y1[:,200:])\n",
        "plt.colorbar()\n",
        "plt.show()\n",
        "\n",
        "plt.title('Z')\n",
        "plt.imshow(Z1[:,200:])\n",
        "plt.colorbar()\n",
        "plt.show()\n",
        "\n",
        "print(centroid0)\n",
        "\n",
        "X1 = np.where(segmented_frame_masks[1] == True, X, 0).reshape(600,600)\n",
        "Y1 = np.where(segmented_frame_masks[1] == True, Y, 0).reshape(600,600)\n",
        "Z1 = np.where(segmented_frame_masks[1] == True, depth_img, 0).reshape(600,600)\n",
        "\n",
        "plt.title('X')\n",
        "plt.imshow(X1)\n",
        "plt.colorbar()\n",
        "plt.show()\n",
        "\n",
        "plt.title('Y')\n",
        "plt.imshow(Y1)\n",
        "plt.colorbar()\n",
        "plt.show()\n",
        "\n",
        "plt.title('Z')\n",
        "plt.imshow(Z1)\n",
        "plt.colorbar()\n",
        "plt.show()\n",
        "\n",
        "print(centroid1)\n",
        "\n",
        "X1 = np.where(segmented_frame_masks[2] == True, X, 0).reshape(600,600)\n",
        "Y1 = np.where(segmented_frame_masks[2] == True, Y, 0).reshape(600,600)\n",
        "Z1 = np.where(segmented_frame_masks[2] == True, depth_img, 0).reshape(600,600)\n",
        "\n",
        "plt.title('X')\n",
        "plt.imshow(X1)\n",
        "plt.colorbar()\n",
        "plt.show()\n",
        "\n",
        "plt.title('Y')\n",
        "plt.imshow(Y1)\n",
        "plt.colorbar()\n",
        "plt.show()\n",
        "\n",
        "plt.title('Z')\n",
        "plt.imshow(Z1)\n",
        "plt.colorbar()\n",
        "plt.show()\n",
        "\n",
        "print(centroid2)"
      ]
    },
    {
      "cell_type": "code",
      "execution_count": null,
      "metadata": {
        "id": "tRVigWMK8Jtn"
      },
      "outputs": [],
      "source": [
        "def rgbdPipeline(image_path, depth_path, show=False, f=300):\n",
        "  # get keywords\n",
        "  ram_transform = get_transform(image_size=384)\n",
        "  ram_image = ram_transform(Image.open(image_path)).unsqueeze(0).to(device)\n",
        "\n",
        "  res = inference(ram_image, ram_model)\n",
        "  keywords = res[0].split(' | ')\n",
        "\n",
        "  print(keywords)\n",
        "\n",
        "  keywords = [i for i in keywords if (i != 'curtains') and (i != 'curtain')]\n",
        "\n",
        "  # load images for dyno and sam\n",
        "  image_source, image = load_image(image_path)\n",
        "  cropped_images = []\n",
        "\n",
        "  detected_boxes = getAllDetectedBoxes(image, image_source=image_source, keywords=keywords, show=show)\n",
        "  bboxs, segmented_frame_masks = segment(image_source, sam_predictor, boxes=detected_boxes)\n",
        "\n",
        "  if len(bboxs) != len(detected_boxes):\n",
        "    print(\"\\n\\n\\n\\nMISSING STUFF\\nKHDSFKJHDSKFJLHDSKLJFHKLSDFH\\nKHDSFKJHDSKFJLHDSKLJFHKLSDFH\\n\\n\\n\\n\")\n",
        "\n",
        "  # obtain object centroids with framemasks and the depth image\n",
        "  depth_img = np.load(depth_path)\n",
        "\n",
        "  # get three X, Y, Z images, segment and average acc to masks\n",
        "  w, h = depth_img.shape\n",
        "  row_wise = np.tile(np.linspace(-h/2, h/2, h, dtype=np.float), (w, 1))\n",
        "  col_wise = np.tile(np.linspace(w/2, -w/2, w, dtype=np.float).reshape(1,-1).T, (1, h))\n",
        "\n",
        "  X = row_wise * depth_img/f\n",
        "  Y = col_wise * depth_img/f\n",
        "  Z = depth_img\n",
        "\n",
        "  centroids = []\n",
        "  for i, mask in enumerate(segmented_frame_masks):\n",
        "    # zeroth object centroid\n",
        "    centroid_i = np.array([\n",
        "        np.where(mask == True, X, 0).sum(),\n",
        "        np.where(mask == True, Y, 0).sum(),\n",
        "        np.where(mask == True, depth_img, 0).sum()\n",
        "    ]) /np.where(mask == True, 1, 0).sum()\n",
        "\n",
        "    centroids.append(centroid_i)\n",
        "\n",
        "    if show:\n",
        "      fig, axes = plt.subplots(1, 3, figsize=(9, 3))\n",
        "      axes[0].imshow(np.where(mask == True, X, 0).reshape(depth_img.shape[0],depth_img.shape[1]))\n",
        "      axes[0].set_title(\"X\")\n",
        "\n",
        "      axes[1].imshow(np.where(mask == True, Y, 0).reshape(depth_img.shape[0],depth_img.shape[1]))\n",
        "      axes[1].set_title(\"Y\")\n",
        "\n",
        "      axes[2].imshow(np.where(mask == True, Z, 0).reshape(depth_img.shape[0],depth_img.shape[1]))\n",
        "      axes[2].set_title(\"Z\")\n",
        "\n",
        "      plt.tight_layout()\n",
        "      plt.show()\n",
        "\n",
        "      print(\"Centroid: \", centroid_i)\n",
        "      print()\n",
        "\n",
        "  # convert boxes to xywh to be used later in the pipeline\n",
        "  H, W = image_source.shape[:2]\n",
        "  detected_boxes = detected_boxes * torch.Tensor([W, H, W, H])\n",
        "  # from xywh to xyxy\n",
        "  detected_boxes[:, :2] -= detected_boxes[:, 2:] / 2\n",
        "  detected_boxes[:, 2:] += detected_boxes[:, :2]\n",
        "\n",
        "  detected_boxes = detected_boxes.numpy().astype(int)\n",
        "\n",
        "  # print(bboxs)\n",
        "  # print(detected_boxes)\n",
        "\n",
        "  bboxs = bboxs.numpy().astype(int)\n",
        "  for idx in range(detected_boxes.shape[0]):\n",
        "    cropped_images.append(image_source[bboxs[idx][1]:bboxs[idx][3], bboxs[idx][0]:bboxs[idx][2]])\n",
        "  centroids = np.stack(centroids)\n",
        "\n",
        "  return cropped_images, bboxs, centroids"
      ]
    },
    {
      "cell_type": "code",
      "execution_count": null,
      "metadata": {
        "id": "7YEDbz_b0K67"
      },
      "outputs": [],
      "source": []
    },
    {
      "cell_type": "code",
      "execution_count": null,
      "metadata": {
        "id": "ru4AJi78V1S_"
      },
      "outputs": [],
      "source": [
        "from scipy.optimize import linear_sum_assignment\n",
        "from tqdm import tqdm\n",
        "from scipy.spatial.transform import Rotation\n",
        "\n",
        "def get_pose(pose1, pose2):\n",
        "    # Extract individual components of the pose\n",
        "    x, y, z, roll, pitch, yaw = (pose1 - pose2)\n",
        "\n",
        "    # Convert Euler angles to a rotation matrix\n",
        "    r = Rotation.from_euler('xyz', [roll, pitch, yaw], degrees=False)\n",
        "    rotation_matrix = r.as_matrix()\n",
        "\n",
        "    # Create the 4x4 transformation matrix\n",
        "    transformation_matrix = np.eye(4)\n",
        "    transformation_matrix[:3, :3] = rotation_matrix\n",
        "    transformation_matrix[:3, 3] = [x, y, z]\n",
        "\n",
        "    return transformation_matrix\n",
        "\n",
        "def rgbd_similarity(x, y, centroid1, centroid2, relative_transform, sigma=0.4):\n",
        "\n",
        "    # Ensure length of x and y are the same\n",
        "    if len(x) != len(y) :\n",
        "        return None\n",
        "\n",
        "    # Compute the dot product between x and y\n",
        "    dot_product = np.dot(x, y)\n",
        "\n",
        "    # Compute the L2 norms (magnitudes) of x and y\n",
        "    magnitude_x = np.linalg.norm(x)\n",
        "    magnitude_y = np.linalg.norm(y)\n",
        "\n",
        "    # Compute the cosine similarity\n",
        "    cosine_similarity = dot_product / (magnitude_x * magnitude_y)\n",
        "\n",
        "    # compute a term based on distance\n",
        "    if type(relative_transform) != None:\n",
        "      # transform 2nd centroid\n",
        "      centroid2_tx = (relative_transform @ np.array([centroid2[0], centroid2[1], centroid2[2], 1]))[:3]\n",
        "\n",
        "      print(centroid1, centroid2_tx)\n",
        "    else:\n",
        "      centroid2_tx = centroid2\n",
        "\n",
        "    dist = np.linalg.norm(centroid1 - centroid2_tx)\n",
        "    dist_term = np.exp(-dist / sigma)\n",
        "\n",
        "    similarity = (cosine_similarity + dist_term)/2\n",
        "\n",
        "    return similarity\n",
        "\n",
        "def rgbd_association(img_array_1, img_array_2, centroids1, centroids2, pose1, pose2, sigma=0.4):\n",
        "  # Comparing cosine similarity\n",
        "  if type(pose1) != None and type(pose2) != None:\n",
        "    relative_transform = get_pose(pose1, pose2)\n",
        "  else:\n",
        "    relative_transform = None\n",
        "\n",
        "  similarity_grid = np.zeros((len(img_array_1), len(img_array_2)), np.float)\n",
        "\n",
        "  with tqdm(total = len(img_array_1)+len(img_array_1)) as pbar:\n",
        "    emb1 = []\n",
        "    emb2 = []\n",
        "\n",
        "    for i, img1 in enumerate(img_array_1):\n",
        "      sam_predictor.set_image(img1)\n",
        "      img1_emb = sam_predictor.features.detach().cpu().numpy().flatten()\n",
        "      emb1.append(img1_emb)\n",
        "      pbar.update(1)\n",
        "\n",
        "    for j, img2 in enumerate(img_array_2):\n",
        "      sam_predictor.set_image(img2)\n",
        "      img2_emb = sam_predictor.features.detach().cpu().numpy().flatten()\n",
        "      emb2.append(img2_emb)\n",
        "      pbar.update(1)\n",
        "\n",
        "    # GET COSTS OVER HERE\n",
        "    for i, e1 in enumerate(emb1):\n",
        "      for j, e2 in enumerate(emb2):\n",
        "        similarity_grid[i,j] = rgbd_similarity(e1, e2, centroids1[i], centroids2[j], relative_transform, sigma=sigma)\n",
        "\n",
        "  # get graph\n",
        "  cost_matrix = - similarity_grid\n",
        "  row_idx, col_idx = linear_sum_assignment(cost_matrix)\n",
        "\n",
        "  print(row_idx, col_idx)\n",
        "  print(\"Hungarian algorithm\")\n",
        "  pairs = [i for i in zip(row_idx, col_idx)]\n",
        "\n",
        "  # similarity heatmap\n",
        "  plt.imshow(similarity_grid, cmap='hot', interpolation='nearest')\n",
        "\n",
        "  plt.colorbar()\n",
        "  plt.xlabel('Img 2')\n",
        "  plt.ylabel('Img 1')\n",
        "\n",
        "  for i in range(similarity_grid.shape[0]):\n",
        "    for j in range(similarity_grid.shape[1]):\n",
        "      text = f'{similarity_grid[i, j]:.2f}'  # Format score to two decimal placesg\n",
        "\n",
        "      if similarity_grid[i,j] > 0.5:\n",
        "        text_color = 'black'\n",
        "      else:\n",
        "        text_color = 'white'\n",
        "\n",
        "      if (i, j) in pairs:\n",
        "        text_color = 'blue'\n",
        "        text_weight = 'bold'\n",
        "      else:\n",
        "        text_weight=None\n",
        "\n",
        "      plt.text(j, i, text, ha='center', va='center', color=text_color, fontweight=text_weight)\n",
        "\n",
        "  plt.clim(0, 1);\n",
        "  plt.show()"
      ]
    },
    {
      "cell_type": "markdown",
      "metadata": {
        "id": "A0A7ekY-fv7n"
      },
      "source": [
        "## Compare using distance to not using it"
      ]
    },
    {
      "cell_type": "markdown",
      "metadata": {
        "id": "Pi1vwsfYf0Jk"
      },
      "source": [
        "### 20% moved, same view (1)"
      ]
    },
    {
      "cell_type": "code",
      "execution_count": null,
      "metadata": {
        "id": "LLmA8q5jOXdq"
      },
      "outputs": [],
      "source": [
        "img1_c, bboxes1, centroids1 = rgbdPipeline(\"/content/drive/MyDrive/da_assets/latest/20pc/view1/original.png\",\n",
        "                                        \"/content/drive/MyDrive/da_assets/latest/20pc/view1/original.npy\",\n",
        "                                        show=False ,\n",
        "                                        f=300)"
      ]
    },
    {
      "cell_type": "code",
      "execution_count": null,
      "metadata": {
        "id": "4c8BSN8PSoe2"
      },
      "outputs": [],
      "source": [
        "img2_c, bboxes2, centroids2 = rgbdPipeline(\"/content/drive/MyDrive/da_assets/latest/20pc/view1/modified.png\",\n",
        "                                        \"/content/drive/MyDrive/da_assets/latest/20pc/view1/modified.npy\",\n",
        "                                        show=True ,\n",
        "                                        f=300)"
      ]
    },
    {
      "cell_type": "code",
      "execution_count": null,
      "metadata": {
        "id": "28aM4SATSQXu"
      },
      "outputs": [],
      "source": [
        "# [0.7111, 0.5793, 0.1453, 0.1310]\n",
        "idx1 = [i for i in range(len(img1_c))]\n",
        "idx2 = [i for i in range(len(img2_c))]\n",
        "\n",
        "idx1 = [0, 1, 2, 5, 6]\n",
        "idx2 = [0, 1, 2, 6, 5]\n",
        "\n",
        "img_array_1, img_array_2 = chooseCroppedImages(img1_c, img2_c, idx1, idx2)\n",
        "centroid_array_1 = centroids1[idx1]\n",
        "centroid_array_2 = centroids2[idx2]\n",
        "\n",
        "print(centroid_array_1, centroid_array_2)"
      ]
    },
    {
      "cell_type": "code",
      "execution_count": null,
      "metadata": {
        "id": "yBA04UEzfg1K"
      },
      "outputs": [],
      "source": [
        "hungarian_association(img_array_1, img_array_2)"
      ]
    },
    {
      "cell_type": "code",
      "execution_count": null,
      "metadata": {
        "id": "oVqMwDCbaQs2"
      },
      "outputs": [],
      "source": [
        "rgbd_association(img_array_1, img_array_2, centroid_array_1, centroid_array_2, None, None, sigma=0.4)"
      ]
    },
    {
      "cell_type": "code",
      "execution_count": null,
      "metadata": {
        "id": "3uvcQyK6uZYJ"
      },
      "outputs": [],
      "source": [
        "rgbd_association(img_array_1, img_array_2, centroid_array_1, centroid_array_2, None, None, sigma=5)"
      ]
    },
    {
      "cell_type": "markdown",
      "metadata": {
        "id": "7HhW9P2Nf-xO"
      },
      "source": [
        "### 40% moved, same view (1)"
      ]
    },
    {
      "cell_type": "code",
      "execution_count": null,
      "metadata": {
        "id": "SkKL2Hs3f-xP"
      },
      "outputs": [],
      "source": [
        "img1_c, bboxes1, centroids1 = rgbdPipeline(\"/content/drive/MyDrive/da_assets/latest/40pc/view1/original.png\",\n",
        "                                        \"/content/drive/MyDrive/da_assets/latest/40pc/view1/original.npy\",\n",
        "                                        show=False ,\n",
        "                                        f=300)\n",
        "\n",
        "img2_c, bboxes2, centroids2 = rgbdPipeline(\"/content/drive/MyDrive/da_assets/latest/40pc/view1/modified.png\",\n",
        "                                        \"/content/drive/MyDrive/da_assets/latest/40pc/view1/modified.npy\",\n",
        "                                        show=False ,\n",
        "                                        f=300)"
      ]
    },
    {
      "cell_type": "code",
      "execution_count": null,
      "metadata": {
        "id": "Lm_e7AF1f-xQ"
      },
      "outputs": [],
      "source": [
        "# [0.7111, 0.5793, 0.1453, 0.1310]\n",
        "idx1 = [i for i in range(len(img1_c))]\n",
        "idx2 = [i for i in range(len(img2_c))]\n",
        "\n",
        "idx1 = [0, 1, 5, 2]\n",
        "idx2 = [0, 1, 4]\n",
        "\n",
        "img_array_1, img_array_2 = chooseCroppedImages(img1_c, img2_c, idx1, idx2)\n",
        "centroid_array_1 = centroids1[idx1]\n",
        "centroid_array_2 = centroids2[idx2]\n",
        "\n",
        "print(centroid_array_1, centroid_array_2)"
      ]
    },
    {
      "cell_type": "code",
      "execution_count": null,
      "metadata": {
        "id": "_V9fxbnwf-xR"
      },
      "outputs": [],
      "source": [
        "hungarian_association(img_array_1, img_array_2)"
      ]
    },
    {
      "cell_type": "code",
      "execution_count": null,
      "metadata": {
        "id": "1xez2zwxrLEl"
      },
      "outputs": [],
      "source": [
        "rgbd_association(img_array_1, img_array_2, centroid_array_1, centroid_array_2, None, None, sigma=10)"
      ]
    },
    {
      "cell_type": "markdown",
      "metadata": {
        "id": "sFj7Q4k_m4ki"
      },
      "source": [
        "### 60% same view (4)"
      ]
    },
    {
      "cell_type": "code",
      "execution_count": null,
      "metadata": {
        "id": "P0T2GeKwvfE2"
      },
      "outputs": [],
      "source": [
        "img1_c, bboxes1, centroids1 = rgbdPipeline(\"/content/drive/MyDrive/da_assets/latest/60pc/view4/original.png\",\n",
        "                                        \"/content/drive/MyDrive/da_assets/latest/60pc/view4/original.npy\",\n",
        "                                        show=False ,\n",
        "                                        f=300)\n",
        "\n",
        "img2_c, bboxes2, centroids2 = rgbdPipeline(\"/content/drive/MyDrive/da_assets/latest/60pc/view4/modified.png\",\n",
        "                                        \"/content/drive/MyDrive/da_assets/latest/60pc/view4/modified.npy\",\n",
        "                                        show=False ,\n",
        "                                        f=300)\n"
      ]
    },
    {
      "cell_type": "code",
      "execution_count": null,
      "metadata": {
        "id": "LywRmbPDvgV0"
      },
      "outputs": [],
      "source": [
        "# [0.7111, 0.5793, 0.1453, 0.1310]\n",
        "idx1 = [i for i in range(len(img1_c))]\n",
        "idx2 = [i for i in range(len(img2_c))]\n",
        "\n",
        "idx1 = [0, 1, 2, 6, 7]\n",
        "idx2 = [1, 0, 3, 6, 7]\n",
        "\n",
        "img_array_1, img_array_2 = chooseCroppedImages(img1_c, img2_c, idx1, idx2)\n",
        "centroid_array_1 = centroids1[idx1]\n",
        "centroid_array_2 = centroids2[idx2]\n",
        "\n",
        "print(centroid_array_1, centroid_array_2)"
      ]
    },
    {
      "cell_type": "code",
      "execution_count": null,
      "metadata": {
        "id": "4gmJKCFDn5D-"
      },
      "outputs": [],
      "source": [
        "hungarian_association(img_array_1, img_array_2)"
      ]
    },
    {
      "cell_type": "code",
      "execution_count": null,
      "metadata": {
        "id": "LKlehhYeoX6o"
      },
      "outputs": [],
      "source": [
        "rgbd_association(img_array_1, img_array_2, centroid_array_1, centroid_array_2, None, None, sigma=1.5)"
      ]
    },
    {
      "cell_type": "markdown",
      "metadata": {
        "id": "q38EbjWwtHQV"
      },
      "source": [
        "### 20%  pos 1 v 3"
      ]
    },
    {
      "cell_type": "code",
      "execution_count": null,
      "metadata": {
        "id": "D5ul88U9tKVT"
      },
      "outputs": [],
      "source": [
        "img1_c, bboxes1, centroids1 = rgbdPipeline(\"/content/drive/MyDrive/da_assets/latest/20pc/view1/modified.png\",\n",
        "                                        \"/content/drive/MyDrive/da_assets/latest/20pc/view1/modified.npy\",\n",
        "                                        show=False ,\n",
        "                                        f=300)\n",
        "\n",
        "img2_c, bboxes2, centroids2 = rgbdPipeline(\"/content/drive/MyDrive/da_assets/latest/20pc/view3/modified.png\",\n",
        "                                        \"/content/drive/MyDrive/da_assets/latest/20pc/view3/modified.npy\",\n",
        "                                        show=False ,\n",
        "                                        f=300)"
      ]
    },
    {
      "cell_type": "code",
      "execution_count": null,
      "metadata": {
        "id": "5GxqhBIswMZE"
      },
      "outputs": [],
      "source": [
        "# [0.7111, 0.5793, 0.1453, 0.1310]\n",
        "idx1 = [i for i in range(len(img1_c))]\n",
        "idx2 = [i for i in range(len(img2_c))]\n",
        "\n",
        "idx1 = [0, 1, 2, 5, 6]\n",
        "idx2 = [1, 0, 3, 5, 2]\n",
        "\n",
        "img_array_1, img_array_2 = chooseCroppedImages(img1_c, img2_c, idx1, idx2)\n",
        "centroid_array_1 = centroids1[idx1]\n",
        "centroid_array_2 = centroids2[idx2]\n",
        "\n",
        "print(centroid_array_1, centroid_array_2)"
      ]
    },
    {
      "cell_type": "code",
      "execution_count": null,
      "metadata": {
        "id": "9WiHhBhvyqBj"
      },
      "outputs": [],
      "source": [
        "hungarian_association(img_array_1, img_array_2)"
      ]
    },
    {
      "cell_type": "code",
      "execution_count": null,
      "metadata": {
        "id": "bRzAHiAfxIcr"
      },
      "outputs": [],
      "source": [
        "pose1 = np.array([-2.5, 0, 6.25, 0, np.pi, 0])\n",
        "pose2 = np.array([-4.5, 0, 3.25, 0, np.pi/2, 0])\n",
        "\n",
        "rgbd_association(img_array_1, img_array_2, centroid_array_1, centroid_array_2, pose1, pose2, sigma=0.4)"
      ]
    }
  ],
  "metadata": {
    "accelerator": "GPU",
    "colab": {
      "collapsed_sections": [
        "MQz1FQWpx7WH",
        "nGKyCfsQPVBv",
        "ZnY14wp1K8g2",
        "wqy4e3g5Qy_r",
        "Vsqf65jrS2AC",
        "cC46w6GpUVsF",
        "Cy4ozcRCnh3H",
        "OZNyPeJOZhIo",
        "31WgAQa6gQ-Q",
        "cPNzEs5agdUo",
        "GsQra_-3v4DC",
        "JJaRXbKZwSqA",
        "Fs4_hTjsx_h0"
      ],
      "provenance": [],
      "gpuType": "T4"
    },
    "kernelspec": {
      "display_name": "Python 3",
      "name": "python3"
    },
    "language_info": {
      "name": "python"
    }
  },
  "nbformat": 4,
  "nbformat_minor": 0
}